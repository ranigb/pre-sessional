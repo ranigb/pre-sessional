{
 "cells": [
  {
   "cell_type": "code",
   "execution_count": null,
   "metadata": {
    "execution": {
     "iopub.execute_input": "2021-07-15T19:07:55.833350Z",
     "iopub.status.busy": "2021-07-15T19:07:55.832364Z",
     "iopub.status.idle": "2021-07-15T19:07:56.306086Z",
     "shell.execute_reply": "2021-07-15T19:07:56.306719Z"
    }
   },
   "outputs": [],
   "source": [
    "import pybryt\n",
    "from lecture import ok, pybryt_reference"
   ]
  },
  {
   "cell_type": "markdown",
   "metadata": {
    "nbpresent": {
     "id": "82db8e87-ce21-4456-a53a-3f54a2fee020"
    },
    "slideshow": {
     "slide_type": "slide"
    }
   },
   "source": [
    "# Introduction to programming in Python\n",
    "\n",
    "# Lecture 2"
   ]
  },
  {
   "cell_type": "markdown",
   "metadata": {
    "nbpresent": {
     "id": "c9ae4148-a67c-4845-91ec-d17016071d1f"
    },
    "slideshow": {
     "slide_type": "slide"
    }
   },
   "source": [
    "Learning objectives:\n",
    "\n",
    "* Learn how to modify elements in a list.\n",
    "* Learn how to iterate through different combinations of lists.\n",
    "* Know how to use a *tuple* to store data elements and understand how it differs from a *list*.\n",
    "* Know the difference between locally-scoped and globally-scoped variables.\n",
    "* Be able to use an *if* statement to execute some code blocks conditionally.\n",
    "* Learn how to compute using [Numerical Python (*NumPy*)](http://www.numpy.org/).\n",
    "* Know how to handle multidimensional arrays."
   ]
  },
  {
   "cell_type": "markdown",
   "metadata": {
    "nbpresent": {
     "id": "f2af93fa-2e4b-46f7-b762-cf6df11749f8"
    },
    "slideshow": {
     "slide_type": "slide"
    }
   },
   "source": [
    "# Changing elements in a list\n",
    "Let's say we want to add 2 to all the numbers in a list:"
   ]
  },
  {
   "cell_type": "code",
   "execution_count": null,
   "metadata": {
    "execution": {
     "iopub.execute_input": "2021-07-15T19:07:56.311121Z",
     "iopub.status.busy": "2021-07-15T19:07:56.310327Z",
     "iopub.status.idle": "2021-07-15T19:07:56.316766Z",
     "shell.execute_reply": "2021-07-15T19:07:56.316442Z"
    },
    "nbpresent": {
     "id": "4f4e8e71-aebe-4191-9f6f-f456945d3e9f"
    },
    "slideshow": {
     "slide_type": "fragment"
    }
   },
   "outputs": [],
   "source": [
    "v = [-1, 1, 10]\n",
    "for e in v:\n",
    "    e += 2  # note that e += 2 is equivalent to e = e + 2\n",
    "print(v)"
   ]
  },
  {
   "cell_type": "markdown",
   "metadata": {
    "nbpresent": {
     "id": "1e66489c-88c3-4112-b9d1-37eb8b1970a3"
    },
    "slideshow": {
     "slide_type": "subslide"
    }
   },
   "source": [
    "We can see that the list `v` is unaltered! This is because inside the loop, `e` is an ordinary (`int`) variable. At the start of the iteration, `e` is assigned a *copy* of the next element in the list. Inside the loop, we can change `e`, but `v` remains unaltered. If we want to change `v`, we have to use an index to access and modify its elements:"
   ]
  },
  {
   "cell_type": "code",
   "execution_count": null,
   "metadata": {
    "execution": {
     "iopub.execute_input": "2021-07-15T19:07:56.321207Z",
     "iopub.status.busy": "2021-07-15T19:07:56.320722Z",
     "iopub.status.idle": "2021-07-15T19:07:56.325954Z",
     "shell.execute_reply": "2021-07-15T19:07:56.325579Z"
    },
    "nbpresent": {
     "id": "06618fed-61ff-443d-b1f2-0777a4719338"
    },
    "slideshow": {
     "slide_type": "fragment"
    }
   },
   "outputs": [],
   "source": [
    "v[1] = 4  # assign 4 to the 2nd element (index 1) in v\n",
    "print(v)"
   ]
  },
  {
   "cell_type": "markdown",
   "metadata": {
    "nbpresent": {
     "id": "7ede01a3-9bb3-4a8a-9aa0-a31f76e8b424"
    },
    "slideshow": {
     "slide_type": "subslide"
    }
   },
   "source": [
    "To add 2 to all values we need a `for` loop over indices:"
   ]
  },
  {
   "cell_type": "code",
   "execution_count": null,
   "metadata": {
    "execution": {
     "iopub.execute_input": "2021-07-15T19:07:56.329278Z",
     "iopub.status.busy": "2021-07-15T19:07:56.328856Z",
     "iopub.status.idle": "2021-07-15T19:07:56.334272Z",
     "shell.execute_reply": "2021-07-15T19:07:56.334579Z"
    },
    "nbpresent": {
     "id": "0358d409-1512-43e9-a94b-147ca8d61701"
    },
    "slideshow": {
     "slide_type": "fragment"
    }
   },
   "outputs": [],
   "source": [
    "for i in range(len(v)):\n",
    "    v[i] = v[i] + 2\n",
    "print(v)"
   ]
  },
  {
   "cell_type": "markdown",
   "metadata": {},
   "source": [
    "Note that this time we iterate over the indices of the list elements\n",
    "\n",
    "```python\n",
    "for i in range(len(v)):\n",
    "    ...\n",
    "```\n",
    "\n",
    "instead of iterating over the values of elements in the list\n",
    "\n",
    "```python\n",
    "for e in v:\n",
    "    ...\n",
    "```"
   ]
  },
  {
   "cell_type": "markdown",
   "metadata": {
    "nbpresent": {
     "id": "e6d3aa98-dde7-4c7e-ae3d-a077d553fb3d"
    }
   },
   "source": [
    "## Exercise 2.1: Create a list and modify it.\n",
    "\n",
    "Write a Python function `mult(vector, n)` which takes list `vector` and number `n` as an input arguments. The function should multiply each element in the list by `n` using a `for` loop and return the resulting list."
   ]
  },
  {
   "cell_type": "code",
   "execution_count": null,
   "metadata": {
    "execution": {
     "iopub.execute_input": "2021-07-15T19:07:56.337868Z",
     "iopub.status.busy": "2021-07-15T19:07:56.337163Z",
     "iopub.status.idle": "2021-07-15T19:07:56.338672Z",
     "shell.execute_reply": "2021-07-15T19:07:56.339016Z"
    },
    "nbpresent": {
     "id": "8183a872-d8d8-4a55-a14e-fd98afa3ecfc"
    }
   },
   "outputs": [],
   "source": [
    "# Uncomment and modify the following lines. Do not change any variable names for testing purposes.\n",
    "\n",
    "# def mult(vector, n):\n",
    "#     ..."
   ]
  },
  {
   "cell_type": "code",
   "execution_count": null,
   "metadata": {
    "execution": {
     "iopub.execute_input": "2021-07-15T19:07:56.349437Z",
     "iopub.status.busy": "2021-07-15T19:07:56.348955Z",
     "iopub.status.idle": "2021-07-15T19:07:56.357746Z",
     "shell.execute_reply": "2021-07-15T19:07:56.357416Z"
    },
    "tags": [
     "pybryt"
    ]
   },
   "outputs": [],
   "source": [
    "with pybryt.check(pybryt_reference(2, 1)):\n",
    "    mult([2.1, 99.9, -10, 2], 3)"
   ]
  },
  {
   "cell_type": "code",
   "execution_count": null,
   "metadata": {
    "execution": {
     "iopub.execute_input": "2021-07-15T19:07:56.363239Z",
     "iopub.status.busy": "2021-07-15T19:07:56.362838Z",
     "iopub.status.idle": "2021-07-15T19:07:56.378526Z",
     "shell.execute_reply": "2021-07-15T19:07:56.378811Z"
    },
    "nbpresent": {
     "id": "1d0a4d7c-b292-486a-b84e-61c3a65b5c4e"
    },
    "tags": [
     "okpy"
    ]
   },
   "outputs": [],
   "source": [
    "ok.grade('exercise-2_1')"
   ]
  },
  {
   "cell_type": "markdown",
   "metadata": {
    "nbpresent": {
     "id": "19cc8075-dfee-473f-912e-ec504dcde2f0"
    },
    "slideshow": {
     "slide_type": "slide"
    }
   },
   "source": [
    "## Traversing multiple lists simultaneously: `zip(list1, list2, ...)`\n",
    "Let us consider how we can loop over elements in both `Cdegrees` and `Fdegrees` at the same time. One approach would be to use list indices:"
   ]
  },
  {
   "cell_type": "code",
   "execution_count": null,
   "metadata": {
    "execution": {
     "iopub.execute_input": "2021-07-15T19:07:56.392603Z",
     "iopub.status.busy": "2021-07-15T19:07:56.392066Z",
     "iopub.status.idle": "2021-07-15T19:07:56.420298Z",
     "shell.execute_reply": "2021-07-15T19:07:56.410368Z"
    },
    "nbpresent": {
     "id": "6c699b8c-adcb-4a73-a1fa-b3c9bd61e2d6"
    },
    "slideshow": {
     "slide_type": "fragment"
    }
   },
   "outputs": [],
   "source": [
    "# First, we have to recreate the data from the previous lecture\n",
    "Cdegrees = [deg for deg in range(-20, 41, 5)]\n",
    "Fdegrees = [(9/5)*deg + 32 for deg in Cdegrees]\n",
    "\n",
    "for i in range(len(Cdegrees)):\n",
    "    print(Cdegrees[i], Fdegrees[i])"
   ]
  },
  {
   "cell_type": "markdown",
   "metadata": {
    "nbpresent": {
     "id": "f3a61755-9040-4250-bddf-09ba66d940ad"
    },
    "slideshow": {
     "slide_type": "subslide"
    }
   },
   "source": [
    "An alternative construct, regarded as more ”Pythonic”, uses the `zip` function:"
   ]
  },
  {
   "cell_type": "code",
   "execution_count": null,
   "metadata": {
    "execution": {
     "iopub.execute_input": "2021-07-15T19:07:56.423480Z",
     "iopub.status.busy": "2021-07-15T19:07:56.423005Z",
     "iopub.status.idle": "2021-07-15T19:07:56.456009Z",
     "shell.execute_reply": "2021-07-15T19:07:56.446940Z"
    },
    "nbpresent": {
     "id": "a3b3c9c8-b797-4bcb-8af0-301a0c2e81c1"
    },
    "slideshow": {
     "slide_type": "fragment"
    }
   },
   "outputs": [],
   "source": [
    "for C, F in zip(Cdegrees, Fdegrees):\n",
    "    print(C, F)"
   ]
  },
  {
   "cell_type": "markdown",
   "metadata": {
    "nbpresent": {
     "id": "c38f5999-bdd5-4eba-b8b7-036d6883f1ff"
    },
    "slideshow": {
     "slide_type": "subslide"
    }
   },
   "source": [
    "Using `zip`, we can also traverse three lists simultaneously:"
   ]
  },
  {
   "cell_type": "code",
   "execution_count": null,
   "metadata": {
    "execution": {
     "iopub.execute_input": "2021-07-15T19:07:56.458932Z",
     "iopub.status.busy": "2021-07-15T19:07:56.458575Z",
     "iopub.status.idle": "2021-07-15T19:07:56.468167Z",
     "shell.execute_reply": "2021-07-15T19:07:56.467792Z"
    },
    "nbpresent": {
     "id": "dfad409b-2ca3-4c4c-9578-4a3dfb1f1949"
    },
    "slideshow": {
     "slide_type": "fragment"
    }
   },
   "outputs": [],
   "source": [
    "l1 = [3, 6, 1]; l2 = [1.5, 1, 0]; l3 = [9.1, 3, 2]\n",
    "\n",
    "for e1, e2, e3 in zip(l1, l2, l3):\n",
    "    print(f'e1: {e1}, e2: {e2}, e3: {e3}')"
   ]
  },
  {
   "cell_type": "markdown",
   "metadata": {
    "nbpresent": {
     "id": "87213cfd-ba47-4fab-88e8-917cd5c5f183"
    },
    "slideshow": {
     "slide_type": "subslide"
    }
   },
   "source": [
    "If the lists are of unequal length, then the loop stops when we reach the end of the shortest list. Experiment with this:"
   ]
  },
  {
   "cell_type": "code",
   "execution_count": null,
   "metadata": {
    "execution": {
     "iopub.execute_input": "2021-07-15T19:07:56.472519Z",
     "iopub.status.busy": "2021-07-15T19:07:56.472172Z",
     "iopub.status.idle": "2021-07-15T19:07:56.478618Z",
     "shell.execute_reply": "2021-07-15T19:07:56.478968Z"
    },
    "nbpresent": {
     "id": "720d5ba3-4001-4abe-8956-a125c1f35845"
    },
    "slideshow": {
     "slide_type": "fragment"
    }
   },
   "outputs": [],
   "source": [
    "l1 = [3, 6, 1, 4, 6]  # len(l1) == 5\n",
    "l2 = [1.5, 1, 0, 7]  # len(l1) == 4\n",
    "l3 = [9.1, 3, 2, 0, 9]  # len(l1) == 5\n",
    "\n",
    "for e1, e2, e3 in zip(l1, l2, l3):\n",
    "    print(f'e1: {e1}, e2: {e2}, e3: {e3}')"
   ]
  },
  {
   "cell_type": "markdown",
   "metadata": {
    "nbpresent": {
     "id": "8ab146b4-7ec7-45b3-88a4-49860f5b6cc6"
    },
    "slideshow": {
     "slide_type": "slide"
    }
   },
   "source": [
    "## Nested lists: list of lists\n",
    "A `list` can contain **any** object, including another `list`. To illustrate this, consider storing the conversion table as a single Python list rather than two separate lists."
   ]
  },
  {
   "cell_type": "code",
   "execution_count": null,
   "metadata": {
    "execution": {
     "iopub.execute_input": "2021-07-15T19:07:56.482921Z",
     "iopub.status.busy": "2021-07-15T19:07:56.482575Z",
     "iopub.status.idle": "2021-07-15T19:07:56.497034Z",
     "shell.execute_reply": "2021-07-15T19:07:56.496294Z"
    },
    "nbpresent": {
     "id": "a6fcd4d1-9f61-4b3b-8ec3-12843952ec20"
    },
    "slideshow": {
     "slide_type": "fragment"
    }
   },
   "outputs": [],
   "source": [
    "Cdegrees = [C for C in range(-20, 41, 5)]\n",
    "Fdegrees = [(9/5)*C + 32 for C in Cdegrees]\n",
    "table1 = [Cdegrees, Fdegrees]  # List of two lists\n",
    "\n",
    "print(\"table1 = \", table1)\n",
    "print(\"table1[0] = \", table1[0])  # access the first element of list table1 - Cdegrees list\n",
    "print(\"table1[1] = \", table1[1])  # access the second element of list table1 - Fdegrees list\n",
    "print(\"table1[1][3] = \", table1[1][3])  # access 4th element in the 2nd list"
   ]
  },
  {
   "cell_type": "markdown",
   "metadata": {
    "nbpresent": {
     "id": "89a35110-151d-4836-8dde-76da53991134"
    },
    "slideshow": {
     "slide_type": "subslide"
    }
   },
   "source": [
    "This gives us a table with two rows. How do we create a table of columns instead:"
   ]
  },
  {
   "cell_type": "code",
   "execution_count": null,
   "metadata": {
    "execution": {
     "iopub.execute_input": "2021-07-15T19:07:56.500336Z",
     "iopub.status.busy": "2021-07-15T19:07:56.499843Z",
     "iopub.status.idle": "2021-07-15T19:07:56.505320Z",
     "shell.execute_reply": "2021-07-15T19:07:56.504907Z"
    },
    "nbpresent": {
     "id": "950a8775-cf1b-4b7b-a571-b79406b0f1e5"
    },
    "slideshow": {
     "slide_type": "fragment"
    }
   },
   "outputs": [],
   "source": [
    "table2 = []\n",
    "for C, F in zip(Cdegrees, Fdegrees):\n",
    "    row = [C, F]\n",
    "    table2.append(row)\n",
    "\n",
    "print(table2)"
   ]
  },
  {
   "cell_type": "markdown",
   "metadata": {
    "nbpresent": {
     "id": "51044f5c-75c9-4bdc-be04-0c8953317416"
    },
    "slideshow": {
     "slide_type": "subslide"
    }
   },
   "source": [
    "We can also use list comprehension to do this more elegantly:"
   ]
  },
  {
   "cell_type": "code",
   "execution_count": null,
   "metadata": {
    "execution": {
     "iopub.execute_input": "2021-07-15T19:07:56.508389Z",
     "iopub.status.busy": "2021-07-15T19:07:56.507988Z",
     "iopub.status.idle": "2021-07-15T19:07:56.511876Z",
     "shell.execute_reply": "2021-07-15T19:07:56.511536Z"
    },
    "nbpresent": {
     "id": "c747c897-af59-46a2-b52f-de9dcd1b7762"
    },
    "slideshow": {
     "slide_type": "fragment"
    }
   },
   "outputs": [],
   "source": [
    "table2 = [[C, F] for C, F in zip(Cdegrees, Fdegrees)]\n",
    "print(table2)"
   ]
  },
  {
   "cell_type": "markdown",
   "metadata": {
    "nbpresent": {
     "id": "b7dd1233-53f8-43ed-ba94-fbca4f4def19"
    },
    "slideshow": {
     "slide_type": "subslide"
    }
   },
   "source": [
    "And we can loop through this list as before:"
   ]
  },
  {
   "cell_type": "code",
   "execution_count": null,
   "metadata": {
    "execution": {
     "iopub.execute_input": "2021-07-15T19:07:56.516599Z",
     "iopub.status.busy": "2021-07-15T19:07:56.516112Z",
     "iopub.status.idle": "2021-07-15T19:07:56.548977Z",
     "shell.execute_reply": "2021-07-15T19:07:56.538974Z"
    },
    "nbpresent": {
     "id": "3eeeb7bf-67f7-49bc-88a3-11ccff9a3a6d"
    },
    "slideshow": {
     "slide_type": "fragment"
    }
   },
   "outputs": [],
   "source": [
    "for C, F in table2:\n",
    "    print(C, F)"
   ]
  },
  {
   "cell_type": "markdown",
   "metadata": {},
   "source": [
    "Since elements of `table2` are length-2 lists, in each iteration, we *unpack* each of the length-2 elements to `C` and `F`."
   ]
  },
  {
   "cell_type": "markdown",
   "metadata": {
    "nbpresent": {
     "id": "0fc837cc-fdec-435c-8ccf-a22a7a743a0d"
    },
    "slideshow": {
     "slide_type": "slide"
    }
   },
   "source": [
    "## Tuples: lists that cannot be changed\n",
    "\n",
    "Tuples are **constant** lists, i.e. we can use them in much the same way as lists except we cannot modify them. They are an example of an [**immutable**](http://en.wikipedia.org/wiki/Immutable_object) type."
   ]
  },
  {
   "cell_type": "code",
   "execution_count": null,
   "metadata": {
    "execution": {
     "iopub.execute_input": "2021-07-15T19:07:56.551608Z",
     "iopub.status.busy": "2021-07-15T19:07:56.551266Z",
     "iopub.status.idle": "2021-07-15T19:07:56.553905Z",
     "shell.execute_reply": "2021-07-15T19:07:56.554263Z"
    },
    "nbpresent": {
     "id": "0095674c-61c3-4972-a8dd-47a223010482"
    },
    "slideshow": {
     "slide_type": "fragment"
    }
   },
   "outputs": [],
   "source": [
    "t = (2, 4, 6, 'temp.pdf')  # Define a tuple.\n",
    "t = 2, 4, 6, 'temp.pdf'  # Can skip parenthesis as it is assumed in this context."
   ]
  },
  {
   "cell_type": "markdown",
   "metadata": {
    "nbpresent": {
     "id": "032624f9-fdc9-488f-881c-9a1329ca393c"
    },
    "slideshow": {
     "slide_type": "subslide"
    }
   },
   "source": [
    "Let us see what happens when we try to modify the tuple like we did with a list:"
   ]
  },
  {
   "cell_type": "markdown",
   "metadata": {
    "nbpresent": {
     "id": "56f3d86e-714a-4475-8540-605cf08aadcd"
    },
    "slideshow": {
     "slide_type": "fragment"
    }
   },
   "source": [
    "```python\n",
    "t[1] = -1\n",
    "\n",
    "---------------------------------------------------------------------------\n",
    "TypeError                                 Traceback (most recent call last)\n",
    "<ipython-input-3-593c03edf054> in <module>()\n",
    "----> 1 t[1] = -1\n",
    "\n",
    "TypeError: 'tuple' object does not support item assignment\n",
    "```"
   ]
  },
  {
   "cell_type": "markdown",
   "metadata": {
    "nbpresent": {
     "id": "dfdb2267-7c95-466a-8bc4-9ebddd4bfd23"
    },
    "slideshow": {
     "slide_type": "subslide"
    }
   },
   "source": [
    "```python\n",
    "t.append(0)\n",
    "\n",
    "---------------------------------------------------------------------------\n",
    "AttributeError                            Traceback (most recent call last)\n",
    "<ipython-input-19-78592bf72d62> in <module>()\n",
    "----> 1 t.append(0)\n",
    "\n",
    "AttributeError: 'tuple' object has no attribute 'append'\n",
    "```"
   ]
  },
  {
   "cell_type": "markdown",
   "metadata": {
    "nbpresent": {
     "id": "58223f11-d1d1-4857-850b-8d0749d15fc9"
    },
    "slideshow": {
     "slide_type": "subslide"
    }
   },
   "source": [
    "```python\n",
    "del t[1]\n",
    "\n",
    "---------------------------------------------------------------------------\n",
    "TypeError                                 Traceback (most recent call last)\n",
    "<ipython-input-20-0193a527a912> in <module>()\n",
    "----> 1 del t[1]\n",
    "\n",
    "TypeError: 'tuple' object doesn't support item deletion\n",
    "```"
   ]
  },
  {
   "cell_type": "markdown",
   "metadata": {
    "nbpresent": {
     "id": "6786d3d8-b078-416b-9ea0-4da6945520bd"
    },
    "slideshow": {
     "slide_type": "subslide"
    }
   },
   "source": [
    "However, we can use the tuple to compose a new tuple:"
   ]
  },
  {
   "cell_type": "code",
   "execution_count": null,
   "metadata": {
    "execution": {
     "iopub.execute_input": "2021-07-15T19:07:56.557670Z",
     "iopub.status.busy": "2021-07-15T19:07:56.557187Z",
     "iopub.status.idle": "2021-07-15T19:07:56.562009Z",
     "shell.execute_reply": "2021-07-15T19:07:56.561663Z"
    },
    "nbpresent": {
     "id": "a1b2cfa3-a234-4439-bd21-d717ff867609"
    },
    "slideshow": {
     "slide_type": "fragment"
    }
   },
   "outputs": [],
   "source": [
    "t = t + (-1.0, -2.0)\n",
    "print(t)"
   ]
  },
  {
   "cell_type": "markdown",
   "metadata": {
    "nbpresent": {
     "id": "fde43ef7-d6f0-4e00-93c6-0d1df9df3854"
    },
    "slideshow": {
     "slide_type": "subslide"
    }
   },
   "source": [
    "So, why would we use tuples when lists have more functionality?\n",
    "\n",
    "* Tuples are constant and thus *protected against accidental changes*.\n",
    "* Tuples are *faster* than lists.\n",
    "* Tuples are *widely used* in Python software (so you need to know about tuples to understand other people's code!)\n",
    "* Tuples (but not lists) can be used as *keys in dictionaries* (more about dictionaries later)."
   ]
  },
  {
   "cell_type": "markdown",
   "metadata": {
    "nbpresent": {
     "id": "490e889a-3913-458b-8370-2fb16070b37d"
    },
    "slideshow": {
     "slide_type": "slide"
    }
   },
   "source": [
    "## Exercise 2.2: Make a table (a list of lists) of function values\n",
    "\n",
    "* Write a loop that evaluates the expression $y(t) = v_0 t − {1\\over2}gt^2$ for 11 evenly spaced $t$ values ranging from $0$, to $2v_0/g$ (remember that dividing a range into $n$ intervals results in $n+1$ values). You can assume that $v_0 = 1\\,$ms$^{-1}$ and $g = 9.81\\,$ms$^{-2}$.\n",
    "* Store the time values and displacement ($y$) values as a nested list, i.e.\n",
    "```python\n",
    "tlist = [t0, t1, t2, ...]\n",
    "ylist = [y0, y1, y2, ...]\n",
    "displacement = [tlist, ylist]\n",
    "```\n",
    "* Use the variable names `tlist`, `ylist` and `displacement` as illustrated in the above example for testing purposes."
   ]
  },
  {
   "cell_type": "code",
   "execution_count": null,
   "metadata": {
    "execution": {
     "iopub.execute_input": "2021-07-15T19:07:56.564768Z",
     "iopub.status.busy": "2021-07-15T19:07:56.564324Z",
     "iopub.status.idle": "2021-07-15T19:07:56.566883Z",
     "shell.execute_reply": "2021-07-15T19:07:56.567149Z"
    },
    "nbpresent": {
     "id": "270a3317-0720-4cb3-8a81-083445ec3330"
    },
    "slideshow": {
     "slide_type": "subslide"
    }
   },
   "outputs": [],
   "source": [
    "# Uncomment and modify the following lines. Do not change variable names for testing purposes.\n",
    "\n",
    "# tlist = ...\n",
    "# ylist = ...\n",
    "# displacement = ..."
   ]
  },
  {
   "cell_type": "code",
   "execution_count": null,
   "metadata": {
    "execution": {
     "iopub.execute_input": "2021-07-15T19:07:56.574852Z",
     "iopub.status.busy": "2021-07-15T19:07:56.574461Z",
     "iopub.status.idle": "2021-07-15T19:07:56.581393Z",
     "shell.execute_reply": "2021-07-15T19:07:56.580992Z"
    },
    "tags": [
     "pybryt"
    ]
   },
   "outputs": [],
   "source": [
    "with pybryt.check(pybryt_reference(2, 2)):\n",
    "    tlist, ylist, displacement"
   ]
  },
  {
   "cell_type": "code",
   "execution_count": null,
   "metadata": {
    "execution": {
     "iopub.execute_input": "2021-07-15T19:07:56.586233Z",
     "iopub.status.busy": "2021-07-15T19:07:56.585661Z",
     "iopub.status.idle": "2021-07-15T19:07:56.607993Z",
     "shell.execute_reply": "2021-07-15T19:07:56.607682Z"
    },
    "nbpresent": {
     "id": "4a1ad97a-50a1-4a52-83ea-a240da7bce2c"
    },
    "tags": [
     "okpy"
    ]
   },
   "outputs": [],
   "source": [
    "ok.grade('exercise-2_2')"
   ]
  },
  {
   "cell_type": "markdown",
   "metadata": {
    "nbpresent": {
     "id": "e5c7ed02-153d-409a-a595-93528696a35e"
    },
    "slideshow": {
     "slide_type": "slide"
    }
   },
   "source": [
    "## The `if` construct\n",
    "Let us consider we need to program the following function:\n",
    "$$\n",
    "f(x)= \n",
    "\\begin{cases}\n",
    "    \\sin(x),& \\text{if } 0 \\leq x \\leq \\pi\\\\\n",
    "    0,              & \\text{otherwise}\n",
    "\\end{cases}\n",
    "$$\n",
    "To do this, we need the `if` construct:"
   ]
  },
  {
   "cell_type": "code",
   "execution_count": null,
   "metadata": {
    "execution": {
     "iopub.execute_input": "2021-07-15T19:07:56.620682Z",
     "iopub.status.busy": "2021-07-15T19:07:56.620282Z",
     "iopub.status.idle": "2021-07-15T19:07:56.630257Z",
     "shell.execute_reply": "2021-07-15T19:07:56.629917Z"
    },
    "nbpresent": {
     "id": "b3ce7c44-884a-4602-94b1-e647ddf5ac88"
    },
    "slideshow": {
     "slide_type": "fragment"
    }
   },
   "outputs": [],
   "source": [
    "from math import sin, pi\n",
    "\n",
    "\n",
    "def f(x):\n",
    "    if 0 <= x <= pi:\n",
    "        return sin(x)\n",
    "    else:\n",
    "        return 0\n",
    "\n",
    "\n",
    "print('f(-pi/2) =', f(-pi/2))\n",
    "print('f(pi/2) =', f(pi/2))\n",
    "print('f(3*pi/2) =', f(3*pi/2))"
   ]
  },
  {
   "cell_type": "markdown",
   "metadata": {
    "nbpresent": {
     "id": "3abe0d4c-8b40-4710-8198-c60707fe67a5"
    },
    "slideshow": {
     "slide_type": "subslide"
    }
   },
   "source": [
    "Please note the indentations we used to define which statements belong to which condition. Sometimes, it is clearer to write this as an *inline* statement:"
   ]
  },
  {
   "cell_type": "code",
   "execution_count": null,
   "metadata": {
    "execution": {
     "iopub.execute_input": "2021-07-15T19:07:56.633484Z",
     "iopub.status.busy": "2021-07-15T19:07:56.633015Z",
     "iopub.status.idle": "2021-07-15T19:07:56.645717Z",
     "shell.execute_reply": "2021-07-15T19:07:56.645369Z"
    },
    "nbpresent": {
     "id": "1f47e475-25a2-4a5b-89dd-7f66d2f4b30f"
    },
    "slideshow": {
     "slide_type": "fragment"
    }
   },
   "outputs": [],
   "source": [
    "def f(x):\n",
    "    return (sin(x) if 0 <= x <= pi else 0)\n",
    "\n",
    "\n",
    "print('f(-pi/2) =', f(-pi/2))\n",
    "print('f(pi/2) =', f(pi/2))\n",
    "print('f(3*pi/2) =', f(3*pi/2))"
   ]
  },
  {
   "cell_type": "markdown",
   "metadata": {
    "nbpresent": {
     "id": "8f2b5db4-b6d4-460e-a902-a8cbc99fef87"
    },
    "slideshow": {
     "slide_type": "subslide"
    }
   },
   "source": [
    "The *else* block can be skipped if there are no statements to be executed when `False`. In general, we can put together multiple conditions. Only the first condition that is `True` is executed.\n",
    "\n",
    "```python\n",
    "if condition1:\n",
    "    <block of statements, executed if condition1 is True>\n",
    "elif condition2:\n",
    "    <block of statements, executed if condition1 is False and condition2 is True>\n",
    "elif condition3:\n",
    "    <block of statements, executed if conditions 1 and 2 are False and condition3 is True>\n",
    "else:\n",
    "    <block of statements, executed if conditions 1, 2, and 3 are False>\n",
    "    \n",
    "<next statement of the program>\n",
    "```"
   ]
  },
  {
   "cell_type": "markdown",
   "metadata": {
    "nbpresent": {
     "id": "27c74d2e-711a-4130-85e1-a16a5983c101"
    },
    "slideshow": {
     "slide_type": "slide"
    }
   },
   "source": [
    "## Exercise 2.3: Express a step (Heaviside) function as a Python function\n",
    "The following \"step\" function is known as the Heaviside function and it is widely used in mathematics:\n",
    "$$\n",
    "H(x)=\n",
    "\\begin{cases}\n",
    "    0, & \\text{if}\\; x < 0\\\\\n",
    "    1, & \\text{if}\\; x \\ge 0.\n",
    "\\end{cases}\n",
    "$$\n",
    "Write a Python function `heaviside(x)` that computes $H(x)$."
   ]
  },
  {
   "cell_type": "code",
   "execution_count": null,
   "metadata": {
    "execution": {
     "iopub.execute_input": "2021-07-15T19:07:56.648329Z",
     "iopub.status.busy": "2021-07-15T19:07:56.647927Z",
     "iopub.status.idle": "2021-07-15T19:07:56.651202Z",
     "shell.execute_reply": "2021-07-15T19:07:56.650872Z"
    },
    "nbpresent": {
     "id": "110a818c-1c96-43cb-811b-47340d649582"
    },
    "slideshow": {
     "slide_type": "subslide"
    }
   },
   "outputs": [],
   "source": [
    "# Uncomment and modify the following lines. Do not change variable names for testing purposes.\n",
    "\n",
    "# def heaviside(x):\n",
    "#     ..."
   ]
  },
  {
   "cell_type": "code",
   "execution_count": null,
   "metadata": {
    "execution": {
     "iopub.execute_input": "2021-07-15T19:07:56.659335Z",
     "iopub.status.busy": "2021-07-15T19:07:56.658886Z",
     "iopub.status.idle": "2021-07-15T19:07:56.664414Z",
     "shell.execute_reply": "2021-07-15T19:07:56.664048Z"
    },
    "tags": [
     "pybryt"
    ]
   },
   "outputs": [],
   "source": [
    "with pybryt.check(pybryt_reference(2, 3)):\n",
    "    heaviside(-1000), heaviside(1000), heaviside(0)"
   ]
  },
  {
   "cell_type": "code",
   "execution_count": null,
   "metadata": {
    "execution": {
     "iopub.execute_input": "2021-07-15T19:07:56.668872Z",
     "iopub.status.busy": "2021-07-15T19:07:56.668515Z",
     "iopub.status.idle": "2021-07-15T19:07:56.684906Z",
     "shell.execute_reply": "2021-07-15T19:07:56.682021Z"
    },
    "nbpresent": {
     "id": "176d53da-c726-4205-bf4a-1c50f7f24111"
    },
    "tags": [
     "okpy"
    ]
   },
   "outputs": [],
   "source": [
    "ok.grade('exercise-2_3')"
   ]
  },
  {
   "cell_type": "markdown",
   "metadata": {},
   "source": [
    "## Exercise 2.4: Implement the factorial function\n",
    "\n",
    "The factorial of $n$, written as $n!$, is defined as\n",
    "\n",
    "$$n! = n(n − 1)(n − 2) \\cdot \\ldots \\cdot 2 \\cdot 1,$$\n",
    "\n",
    "with the special cases\n",
    "\n",
    "$$1! = 1,$$ $$0! = 1.$$\n",
    "\n",
    "For example, $4! = 4 \\cdot 3 \\cdot 2 \\cdot 1 = 24$, and $2! = 2 \\cdot 1 = 2$.\n",
    "\n",
    "Implement your own factorial function to calculate $n!$. Return $1$ immediately if $n$ is $1$ or $0$; otherwise use a loop to compute $n!$. You can use Python's own [math.factorial(x)](https://docs.python.org/3/library/math.html) to check your code."
   ]
  },
  {
   "cell_type": "code",
   "execution_count": null,
   "metadata": {
    "execution": {
     "iopub.execute_input": "2021-07-15T19:07:56.691792Z",
     "iopub.status.busy": "2021-07-15T19:07:56.691444Z",
     "iopub.status.idle": "2021-07-15T19:07:56.694471Z",
     "shell.execute_reply": "2021-07-15T19:07:56.694120Z"
    }
   },
   "outputs": [],
   "source": [
    "# Uncomment and complete this code - keep the names the same for testing purposes.\n",
    "\n",
    "# def my_factorial(n):\n",
    "#     ..."
   ]
  },
  {
   "cell_type": "code",
   "execution_count": null,
   "metadata": {
    "execution": {
     "iopub.execute_input": "2021-07-15T19:07:56.704131Z",
     "iopub.status.busy": "2021-07-15T19:07:56.702418Z",
     "iopub.status.idle": "2021-07-15T19:07:56.715552Z",
     "shell.execute_reply": "2021-07-15T19:07:56.715195Z"
    },
    "tags": [
     "pybryt"
    ]
   },
   "outputs": [],
   "source": [
    "with pybryt.check(pybryt_reference(2, 4)):\n",
    "    my_factorial(10)"
   ]
  },
  {
   "cell_type": "code",
   "execution_count": null,
   "metadata": {
    "execution": {
     "iopub.execute_input": "2021-07-15T19:07:56.718952Z",
     "iopub.status.busy": "2021-07-15T19:07:56.718467Z",
     "iopub.status.idle": "2021-07-15T19:07:56.741997Z",
     "shell.execute_reply": "2021-07-15T19:07:56.742327Z"
    },
    "tags": [
     "okpy"
    ]
   },
   "outputs": [],
   "source": [
    "ok.grade('exercise-2_4')"
   ]
  },
  {
   "cell_type": "markdown",
   "metadata": {},
   "source": [
    "## Exercise 2.5: Compute the length of a path\n",
    "\n",
    "Some object is moving along a path in the plane. At $n$ points of time, we have recorded the corresponding $(x, y)$ positions of the object:\n",
    "$(x_0, y_0), (x_1, y_1), \\ldots, (x_{n-1}, y_{n-1})$. The total length $L$ of the path from $(x_0, y_0)$ to $(x_{n-1}, y_{n-1})$ is the sum of all the individual line segments $(x_{i-1}, y_{i-1})$ to $(x_i, y_i)$, $i = 1, \\ldots, n-1$:\n",
    "\n",
    "$$L = \\sum_{i=1}^{n-1}{\\sqrt{(x_i - x_{i-1})^2 + (y_i - y_{i-1})^2}}.$$\n",
    "\n",
    "Create a function `path_length(x, y)` for computing $L$ according to the formula. The arguments `x` and `y` are two lists that hold all the $x_0, \\ldots, x_{n-1}$ and $y_0, \\ldots, y_{n-1}$ coordinates, respectively. Test the function on a triangular path with the four points (1, 1), (2, 1), (1, 2), and (1, 1)."
   ]
  },
  {
   "cell_type": "code",
   "execution_count": null,
   "metadata": {
    "execution": {
     "iopub.execute_input": "2021-07-15T19:07:56.751708Z",
     "iopub.status.busy": "2021-07-15T19:07:56.751270Z",
     "iopub.status.idle": "2021-07-15T19:07:56.754377Z",
     "shell.execute_reply": "2021-07-15T19:07:56.754663Z"
    }
   },
   "outputs": [],
   "source": [
    "# Uncomment and complete this code - keep the names the same for testing purposes.\n",
    "\n",
    "# def path_length(x, y):\n",
    "#     ..."
   ]
  },
  {
   "cell_type": "code",
   "execution_count": null,
   "metadata": {
    "execution": {
     "iopub.execute_input": "2021-07-15T19:07:56.764090Z",
     "iopub.status.busy": "2021-07-15T19:07:56.763421Z",
     "iopub.status.idle": "2021-07-15T19:07:56.773444Z",
     "shell.execute_reply": "2021-07-15T19:07:56.773141Z"
    },
    "tags": [
     "pybryt"
    ]
   },
   "outputs": [],
   "source": [
    "with pybryt.check(pybryt_reference(2, 5)):\n",
    "    path_length([-100, 200, -561, 231], [11, 1.1, 2.9, 165.4])"
   ]
  },
  {
   "cell_type": "code",
   "execution_count": null,
   "metadata": {
    "execution": {
     "iopub.execute_input": "2021-07-15T19:07:56.776300Z",
     "iopub.status.busy": "2021-07-15T19:07:56.775954Z",
     "iopub.status.idle": "2021-07-15T19:07:56.798652Z",
     "shell.execute_reply": "2021-07-15T19:07:56.794350Z"
    },
    "tags": [
     "okpy"
    ]
   },
   "outputs": [],
   "source": [
    "ok.grade('exercise-2_5')"
   ]
  },
  {
   "cell_type": "markdown",
   "metadata": {},
   "source": [
    "## Exercise 2.6: Approximate $\\pi$\n",
    "\n",
    "As you know, the circumference of a circle is $2 \\pi r$ where $r$ is the circle's radius.  $\\pi$ is therefore the circumference of a circle with $r= \\frac{1}{2}$. We can approximate this circumference by a many-sided polygon through points on the circle. The sum of the lengths of the sides of the polygon will approximate the circumference.\n",
    "\n",
    "Firstly compute $n+1$ points around a circle according to the formulae:\n",
    "\n",
    "$ x_i = \\frac{1}{2} \\cos(\\frac{2 \\pi i}{n}),   y_i = \\frac{1}{2} \\sin(\\frac{2 \\pi i}{n}),   i = 0 \\cdots n$\n",
    "\n",
    "Then use your `path_length` function from the previous question to approximate $\\pi$.  Name your function for estimating $\\pi$ `approx_pi` for testing purposes."
   ]
  },
  {
   "cell_type": "code",
   "execution_count": null,
   "metadata": {
    "execution": {
     "iopub.execute_input": "2021-07-15T19:07:56.807118Z",
     "iopub.status.busy": "2021-07-15T19:07:56.806772Z",
     "iopub.status.idle": "2021-07-15T19:07:56.808399Z",
     "shell.execute_reply": "2021-07-15T19:07:56.808100Z"
    }
   },
   "outputs": [],
   "source": [
    "# Uncomment and complete this code - keep the names the same for testing purposes.\n",
    "\n",
    "# def approx_pi(n):\n",
    "#     ..."
   ]
  },
  {
   "cell_type": "code",
   "execution_count": null,
   "metadata": {
    "execution": {
     "iopub.execute_input": "2021-07-15T19:07:56.816204Z",
     "iopub.status.busy": "2021-07-15T19:07:56.815835Z",
     "iopub.status.idle": "2021-07-15T19:07:56.941716Z",
     "shell.execute_reply": "2021-07-15T19:07:56.941212Z"
    },
    "tags": [
     "pybryt"
    ]
   },
   "outputs": [],
   "source": [
    "with pybryt.check(pybryt_reference(2, 6)):\n",
    "    approx_pi(100)"
   ]
  },
  {
   "cell_type": "code",
   "execution_count": null,
   "metadata": {
    "execution": {
     "iopub.execute_input": "2021-07-15T19:07:56.947095Z",
     "iopub.status.busy": "2021-07-15T19:07:56.946621Z",
     "iopub.status.idle": "2021-07-15T19:07:56.967935Z",
     "shell.execute_reply": "2021-07-15T19:07:56.967611Z"
    },
    "tags": [
     "okpy"
    ]
   },
   "outputs": [],
   "source": [
    "ok.grade('exercise-2_6')"
   ]
  },
  {
   "cell_type": "markdown",
   "metadata": {},
   "source": [
    "## Exercise 2.7: Make a list of prime numbers\n",
    "\n",
    "Define a function called `prime_list` that lists all the prime numbers up to a given $n$. \n",
    "\n",
    "**Hint**: Google the Sieve of Eratosthenes."
   ]
  },
  {
   "cell_type": "code",
   "execution_count": null,
   "metadata": {
    "execution": {
     "iopub.execute_input": "2021-07-15T19:07:56.977834Z",
     "iopub.status.busy": "2021-07-15T19:07:56.977036Z",
     "iopub.status.idle": "2021-07-15T19:07:56.978682Z",
     "shell.execute_reply": "2021-07-15T19:07:56.978989Z"
    }
   },
   "outputs": [],
   "source": [
    "# Uncomment and complete this code - keep the names the same for testing purposes.\n",
    "\n",
    "# def prime_list(n):\n",
    "#     ..."
   ]
  },
  {
   "cell_type": "code",
   "execution_count": null,
   "metadata": {
    "execution": {
     "iopub.execute_input": "2021-07-15T19:07:57.006220Z",
     "iopub.status.busy": "2021-07-15T19:07:56.995735Z",
     "iopub.status.idle": "2021-07-15T19:07:57.079654Z",
     "shell.execute_reply": "2021-07-15T19:07:57.079316Z"
    },
    "tags": [
     "pybryt"
    ]
   },
   "outputs": [],
   "source": [
    "with pybryt.check(pybryt_reference(2, 7)):\n",
    "    prime_list(100)"
   ]
  },
  {
   "cell_type": "code",
   "execution_count": null,
   "metadata": {
    "execution": {
     "iopub.execute_input": "2021-07-15T19:07:57.084634Z",
     "iopub.status.busy": "2021-07-15T19:07:57.084115Z",
     "iopub.status.idle": "2021-07-15T19:07:57.100205Z",
     "shell.execute_reply": "2021-07-15T19:07:57.100472Z"
    },
    "tags": [
     "okpy"
    ]
   },
   "outputs": [],
   "source": [
    "ok.grade('exercise-2_7')"
   ]
  },
  {
   "cell_type": "markdown",
   "metadata": {
    "slideshow": {
     "slide_type": "slide"
    }
   },
   "source": [
    "## Vectors and arrays\n",
    "\n",
    "You have known **vectors** since high school mathematics, e.g. point $(x, y)$ in the plane, point $(x, y, z)$ in space. In general, we can describe a vector $v$ as an $n$-tuple of numbers: $v=(v_0, \\ldots, v_{n-1})$. One way to store vectors in Python is by using *lists*: $v_i$ is stored as `v[i]`."
   ]
  },
  {
   "cell_type": "markdown",
   "metadata": {
    "slideshow": {
     "slide_type": "subslide"
    }
   },
   "source": [
    "**Arrays** are a generalisation of vectors where we can have multiple indices: $A_{i, j}$, $A_{i, j, k}$. In Python, this is represented as a nested list, accessed as `A[i][j]`, `A[i][j][k]`.\n",
    "\n",
    "**Example**: Matrix, a table of numbers with one index for the row and one for the column\n",
    "$$\n",
    "\\left\\lbrack\\begin{array}{cccc}\n",
    "0 & 12 & -1 & 5q\\cr\n",
    "11 & 5 & 5 & -2\n",
    "\\end{array}\\right\\rbrack\n",
    "\\hspace{1cm}\n",
    "A =\n",
    "\\left\\lbrack\\begin{array}{ccc}\n",
    "A_{0,0} & \\cdots &  A_{0,n-1}\\cr\n",
    "\\vdots & \\ddots &  \\vdots\\cr\n",
    "A_{m-1,0} & \\cdots & A_{m-1,n-1}\n",
    "\\end{array}\\right\\rbrack\n",
    "$$\n",
    "The number of indices in an array is the *number of dimensions*. Using these terms, a vector can be described as a one-dimensional array or dimension-1 array."
   ]
  },
  {
   "cell_type": "markdown",
   "metadata": {
    "slideshow": {
     "slide_type": "subslide"
    }
   },
   "source": [
    "In practice, we use [Numerical Python (*NumPy*)](http://www.numpy.org/) arrays instead of lists to represent mathematical arrays because it is **much** faster for large arrays.\n",
    "\n",
    "Let us consider an example where we store $(x,y)$ points along a curve in Python lists and numpy arrays:"
   ]
  },
  {
   "cell_type": "code",
   "execution_count": null,
   "metadata": {
    "execution": {
     "iopub.execute_input": "2021-07-15T19:07:57.110653Z",
     "iopub.status.busy": "2021-07-15T19:07:57.109909Z",
     "iopub.status.idle": "2021-07-15T19:07:57.111314Z",
     "shell.execute_reply": "2021-07-15T19:07:57.111686Z"
    },
    "slideshow": {
     "slide_type": "subslide"
    }
   },
   "outputs": [],
   "source": [
    "# Sample function\n",
    "def f(x):\n",
    "    return x**3\n",
    "\n",
    "\n",
    "# Generate n points in [0, 1]\n",
    "n = 5\n",
    "dx = 1/(n-1)  # x spacing\n",
    "\n",
    "X = [i*dx for i in range(n)]  # Python list\n",
    "Y = [f(x) for x in X]\n",
    "\n",
    "# Turn these Python lists into Numerical Python (NumPy) arrays:\n",
    "import numpy as np\n",
    "\n",
    "x2 = np.array(X)\n",
    "y2 = np.array(Y)"
   ]
  },
  {
   "cell_type": "markdown",
   "metadata": {
    "slideshow": {
     "slide_type": "subslide"
    }
   },
   "source": [
    "Instead of first making lists with $x$ and $y = f (x)$ data, and then turning lists into arrays, we can make NumPy arrays\n",
    "directly:"
   ]
  },
  {
   "cell_type": "code",
   "execution_count": null,
   "metadata": {
    "execution": {
     "iopub.execute_input": "2021-07-15T19:07:57.115349Z",
     "iopub.status.busy": "2021-07-15T19:07:57.115006Z",
     "iopub.status.idle": "2021-07-15T19:07:57.116464Z",
     "shell.execute_reply": "2021-07-15T19:07:57.116733Z"
    },
    "slideshow": {
     "slide_type": "fragment"
    }
   },
   "outputs": [],
   "source": [
    "n = 5                        # number of points\n",
    "x2 = np.linspace(0, 1, n)    # generates n points between 0 and 1\n",
    "y2 = np.zeros(n)             # n zeros (float data type by default)\n",
    "for i in range(n):\n",
    "    y2[i] = f(x2[i])"
   ]
  },
  {
   "cell_type": "markdown",
   "metadata": {
    "slideshow": {
     "slide_type": "subslide"
    }
   },
   "source": [
    "List comprehensions create lists, not arrays, but we can do:"
   ]
  },
  {
   "cell_type": "code",
   "execution_count": null,
   "metadata": {
    "execution": {
     "iopub.execute_input": "2021-07-15T19:07:57.119584Z",
     "iopub.status.busy": "2021-07-15T19:07:57.119242Z",
     "iopub.status.idle": "2021-07-15T19:07:57.120656Z",
     "shell.execute_reply": "2021-07-15T19:07:57.121004Z"
    },
    "slideshow": {
     "slide_type": "fragment"
    }
   },
   "outputs": [],
   "source": [
    "y2 = np.array([f(xi) for xi in x2])  # list -> array"
   ]
  },
  {
   "cell_type": "markdown",
   "metadata": {
    "slideshow": {
     "slide_type": "slide"
    }
   },
   "source": [
    "### When and where to use NumPy arrays\n",
    "\n",
    "* Python lists can hold any sequence of any Python objects. However, NumPy arrays can only hold objects of the same type.\n",
    "* Arrays are most efficient when the elements are basic number types (*float*, *int*, *complex*).\n",
    "* In that case, arrays are stored efficiently in the computer's memory, and we can compute very efficiently with the array elements.\n",
    "* We can compute mathematical operations on whole arrays without loops in Python. For example,"
   ]
  },
  {
   "cell_type": "code",
   "execution_count": null,
   "metadata": {
    "execution": {
     "iopub.execute_input": "2021-07-15T19:07:57.124333Z",
     "iopub.status.busy": "2021-07-15T19:07:57.123813Z",
     "iopub.status.idle": "2021-07-15T19:07:57.129421Z",
     "shell.execute_reply": "2021-07-15T19:07:57.129140Z"
    },
    "slideshow": {
     "slide_type": "subslide"
    }
   },
   "outputs": [],
   "source": [
    "x = np.linspace(0, 2, 10001)\n",
    "y = np.zeros(10001)\n",
    "for i in range(len(x)):\n",
    "    y[i] = math.sin(x[i])"
   ]
  },
  {
   "cell_type": "markdown",
   "metadata": {
    "slideshow": {
     "slide_type": "fragment"
    }
   },
   "source": [
    "can be coded as"
   ]
  },
  {
   "cell_type": "code",
   "execution_count": null,
   "metadata": {
    "execution": {
     "iopub.execute_input": "2021-07-15T19:07:57.131935Z",
     "iopub.status.busy": "2021-07-15T19:07:57.131445Z",
     "iopub.status.idle": "2021-07-15T19:07:57.133505Z",
     "shell.execute_reply": "2021-07-15T19:07:57.133151Z"
    },
    "slideshow": {
     "slide_type": "fragment"
    }
   },
   "outputs": [],
   "source": [
    "y = np.sin(x)"
   ]
  },
  {
   "cell_type": "markdown",
   "metadata": {
    "slideshow": {
     "slide_type": "subslide"
    }
   },
   "source": [
    "In the latter case, the loop over all elements is now performed in a very efficient C-function. Instead of using Python `for`-loops, operations on whole arrays are called vectorisation, and they are a very **convenient**, **efficient**, and therefore an **important** programming technique to master."
   ]
  },
  {
   "cell_type": "markdown",
   "metadata": {
    "slideshow": {
     "slide_type": "subslide"
    }
   },
   "source": [
    "Let us consider a simple vectorisation example: a loop to compute $x$ coordinates (`x2`) and $y=f(x)$ coordinates (`y2`) along a function curve:"
   ]
  },
  {
   "cell_type": "code",
   "execution_count": null,
   "metadata": {
    "execution": {
     "iopub.execute_input": "2021-07-15T19:07:57.137141Z",
     "iopub.status.busy": "2021-07-15T19:07:57.136585Z",
     "iopub.status.idle": "2021-07-15T19:07:57.138504Z",
     "shell.execute_reply": "2021-07-15T19:07:57.138114Z"
    },
    "slideshow": {
     "slide_type": "fragment"
    }
   },
   "outputs": [],
   "source": [
    "x2 = np.linspace(0, 1, n)\n",
    "y2 = np.zeros(n)\n",
    "for i in range(n):\n",
    "    y2[i] = f(x2[i])"
   ]
  },
  {
   "cell_type": "markdown",
   "metadata": {
    "slideshow": {
     "slide_type": "fragment"
    }
   },
   "source": [
    "This computation can be replaced by:"
   ]
  },
  {
   "cell_type": "code",
   "execution_count": null,
   "metadata": {
    "execution": {
     "iopub.execute_input": "2021-07-15T19:07:57.142244Z",
     "iopub.status.busy": "2021-07-15T19:07:57.141504Z",
     "iopub.status.idle": "2021-07-15T19:07:57.143125Z",
     "shell.execute_reply": "2021-07-15T19:07:57.143501Z"
    },
    "slideshow": {
     "slide_type": "fragment"
    }
   },
   "outputs": [],
   "source": [
    "x2 = np.linspace(0, 1, n)\n",
    "y2 = f(x2)"
   ]
  },
  {
   "cell_type": "markdown",
   "metadata": {
    "slideshow": {
     "slide_type": "subslide"
    }
   },
   "source": [
    "The advantage of this approach is:\n",
    "\n",
    "* There is no need to allocate space for `y2` (via the NumPy *zeros* function).\n",
    "* There is no need for a loop.\n",
    "* It is *much faster*."
   ]
  },
  {
   "cell_type": "markdown",
   "metadata": {
    "slideshow": {
     "slide_type": "slide"
    }
   },
   "source": [
    "## How vectorised functions work\n",
    "Consider the function"
   ]
  },
  {
   "cell_type": "code",
   "execution_count": null,
   "metadata": {
    "execution": {
     "iopub.execute_input": "2021-07-15T19:07:57.147025Z",
     "iopub.status.busy": "2021-07-15T19:07:57.146326Z",
     "iopub.status.idle": "2021-07-15T19:07:57.147809Z",
     "shell.execute_reply": "2021-07-15T19:07:57.148207Z"
    },
    "slideshow": {
     "slide_type": "fragment"
    }
   },
   "outputs": [],
   "source": [
    "def f(x):\n",
    "    return x**3"
   ]
  },
  {
   "cell_type": "markdown",
   "metadata": {
    "slideshow": {
     "slide_type": "subslide"
    }
   },
   "source": [
    "$f(x)$ is intended for a number $x$, i.e. a *scalar*. So, what happens when we call `f(x2)`, where `x2` is a NumPy array? **The function evaluates $x^3$ for an array $x$**. NumPy supports arithmetic operations on arrays, which correspond to the equivalent operations on each element. For example,"
   ]
  },
  {
   "cell_type": "code",
   "execution_count": null,
   "metadata": {
    "execution": {
     "iopub.execute_input": "2021-07-15T19:07:57.151049Z",
     "iopub.status.busy": "2021-07-15T19:07:57.150602Z",
     "iopub.status.idle": "2021-07-15T19:07:57.154121Z",
     "shell.execute_reply": "2021-07-15T19:07:57.153691Z"
    },
    "slideshow": {
     "slide_type": "fragment"
    }
   },
   "outputs": [],
   "source": [
    "r1 = x**3                   # x[i]**3 for all i\n",
    "r2 = np.cos(x)              # cos(x[i]) for all i\n",
    "r3 = x**3 + x*np.cos(x)     # x[i]**3 + x[i]*cos(x[i]) for all i\n",
    "r4 = x/3*np.exp(-x*0.5)     # x[i]/3*exp(-x[i]*0.5) for all i"
   ]
  },
  {
   "cell_type": "markdown",
   "metadata": {
    "slideshow": {
     "slide_type": "subslide"
    }
   },
   "source": [
    "In each of these cases, a highly optimised C-function is actually called to evaluate the expression. In this example, the *cos* function called for an *array* is imported from *numpy* rather than from the *math* module which only acts on scalars.\n",
    "\n",
    "Notes:\n",
    "\n",
    "* Functions that can operate on arrays are called **vectorised functions**.\n",
    "* Vectorisation is the process of turning a non-vectorised expression/algorithm into a vectorised expression/algorithm.\n",
    "* Mathematical functions in Python automatically work for both scalar and array (vector) arguments, i.e. no vectorisation is needed by the programmer."
   ]
  },
  {
   "cell_type": "markdown",
   "metadata": {
    "slideshow": {
     "slide_type": "slide"
    }
   },
   "source": [
    "### Watch out for references vs. copies of arrays!\n",
    "Consider this code:"
   ]
  },
  {
   "cell_type": "code",
   "execution_count": null,
   "metadata": {
    "execution": {
     "iopub.execute_input": "2021-07-15T19:07:57.158289Z",
     "iopub.status.busy": "2021-07-15T19:07:57.157828Z",
     "iopub.status.idle": "2021-07-15T19:07:57.160763Z",
     "shell.execute_reply": "2021-07-15T19:07:57.160455Z"
    },
    "slideshow": {
     "slide_type": "fragment"
    }
   },
   "outputs": [],
   "source": [
    "a = x\n",
    "a[-1] = 42\n",
    "print(x[-1])"
   ]
  },
  {
   "cell_type": "markdown",
   "metadata": {
    "slideshow": {
     "slide_type": "subslide"
    }
   },
   "source": [
    "Notice what happened here - we changed a value in `a`, but the corresponding value in `x` was also changed! This is because `a` refers to the same array as `x`. If we want a separate copy of `x`, then we have to make an explicit copy:"
   ]
  },
  {
   "cell_type": "code",
   "execution_count": null,
   "metadata": {
    "execution": {
     "iopub.execute_input": "2021-07-15T19:07:57.163682Z",
     "iopub.status.busy": "2021-07-15T19:07:57.163090Z",
     "iopub.status.idle": "2021-07-15T19:07:57.165183Z",
     "shell.execute_reply": "2021-07-15T19:07:57.164671Z"
    },
    "slideshow": {
     "slide_type": "fragment"
    }
   },
   "outputs": [],
   "source": [
    "a = x.copy()"
   ]
  },
  {
   "cell_type": "markdown",
   "metadata": {
    "slideshow": {
     "slide_type": "slide"
    }
   },
   "source": [
    "## Exercise 2.8: Fill lists and arrays with function values\n",
    "\n",
    "A function with many applications in science is defined as:\n",
    "\n",
    "$$h(x) = \\frac{1}{\\sqrt{2\\pi}}\\text{e}^{-\\frac{1}{2}x^2}$$\n",
    "\n",
    "* Implement the above formula as a Python function. Call the function `h` and it should take just one argument, `x`.\n",
    "* Create a NumPy array (call it `x`) that has 9 uniformly spaced points in $[−4, 4]$.\n",
    "* Create a second NumPy array (call it `y`) with the function `h(x)`."
   ]
  },
  {
   "cell_type": "code",
   "execution_count": null,
   "metadata": {
    "execution": {
     "iopub.execute_input": "2021-07-15T19:07:57.168049Z",
     "iopub.status.busy": "2021-07-15T19:07:57.167250Z",
     "iopub.status.idle": "2021-07-15T19:07:57.168903Z",
     "shell.execute_reply": "2021-07-15T19:07:57.169212Z"
    },
    "slideshow": {
     "slide_type": "subslide"
    }
   },
   "outputs": [],
   "source": [
    "# Uncomment and complete this code - keep the names the same for testing purposes.\n",
    "\n",
    "# def h(x):\n",
    "#     ..."
   ]
  },
  {
   "cell_type": "code",
   "execution_count": null,
   "metadata": {
    "execution": {
     "iopub.execute_input": "2021-07-15T19:07:57.178640Z",
     "iopub.status.busy": "2021-07-15T19:07:57.178207Z",
     "iopub.status.idle": "2021-07-15T19:07:57.206070Z",
     "shell.execute_reply": "2021-07-15T19:07:57.205660Z"
    },
    "tags": [
     "pybryt"
    ]
   },
   "outputs": [],
   "source": [
    "with pybryt.check(pybryt_reference(2, 8)):\n",
    "    h(5), x, y"
   ]
  },
  {
   "cell_type": "code",
   "execution_count": null,
   "metadata": {
    "execution": {
     "iopub.execute_input": "2021-07-15T19:07:57.208968Z",
     "iopub.status.busy": "2021-07-15T19:07:57.208464Z",
     "iopub.status.idle": "2021-07-15T19:07:57.232201Z",
     "shell.execute_reply": "2021-07-15T19:07:57.231747Z"
    },
    "tags": [
     "okpy"
    ]
   },
   "outputs": [],
   "source": [
    "ok.grade('exercise-2_8')"
   ]
  },
  {
   "cell_type": "markdown",
   "metadata": {
    "slideshow": {
     "slide_type": "slide"
    }
   },
   "source": [
    "## Generalised array indexing\n",
    "\n",
    "We can select a slice of an array using `a[start:stop:inc]`, where the slice `start:stop:inc` implies a set of indices starting from `start`, up to `stop` in increments `inc`. Any integer list or array can be used to indicate a set of indices:"
   ]
  },
  {
   "cell_type": "code",
   "execution_count": null,
   "metadata": {
    "execution": {
     "iopub.execute_input": "2021-07-15T19:07:57.243680Z",
     "iopub.status.busy": "2021-07-15T19:07:57.243199Z",
     "iopub.status.idle": "2021-07-15T19:07:57.246422Z",
     "shell.execute_reply": "2021-07-15T19:07:57.246003Z"
    },
    "slideshow": {
     "slide_type": "fragment"
    }
   },
   "outputs": [],
   "source": [
    "a = np.linspace(1, 8, 8)\n",
    "print(a)"
   ]
  },
  {
   "cell_type": "code",
   "execution_count": null,
   "metadata": {
    "execution": {
     "iopub.execute_input": "2021-07-15T19:07:57.250902Z",
     "iopub.status.busy": "2021-07-15T19:07:57.250404Z",
     "iopub.status.idle": "2021-07-15T19:07:57.253725Z",
     "shell.execute_reply": "2021-07-15T19:07:57.253304Z"
    },
    "slideshow": {
     "slide_type": "subslide"
    }
   },
   "outputs": [],
   "source": [
    "a[[1, 6, 7]] = 10  # i.e. set the elements with indicies 1, 6, and 7 in the array to 10.\n",
    "print(a)"
   ]
  },
  {
   "cell_type": "code",
   "execution_count": null,
   "metadata": {
    "execution": {
     "iopub.execute_input": "2021-07-15T19:07:57.258142Z",
     "iopub.status.busy": "2021-07-15T19:07:57.257673Z",
     "iopub.status.idle": "2021-07-15T19:07:57.260788Z",
     "shell.execute_reply": "2021-07-15T19:07:57.260393Z"
    },
    "slideshow": {
     "slide_type": "fragment"
    }
   },
   "outputs": [],
   "source": [
    "a[range(2, 8, 3)] = -2   # same as a[2:8:3] = -2\n",
    "print(a)"
   ]
  },
  {
   "cell_type": "markdown",
   "metadata": {
    "slideshow": {
     "slide_type": "subslide"
    }
   },
   "source": [
    "Even boolean expressions can be used to select part of an array(!)"
   ]
  },
  {
   "cell_type": "code",
   "execution_count": null,
   "metadata": {
    "execution": {
     "iopub.execute_input": "2021-07-15T19:07:57.264995Z",
     "iopub.status.busy": "2021-07-15T19:07:57.264519Z",
     "iopub.status.idle": "2021-07-15T19:07:57.267734Z",
     "shell.execute_reply": "2021-07-15T19:07:57.267327Z"
    },
    "slideshow": {
     "slide_type": "fragment"
    }
   },
   "outputs": [],
   "source": [
    "print(a[a < 0])  # pick out all negative elements"
   ]
  },
  {
   "cell_type": "code",
   "execution_count": null,
   "metadata": {
    "execution": {
     "iopub.execute_input": "2021-07-15T19:07:57.272125Z",
     "iopub.status.busy": "2021-07-15T19:07:57.271693Z",
     "iopub.status.idle": "2021-07-15T19:07:57.274694Z",
     "shell.execute_reply": "2021-07-15T19:07:57.274263Z"
    },
    "slideshow": {
     "slide_type": "fragment"
    }
   },
   "outputs": [],
   "source": [
    "a[a < 0] = a.max()  # if a[i]<0, set a[i]=10\n",
    "print(a)"
   ]
  },
  {
   "cell_type": "markdown",
   "metadata": {
    "slideshow": {
     "slide_type": "slide"
    }
   },
   "source": [
    "## Exercise 2.9: Explore array slicing\n",
    "\n",
    "* Create a NumPy array called `w` with 31 uniformly spaced values ranging from 0 to 3.\n",
    "* Using array slicing, create a NumPy array called `wbits` that starts from the $4^{th}$ element of `w`, excludes the final element of `w` and selects every $3^{rd}$ element."
   ]
  },
  {
   "cell_type": "code",
   "execution_count": null,
   "metadata": {
    "execution": {
     "iopub.execute_input": "2021-07-15T19:07:57.277722Z",
     "iopub.status.busy": "2021-07-15T19:07:57.277031Z",
     "iopub.status.idle": "2021-07-15T19:07:57.278360Z",
     "shell.execute_reply": "2021-07-15T19:07:57.278773Z"
    }
   },
   "outputs": [],
   "source": [
    "# Uncomment and complete this code - keep the names the same for testing purposes.\n",
    "\n",
    "# w = ...\n",
    "# wbits = ..."
   ]
  },
  {
   "cell_type": "code",
   "execution_count": null,
   "metadata": {
    "execution": {
     "iopub.execute_input": "2021-07-15T19:07:57.287820Z",
     "iopub.status.busy": "2021-07-15T19:07:57.287428Z",
     "iopub.status.idle": "2021-07-15T19:07:57.294947Z",
     "shell.execute_reply": "2021-07-15T19:07:57.294566Z"
    },
    "tags": [
     "pybryt"
    ]
   },
   "outputs": [],
   "source": [
    "with pybryt.check(pybryt_reference(2, 9)):\n",
    "    w, wbits"
   ]
  },
  {
   "cell_type": "code",
   "execution_count": null,
   "metadata": {
    "execution": {
     "iopub.execute_input": "2021-07-15T19:07:57.300031Z",
     "iopub.status.busy": "2021-07-15T19:07:57.299590Z",
     "iopub.status.idle": "2021-07-15T19:07:57.313801Z",
     "shell.execute_reply": "2021-07-15T19:07:57.310796Z"
    },
    "tags": [
     "okpy"
    ]
   },
   "outputs": [],
   "source": [
    "ok.grade('exercise-2_9')"
   ]
  },
  {
   "cell_type": "markdown",
   "metadata": {
    "slideshow": {
     "slide_type": "slide"
    }
   },
   "source": [
    "## 2D arrays\n",
    "When we have a table of numbers,\n",
    "\n",
    "$$\n",
    "\\left\\lbrack\\begin{array}{cccc}\n",
    "0 & 12 & -1 & 5\\cr\n",
    "-1 & -1 & -1 & 0\\cr\n",
    "11 & 5 & 5 & -2\n",
    "\\end{array}\\right\\rbrack\n",
    "$$\n",
    "\n",
    "(i.e. a *matrix*) it is natural to use a two-dimensional array $A_{i, j}$ with one index for the rows and one for the columns:\n",
    "\n",
    "$$\n",
    "A = \n",
    "\\left\\lbrack\\begin{array}{ccc}\n",
    "A_{0,0} & \\cdots &  A_{0,n-1}\\cr\n",
    "\\vdots & \\ddots &  \\vdots\\cr\n",
    "A_{m-1,0} & \\cdots & A_{m-1,n-1}\n",
    "\\end{array}\\right\\rbrack\n",
    "$$\n",
    "\n",
    "Let us recreate this array using NumPy:"
   ]
  },
  {
   "cell_type": "code",
   "execution_count": null,
   "metadata": {
    "execution": {
     "iopub.execute_input": "2021-07-15T19:07:57.325099Z",
     "iopub.status.busy": "2021-07-15T19:07:57.324629Z",
     "iopub.status.idle": "2021-07-15T19:07:57.328782Z",
     "shell.execute_reply": "2021-07-15T19:07:57.328337Z"
    },
    "slideshow": {
     "slide_type": "subslide"
    }
   },
   "outputs": [],
   "source": [
    "A = np.zeros((3, 4))\n",
    "\n",
    "A[0, 0] = 0\n",
    "A[1, 0] = -1\n",
    "A[2, 0] = 11\n",
    "\n",
    "A[0, 1] = 12\n",
    "A[1, 1] = -1\n",
    "A[2, 1] = 5\n",
    "\n",
    "A[0, 2] = -1\n",
    "A[1, 2] = -1\n",
    "A[2, 2] = 5\n",
    "\n",
    "# we can also use the same syntax that we used for nested lists\n",
    "\n",
    "A[0][3] = 5\n",
    "A[1][3] = 0\n",
    "A[2][3] = -2\n",
    "\n",
    "print(A)"
   ]
  },
  {
   "cell_type": "markdown",
   "metadata": {
    "slideshow": {
     "slide_type": "subslide"
    }
   },
   "source": [
    "Next, let us convert a nested list from a previous example into a 2D array:"
   ]
  },
  {
   "cell_type": "code",
   "execution_count": null,
   "metadata": {
    "execution": {
     "iopub.execute_input": "2021-07-15T19:07:57.333653Z",
     "iopub.status.busy": "2021-07-15T19:07:57.333156Z",
     "iopub.status.idle": "2021-07-15T19:07:57.336143Z",
     "shell.execute_reply": "2021-07-15T19:07:57.335777Z"
    },
    "slideshow": {
     "slide_type": "fragment"
    }
   },
   "outputs": [],
   "source": [
    "Cdegrees = range(0, 101, 10)\n",
    "Fdegrees = [9/5*C + 32 for C in Cdegrees]\n",
    "table = [[C, F] for C, F in zip(Cdegrees, Fdegrees)]\n",
    "print(table)"
   ]
  },
  {
   "cell_type": "code",
   "execution_count": null,
   "metadata": {
    "execution": {
     "iopub.execute_input": "2021-07-15T19:07:57.340378Z",
     "iopub.status.busy": "2021-07-15T19:07:57.339969Z",
     "iopub.status.idle": "2021-07-15T19:07:57.342563Z",
     "shell.execute_reply": "2021-07-15T19:07:57.342266Z"
    },
    "slideshow": {
     "slide_type": "subslide"
    }
   },
   "outputs": [],
   "source": [
    "# Convert this nested list into a NumPy array:\n",
    "table2 = np.array(table)\n",
    "print(table2)"
   ]
  },
  {
   "cell_type": "markdown",
   "metadata": {
    "slideshow": {
     "slide_type": "subslide"
    }
   },
   "source": [
    "To see the number of elements in each dimension:"
   ]
  },
  {
   "cell_type": "code",
   "execution_count": null,
   "metadata": {
    "execution": {
     "iopub.execute_input": "2021-07-15T19:07:57.346280Z",
     "iopub.status.busy": "2021-07-15T19:07:57.345821Z",
     "iopub.status.idle": "2021-07-15T19:07:57.348855Z",
     "shell.execute_reply": "2021-07-15T19:07:57.348559Z"
    },
    "slideshow": {
     "slide_type": "fragment"
    }
   },
   "outputs": [],
   "source": [
    "print(table2.shape)"
   ]
  },
  {
   "cell_type": "markdown",
   "metadata": {
    "slideshow": {
     "slide_type": "fragment"
    }
   },
   "source": [
    "i.e. our table has 11 rows and 2 columns.\n",
    "\n",
    "Let us write a loop over all array elements of A:"
   ]
  },
  {
   "cell_type": "code",
   "execution_count": null,
   "metadata": {
    "execution": {
     "iopub.execute_input": "2021-07-15T19:07:57.352688Z",
     "iopub.status.busy": "2021-07-15T19:07:57.352313Z",
     "iopub.status.idle": "2021-07-15T19:07:57.387976Z",
     "shell.execute_reply": "2021-07-15T19:07:57.375561Z"
    },
    "slideshow": {
     "slide_type": "fragment"
    }
   },
   "outputs": [],
   "source": [
    "for i in range(table2.shape[0]):\n",
    "    for j in range(table2.shape[1]):\n",
    "        print('table2[%d, %d] = %g' % (i, j, table2[i, j]))"
   ]
  },
  {
   "cell_type": "markdown",
   "metadata": {
    "slideshow": {
     "slide_type": "subslide"
    }
   },
   "source": [
    "Alternatively:"
   ]
  },
  {
   "cell_type": "code",
   "execution_count": null,
   "metadata": {
    "execution": {
     "iopub.execute_input": "2021-07-15T19:07:57.391346Z",
     "iopub.status.busy": "2021-07-15T19:07:57.390868Z",
     "iopub.status.idle": "2021-07-15T19:07:57.426922Z",
     "shell.execute_reply": "2021-07-15T19:07:57.416439Z"
    },
    "slideshow": {
     "slide_type": "fragment"
    }
   },
   "outputs": [],
   "source": [
    "for index_tuple, value in np.ndenumerate(table2):\n",
    "    print('index %s has value %g' % (index_tuple, value))"
   ]
  },
  {
   "cell_type": "markdown",
   "metadata": {
    "slideshow": {
     "slide_type": "subslide"
    }
   },
   "source": [
    "We can also extract slices from multi-dimensional arrays as before. For example, extract the second column:"
   ]
  },
  {
   "cell_type": "code",
   "execution_count": null,
   "metadata": {
    "execution": {
     "iopub.execute_input": "2021-07-15T19:07:57.430086Z",
     "iopub.status.busy": "2021-07-15T19:07:57.429617Z",
     "iopub.status.idle": "2021-07-15T19:07:57.434947Z",
     "shell.execute_reply": "2021-07-15T19:07:57.434528Z"
    },
    "slideshow": {
     "slide_type": "fragment"
    }
   },
   "outputs": [],
   "source": [
    "print(table2[:, 1])  # 2nd column (index 1)"
   ]
  },
  {
   "cell_type": "markdown",
   "metadata": {
    "slideshow": {
     "slide_type": "subslide"
    }
   },
   "source": [
    "Play with this more complicated example:"
   ]
  },
  {
   "cell_type": "code",
   "execution_count": null,
   "metadata": {
    "execution": {
     "iopub.execute_input": "2021-07-15T19:07:57.438692Z",
     "iopub.status.busy": "2021-07-15T19:07:57.438214Z",
     "iopub.status.idle": "2021-07-15T19:07:57.442615Z",
     "shell.execute_reply": "2021-07-15T19:07:57.442964Z"
    },
    "slideshow": {
     "slide_type": "fragment"
    }
   },
   "outputs": [],
   "source": [
    "t = np.linspace(1, 30, 30).reshape(5, 6)\n",
    "print(t)"
   ]
  },
  {
   "cell_type": "code",
   "execution_count": null,
   "metadata": {
    "execution": {
     "iopub.execute_input": "2021-07-15T19:07:57.446906Z",
     "iopub.status.busy": "2021-07-15T19:07:57.446499Z",
     "iopub.status.idle": "2021-07-15T19:07:57.449429Z",
     "shell.execute_reply": "2021-07-15T19:07:57.449005Z"
    },
    "slideshow": {
     "slide_type": "fragment"
    }
   },
   "outputs": [],
   "source": [
    "print(t[1:-1:2, 2:])"
   ]
  },
  {
   "cell_type": "markdown",
   "metadata": {
    "slideshow": {
     "slide_type": "slide"
    }
   },
   "source": [
    "## Exercise 2.10: Matrix-vector multiplication\n",
    "A matrix $\\mathbf{A}$ and a vector $\\mathbf{b}$, represented in Python as a 2D array and a 1D array, respectively, are given by:\n",
    "\n",
    "$$\n",
    "\\mathbf{A} = \\left\\lbrack\\begin{array}{ccc}\n",
    "0 & 12 & -1\\cr\n",
    "-1 & -1 & -1\\cr\n",
    "11 & 5 & 5\n",
    "\\end{array}\\right\\rbrack\n",
    "$$\n",
    "\n",
    "$$\n",
    "\\mathbf{b} = \\left\\lbrack\\begin{array}{c}\n",
    "-2\\cr\n",
    "1\\cr\n",
    "7\n",
    "\\end{array}\\right\\rbrack\n",
    "$$\n",
    "\n",
    "Multiplying a matrix by a vector results in another vector $\\mathbf{c}$, whose components are defined by the general rule:\n",
    "\n",
    "$$\\mathbf{c}_i = \\sum_j\\mathbf{A}_{i, j}\\mathbf{b}_j$$\n",
    "\n",
    "* Define $\\mathbf{A}$ and $\\mathbf{b}$ as NumPy arrays\n",
    "* Write a function called `multiply` that takes two arguments, a matrix and a vector in the form of NumPy arrays, and returns a NumPy array containing their product.\n",
    "* Call this function on $\\mathbf{A}$ and $\\mathbf{b}$, and store the result in a variable $c$."
   ]
  },
  {
   "cell_type": "code",
   "execution_count": null,
   "metadata": {
    "execution": {
     "iopub.execute_input": "2021-07-15T19:07:57.452576Z",
     "iopub.status.busy": "2021-07-15T19:07:57.451781Z",
     "iopub.status.idle": "2021-07-15T19:07:57.453831Z",
     "shell.execute_reply": "2021-07-15T19:07:57.453409Z"
    }
   },
   "outputs": [],
   "source": [
    "# Uncomment and complete this code - keep the names the same for testing purposes.\n",
    "\n",
    "# def multiply(A, b):\n",
    "#     ...\n",
    "\n",
    "# A = ...\n",
    "# b = ...\n",
    "# c = ..."
   ]
  },
  {
   "cell_type": "code",
   "execution_count": null,
   "metadata": {
    "execution": {
     "iopub.execute_input": "2021-07-15T19:07:57.463702Z",
     "iopub.status.busy": "2021-07-15T19:07:57.463211Z",
     "iopub.status.idle": "2021-07-15T19:07:57.499333Z",
     "shell.execute_reply": "2021-07-15T19:07:57.498894Z"
    },
    "tags": [
     "pybryt"
    ]
   },
   "outputs": [],
   "source": [
    "with pybryt.check(pybryt_reference(2, 10)):\n",
    "    A, b, c, multiply(A, b)"
   ]
  },
  {
   "cell_type": "code",
   "execution_count": null,
   "metadata": {
    "execution": {
     "iopub.execute_input": "2021-07-15T19:07:57.502415Z",
     "iopub.status.busy": "2021-07-15T19:07:57.501956Z",
     "iopub.status.idle": "2021-07-15T19:07:57.526448Z",
     "shell.execute_reply": "2021-07-15T19:07:57.526714Z"
    },
    "tags": [
     "okpy"
    ]
   },
   "outputs": [],
   "source": [
    "ok.grade('exercise-2_10')"
   ]
  },
  {
   "cell_type": "markdown",
   "metadata": {},
   "source": [
    "## Exercise 2.11: Vectorised function\n",
    "\n",
    "Let $A_{33}$ be the two-dimensional array\n",
    "\n",
    "$$\n",
    "\\mathbf{A_{33}} = \\left\\lbrack\\begin{array}{ccc}\n",
    "0 & 12 & -1\\cr\n",
    "-1 & -1 & -1\\cr\n",
    "11 & 5 & 5\n",
    "\\end{array}\\right\\rbrack\n",
    "$$\n",
    "\n",
    "Implement and apply the function\n",
    "\n",
    "$$f(x) = x^3 + xe^x + 1$$\n",
    "\n",
    "to each element in $A_{33}$. Then calculate the result of the array expression ${A_{33}}^3 + A_{33}e^{A_{33}} + 1$, and demonstrate that the end result of the two methods are the same."
   ]
  },
  {
   "cell_type": "code",
   "execution_count": null,
   "metadata": {
    "execution": {
     "iopub.execute_input": "2021-07-15T19:07:57.538038Z",
     "iopub.status.busy": "2021-07-15T19:07:57.537700Z",
     "iopub.status.idle": "2021-07-15T19:07:57.540848Z",
     "shell.execute_reply": "2021-07-15T19:07:57.540427Z"
    }
   },
   "outputs": [],
   "source": [
    "# Uncomment and complete this code - keep the names the same for testing purposes.\n",
    "\n",
    "# A33 = ...\n",
    "\n",
    "# def f_cubic(A):\n",
    "#     ..."
   ]
  },
  {
   "cell_type": "code",
   "execution_count": null,
   "metadata": {
    "execution": {
     "iopub.execute_input": "2021-07-15T19:07:57.553615Z",
     "iopub.status.busy": "2021-07-15T19:07:57.553269Z",
     "iopub.status.idle": "2021-07-15T19:07:57.598009Z",
     "shell.execute_reply": "2021-07-15T19:07:57.597700Z"
    },
    "tags": [
     "pybryt"
    ]
   },
   "outputs": [],
   "source": [
    "with pybryt.check(pybryt_reference(2, 11)):\n",
    "    f_cubic(np.array([[1, 2, -6], [2, 2, -5]])), A33"
   ]
  },
  {
   "cell_type": "code",
   "execution_count": null,
   "metadata": {
    "execution": {
     "iopub.execute_input": "2021-07-15T19:07:57.600395Z",
     "iopub.status.busy": "2021-07-15T19:07:57.600047Z",
     "iopub.status.idle": "2021-07-15T19:07:57.622795Z",
     "shell.execute_reply": "2021-07-15T19:07:57.622439Z"
    },
    "tags": [
     "okpy"
    ]
   },
   "outputs": [],
   "source": [
    "ok.grade('exercise-2_11')"
   ]
  },
  {
   "cell_type": "markdown",
   "metadata": {},
   "source": [
    "## Exercise 2.12: Matrix-matrix multiplication\n",
    "\n",
    "The general rule for multiplying an $n \\times m$ matrix $\\mathbf{A}$ by a $m \\times p$ matrix $\\mathbf{B}$ results in a $n \\times p$ matrix $\\mathbf{C}$, whose components are defined by the general rule\n",
    "\n",
    "$$\\mathbf{C}_{i,j} = \\sum^m_{k=1}\\mathbf{A}_{i,k}\\mathbf{B}_{k,j}$$\n",
    "\n",
    "Again let $\\mathbf{A}$ be the two-dimensional array\n",
    "\n",
    "$$\n",
    "\\mathbf{A} = \\left\\lbrack\\begin{array}{ccc}\n",
    "0 & 12 & -1\\cr\n",
    "-1 & -1 & -1\\cr\n",
    "11 & 5 & 5\n",
    "\\end{array}\\right\\rbrack\n",
    "$$\n",
    "\n",
    "and let $\\mathbf{B}$ be the two-dimensional array\n",
    "\n",
    "$$\n",
    "\\mathbf{B} = \\left\\lbrack\\begin{array}{ccc}\n",
    "-2 & 1 & 7\\cr\n",
    "3 & 0 & 6\\cr\n",
    "2 & 3 & 5\n",
    "\\end{array}\\right\\rbrack.\n",
    "$$\n",
    "\n",
    "Define `A` and `B` as NumPy arrays, and write a function `f_mult` which multiplies them together using the above rule to create a the NumPy array called `C`."
   ]
  },
  {
   "cell_type": "code",
   "execution_count": null,
   "metadata": {
    "execution": {
     "iopub.execute_input": "2021-07-15T19:07:57.633275Z",
     "iopub.status.busy": "2021-07-15T19:07:57.632262Z",
     "iopub.status.idle": "2021-07-15T19:07:57.633757Z",
     "shell.execute_reply": "2021-07-15T19:07:57.634078Z"
    }
   },
   "outputs": [],
   "source": [
    "# Uncomment and complete this code - keep the names the same for testing purposes.\n",
    "\n",
    "# def f_mult(A, B):\n",
    "#     if A.shape[1] != B.shape[0]:\n",
    "#         raise RuntimeError('Matrix A should have the same number of columns as B has rows.')\n",
    "#     C = np.zeros([A.shape[0], B.shape[1]])\n",
    "#     ..."
   ]
  },
  {
   "cell_type": "code",
   "execution_count": null,
   "metadata": {
    "execution": {
     "iopub.execute_input": "2021-07-15T19:07:57.648954Z",
     "iopub.status.busy": "2021-07-15T19:07:57.648507Z",
     "iopub.status.idle": "2021-07-15T19:07:57.680907Z",
     "shell.execute_reply": "2021-07-15T19:07:57.680486Z"
    },
    "tags": [
     "pybryt"
    ]
   },
   "outputs": [],
   "source": [
    "with pybryt.check(pybryt_reference(2, 12)):\n",
    "    f_mult(np.array([[5, 6], [11, 17]]), np.array([[91, -6], [21, 14]])), A, B"
   ]
  },
  {
   "cell_type": "code",
   "execution_count": null,
   "metadata": {
    "execution": {
     "iopub.execute_input": "2021-07-15T19:07:57.686077Z",
     "iopub.status.busy": "2021-07-15T19:07:57.685609Z",
     "iopub.status.idle": "2021-07-15T19:07:57.704121Z",
     "shell.execute_reply": "2021-07-15T19:07:57.703714Z"
    },
    "tags": [
     "okpy"
    ]
   },
   "outputs": [],
   "source": [
    "ok.grade('exercise-2_12')"
   ]
  },
  {
   "cell_type": "markdown",
   "metadata": {},
   "source": [
    "## Exercise 2.13: 2D array slicing\n",
    "\n",
    "\n",
    "* Create a 1D NumPy array called `odd` with all of the odd numbers from 1 to 55\n",
    "* Create a 2D NumPy array called `odd_sq` with all of the odd numbers from 1 to 55 in a matrix with 4 rows and 7 columns\n",
    "* Using array slicing, create a 2D NumPy array called, `odd_bits`, that starts from the $2^{nd}$ column of `odd_sq` and selects every other column, of only the $2^{nd}$ and $3^{rd}$ rows of `odd_sq`."
   ]
  },
  {
   "cell_type": "code",
   "execution_count": null,
   "metadata": {
    "execution": {
     "iopub.execute_input": "2021-07-15T19:07:57.716889Z",
     "iopub.status.busy": "2021-07-15T19:07:57.716444Z",
     "iopub.status.idle": "2021-07-15T19:07:57.718502Z",
     "shell.execute_reply": "2021-07-15T19:07:57.718115Z"
    }
   },
   "outputs": [],
   "source": [
    "# Uncomment and complete this code - keep the names the same for testing purposes.\n",
    "\n",
    "# odd = ...\n",
    "# odd_sq = ...\n",
    "# odd_bits = ..."
   ]
  },
  {
   "cell_type": "code",
   "execution_count": null,
   "metadata": {
    "execution": {
     "iopub.execute_input": "2021-07-15T19:07:57.728114Z",
     "iopub.status.busy": "2021-07-15T19:07:57.727669Z",
     "iopub.status.idle": "2021-07-15T19:07:57.736263Z",
     "shell.execute_reply": "2021-07-15T19:07:57.735905Z"
    },
    "tags": [
     "pybryt"
    ]
   },
   "outputs": [],
   "source": [
    "with pybryt.check(pybryt_reference(2, 13)):\n",
    "    odd, odd_sq, odd_bits"
   ]
  },
  {
   "cell_type": "code",
   "execution_count": null,
   "metadata": {
    "execution": {
     "iopub.execute_input": "2021-07-15T19:07:57.741219Z",
     "iopub.status.busy": "2021-07-15T19:07:57.740758Z",
     "iopub.status.idle": "2021-07-15T19:07:57.757268Z",
     "shell.execute_reply": "2021-07-15T19:07:57.753301Z"
    },
    "tags": [
     "okpy"
    ]
   },
   "outputs": [],
   "source": [
    "ok.grade('exercise-2_13')"
   ]
  },
  {
   "cell_type": "code",
   "execution_count": null,
   "metadata": {
    "execution": {
     "iopub.execute_input": "2021-07-15T19:07:57.768355Z",
     "iopub.status.busy": "2021-07-15T19:07:57.767792Z",
     "iopub.status.idle": "2021-07-15T19:07:57.932191Z",
     "shell.execute_reply": "2021-07-15T19:07:57.924761Z"
    },
    "tags": [
     "okpy"
    ]
   },
   "outputs": [],
   "source": [
    "ok.score()"
   ]
  }
 ],
 "metadata": {
  "celltoolbar": "Tags",
  "kernelspec": {
   "display_name": "Python 3",
   "language": "python",
   "name": "python3"
  },
  "language_info": {
   "codemirror_mode": {
    "name": "ipython",
    "version": 3
   },
   "file_extension": ".py",
   "mimetype": "text/x-python",
   "name": "python",
   "nbconvert_exporter": "python",
   "pygments_lexer": "ipython3",
   "version": "3.8.10"
  }
 },
 "nbformat": 4,
 "nbformat_minor": 4
}
