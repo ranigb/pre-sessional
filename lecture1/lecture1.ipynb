{
 "cells": [
  {
   "cell_type": "code",
   "execution_count": null,
   "metadata": {
    "execution": {
     "iopub.execute_input": "2021-07-15T18:12:09.848274Z",
     "iopub.status.busy": "2021-07-15T18:12:09.847799Z",
     "iopub.status.idle": "2021-07-15T18:12:10.310214Z",
     "shell.execute_reply": "2021-07-15T18:12:10.309690Z"
    }
   },
   "outputs": [],
   "source": [
    "import pybryt\n",
    "from lecture import ok, pybryt_reference"
   ]
  },
  {
   "cell_type": "markdown",
   "metadata": {
    "slideshow": {
     "slide_type": "slide"
    }
   },
   "source": [
    "# Introduction to programming in Python\n",
    "\n",
    "# Lecture 1: Hello world, conditional expressions, loops, and lists"
   ]
  },
  {
   "cell_type": "markdown",
   "metadata": {
    "slideshow": {
     "slide_type": "slide"
    }
   },
   "source": [
    "## Learning objectives:\n",
    "\n",
    "* You will understand that Python will help you defy gravity.\n",
    "* You will know how to execute Python statements from within Jupyter.\n",
    "* Understand what a variable is and how to express a mathematical expression in code.\n",
    "* Print program outputs.\n",
    "* Access mathematical functions from a Python module.\n",
    "* Be able to write your own *function*.\n",
    "* Know how to form a *condition* using a *boolean expression*.\n",
    "* You will be able to use a conditional expression in combination with a *while-loop* to perform repetitive tasks.\n",
    "* You will learn how to store data elements within a Python *list*.\n",
    "* You will learn to use a *for-loop* to iterate, and perform some task over a *list* of elements."
   ]
  },
  {
   "cell_type": "markdown",
   "metadata": {
    "slideshow": {
     "slide_type": "fragment"
    }
   },
   "source": [
    "```python\n",
    "import antigravity\n",
    "```\n",
    "![import antigravity](https://imgs.xkcd.com/comics/python.png)"
   ]
  },
  {
   "cell_type": "markdown",
   "metadata": {
    "slideshow": {
     "slide_type": "slide"
    }
   },
   "source": [
    "## Programming a mathematical formula\n",
    "\n",
    "Here is a formula for the position of a ball $y(t)$ in vertical motion, starting at ground level (i.e. at $y=0$) at time $t=0$:\n",
    "\n",
    "$$ y(t) = v_0t- \\frac{1}{2}gt^2, $$\n",
    "\n",
    "where:\n",
    "\n",
    "* $y(t)$ is the height (position) as a function of time $t$,\n",
    "* $v_0$ is the initial velocity (at $t=0$), and\n",
    "* $g$ is the acceleration due to gravity.\n",
    "\n",
    "The computational task we want to solve is: given the values of $v_0$, $g$ and $t$, compute the height $y$. "
   ]
  },
  {
   "cell_type": "markdown",
   "metadata": {
    "slideshow": {
     "slide_type": "subslide"
    }
   },
   "source": [
    "**How do we program this task?** A program is a sequence of instructions given to the computer. However, while a programming language is much **simpler** than a natural language, it is more **pedantic**. Programs must have correct syntax, i.e. correct use of the computer language grammar rules, and no misprints.\n",
    "\n",
    "So let us execute a Python statement based on this example to evaluate $y(t) = v_0t- \\frac{1}{2}gt^2$ for $v_0 = 5 \\,\\text{ms}^{-1}$, $g = 9.81 \\,\\text{ms}^{-2}$ and $t = 0.6 \\,\\text{s}$. If you were doing this on paper you would probably write something like this: $$y = 5\\cdot 0.6 - \\frac{1}{2}\\cdot 9.81 \\cdot 0.6^2.$$ Happily, writing this in Python is very similar:"
   ]
  },
  {
   "cell_type": "code",
   "execution_count": null,
   "metadata": {
    "execution": {
     "iopub.execute_input": "2021-07-15T18:12:10.313834Z",
     "iopub.status.busy": "2021-07-15T18:12:10.313393Z",
     "iopub.status.idle": "2021-07-15T18:12:10.316271Z",
     "shell.execute_reply": "2021-07-15T18:12:10.316850Z"
    },
    "slideshow": {
     "slide_type": "fragment"
    }
   },
   "outputs": [],
   "source": [
    "# Comment: This is a 'code' cell within Jupyter notebook.\n",
    "# Press Shift-Enter to execute the code within this kind of\n",
    "# cell, or click 'Run' on the Jupyter toolbar above.\n",
    "\n",
    "print(5*0.6 - 0.5*9.81*0.6**2)"
   ]
  },
  {
   "cell_type": "markdown",
   "metadata": {},
   "source": [
    "You probably noticed that, in the code cell we just wrote, the first few lines start with the hash (`#`) character. In Python, we use `#` to tell Python interpreter to ignore everything in the line that comes after `#`. We call those lines **comments**, and we write them to help us (humans) understand the code. Besides, we used `print` and enclosed our caluclation within parentheses to display the output. We will explain *comments* and *print function* in more details later."
   ]
  },
  {
   "cell_type": "markdown",
   "metadata": {
    "slideshow": {
     "slide_type": "subslide"
    }
   },
   "source": [
    "## Exercise 1.1: Open a code cell and write some code.\n",
    "1. Navigate the [Jupyter](http://jupyter.org/) toolbar to \"Insert\"->\"Insert Cell Below\". Note from the toolbar that you can select a cell to be 'Code' (this is the default), 'Markdown' (the cell you are reading right now is written in [Markdown](https://en.wikipedia.org/wiki/Markdown) - double click this cell to investigate further), and 'Raw' (its content is not evaluated by the notebook).\n",
    "2. Copy&paste the code from the previous code cell into your newly created code cell below. Make sure it runs!\n",
    "3. To see how important it is to use the correct [syntax](https://en.wikipedia.org/wiki/Syntax), replace `**` with `^` in your code and try running the cell again. You should see something like the following:\n",
    "\n",
    "```python\n",
    "---------------------------------------------------------------------------\n",
    "TypeError                                 Traceback (most recent call last)\n",
    "<ipython-input-4-6e110a567f02> in <module>\n",
    "      3 # cell, or click on the 'Run' widget on the Jupyter toolbar above.\n",
    "      4 \n",
    "----> 5 print(5*0.6 - 0.5*9.81*0.6^2)\n",
    "\n",
    "TypeError: unsupported operand type(s) for ^: 'float' and 'int'\n",
    "```\n",
    "4. Undo that change so your code is working again; now change `print` to `write` and see what happens when you run the cell. You should see something like:\n",
    "\n",
    "```python\n",
    "---------------------------------------------------------------------------\n",
    "NameError                                 Traceback (most recent call last)\n",
    "<ipython-input-5-a3da902ceb19> in <module>\n",
    "      3 # cell, or click on the 'Run' widget on the Jupyter toolbar above.\n",
    "      4 \n",
    "----> 5 write(5*0.6 - 0.5*9.81*0.6**2)\n",
    "\n",
    "NameError: name 'write' is not defined\n",
    "```\n",
    "\n",
    "While a human might still understand these statements, they do not mean anything to the Python interpreter. Rather than throwing your hands up in the air whenever you get an error message like the above (you are going to see many during the course of these lectures!!!), train yourself to read error messages carefully to get an idea what it is complaining about, and re-read your code from the perspective of the Python interpreter.\n",
    "\n",
    "Error messages can look bewildering and even frustrating at first, but **it gets much easier with practise**."
   ]
  },
  {
   "cell_type": "markdown",
   "metadata": {
    "slideshow": {
     "slide_type": "slide"
    }
   },
   "source": [
    "## Storing numbers in variables\n",
    "\n",
    "From mathematics, you are already familiar with variables (e.g. $v_0 = 5$, $g = 9.81$, $t = 0.6$, $y = v_0t - \\frac{1}{2}gt^2$), and you already know how important they are for working out complicated problems. Similarly, you can use variables in a program to make it easier to read and understand."
   ]
  },
  {
   "cell_type": "code",
   "execution_count": null,
   "metadata": {
    "execution": {
     "iopub.execute_input": "2021-07-15T18:12:10.328028Z",
     "iopub.status.busy": "2021-07-15T18:12:10.327606Z",
     "iopub.status.idle": "2021-07-15T18:12:10.332295Z",
     "shell.execute_reply": "2021-07-15T18:12:10.331610Z"
    },
    "slideshow": {
     "slide_type": "subslide"
    }
   },
   "outputs": [],
   "source": [
    "v0 = 5\n",
    "g = 9.81\n",
    "t = 0.6\n",
    "y = v0*t - 0.5*g*t**2\n",
    "print(y)"
   ]
  },
  {
   "cell_type": "markdown",
   "metadata": {
    "slideshow": {
     "slide_type": "fragment"
    }
   },
   "source": [
    "This program performs the same calculations as the previous one and gives the same output. However, this program spans several lines and uses variables. \n",
    "\n",
    "We usually use one letter for a variable in mathematics, resorting to using the Greek alphabet and other characters for more clarity. The main reason for this is to avoid becoming exhausted from writing when working out long expressions or derivations. However, when programming, you should use more descriptive names for variables. This might not seem like an important consideration for the trivial example here. Still, it becomes increasingly important as the program gets more complicated and if someone else has to read your code."
   ]
  },
  {
   "cell_type": "markdown",
   "metadata": {
    "slideshow": {
     "slide_type": "slide"
    }
   },
   "source": [
    "### Good variable names make a program easier to understand!\n",
    "\n",
    "Permitted variable names include:\n",
    "\n",
    "* one-letter symbols,\n",
    "* words or abbreviation of words, and\n",
    "* variable names can contain lowercase `a-z`, uppercase `A-Z`, underscore (`_`), and digits `0-9`, **but** the name cannot start with a digit or contain a whitespace.\n",
    "\n",
    "Variable names are case-sensitive (i.e. `a` is different from `A`). Let us rewrite the previous example using more descriptive variable names:"
   ]
  },
  {
   "cell_type": "code",
   "execution_count": null,
   "metadata": {
    "execution": {
     "iopub.execute_input": "2021-07-15T18:12:10.335564Z",
     "iopub.status.busy": "2021-07-15T18:12:10.335146Z",
     "iopub.status.idle": "2021-07-15T18:12:10.339947Z",
     "shell.execute_reply": "2021-07-15T18:12:10.339563Z"
    },
    "slideshow": {
     "slide_type": "fragment"
    }
   },
   "outputs": [],
   "source": [
    "initial_velocity = 5\n",
    "acceleration_of_gravity = 9.81\n",
    "TIME = 0.6\n",
    "VerticalPositionOfBall = initial_velocity*TIME - 0.5*acceleration_of_gravity*TIME**2\n",
    "print(VerticalPositionOfBall)"
   ]
  },
  {
   "cell_type": "markdown",
   "metadata": {
    "slideshow": {
     "slide_type": "subslide"
    }
   },
   "source": [
    "Certain words have a **special meaning** in Python and **cannot be used as variable names**. We refer to them as **keywords**, and they are:\n",
    "\n",
    "`and`, `as`, `assert`, `async`, `await`, `break`, `class`, `continue`, `def`, `del`, `elif`, `else`, `except`, `finally`, `for`, `from`, `global`, `if`, `import`, `in`, `is`, `lambda`, `nonlocal`, `not`, `or`, `pass`, `raise`, `return`, `try`, `while`, `with`, and `yield`. \n",
    "\n",
    "Similarly, `True`, `False`, and `None` are keywords we use for the values of variables, and we cannot use them for variable names. Keywords are very important in programming and, in these lectures, we will learn how to use them."
   ]
  },
  {
   "cell_type": "markdown",
   "metadata": {
    "slideshow": {
     "slide_type": "slide"
    }
   },
   "source": [
    "## Adding comments to code\n",
    "\n",
    "Not everything written in a computer program is intended for execution. In Python, anything on a line after the `#` character is ignored and is known as a **comment**. You can write whatever you want in a comment. Comments are intended to be used to explain what a snippet of code is intended for. It might, for example, explain the objective or provide a reference to the data or algorithm used. This is useful for you when you have to understand your code at some later stage, and indeed for whoever has to read and understand your code later."
   ]
  },
  {
   "cell_type": "code",
   "execution_count": null,
   "metadata": {
    "execution": {
     "iopub.execute_input": "2021-07-15T18:12:10.343248Z",
     "iopub.status.busy": "2021-07-15T18:12:10.342829Z",
     "iopub.status.idle": "2021-07-15T18:12:10.347673Z",
     "shell.execute_reply": "2021-07-15T18:12:10.347305Z"
    },
    "slideshow": {
     "slide_type": "fragment"
    }
   },
   "outputs": [],
   "source": [
    "# Program for computing the height of a ball in vertical motion.\n",
    "v0 = 5    # Set initial velocity in m/s.\n",
    "g = 9.81  # Set acceleration due to gravity in m/s^2.\n",
    "t = 0.6   # Time at which we want to know the height of the ball in seconds.\n",
    "y = v0*t - 0.5*g*t**2  # Calculate the vertical position.\n",
    "print(y)"
   ]
  },
  {
   "cell_type": "markdown",
   "metadata": {
    "slideshow": {
     "slide_type": "slide"
    }
   },
   "source": [
    "## Exercise 1.2: Convert from meters to British length units\n",
    "\n",
    "Here in the UK, we are famous for our love of performing mental arithmetic. That is why we still use both imperial and metric measurement systems - hours of fun entertainment for the family switching back and forth between the two.\n",
    "\n",
    "Make a program where you set a length given in meters and then compute and write out the corresponding length measured in:\n",
    "* inches (one inch is 2.54 cm)\n",
    "* feet (one foot is 12 inches)\n",
    "* yards (one foot is 12 inches, one yard is 3 feet)\n",
    "* miles (one British mile is 1760 yards)\n",
    "\n",
    "**Note**: In this course, we are using [okpy](https://okpy.org/) and [pybryt](https://microsoft.github.io/pybryt/html/index.html) for automated assessment scoring. Therefore, while it is generally important to always carefully follow the instructions of a question, it is particularly important here so that *okpy* and *pybryt* can recognise the validity of your answer.\n",
    "\n",
    "*Uncomment* and modify the relevant lines in the following code cell. The conversion to inches is done for you to illustrate what is required."
   ]
  },
  {
   "cell_type": "code",
   "execution_count": null,
   "metadata": {
    "execution": {
     "iopub.execute_input": "2021-07-15T18:12:10.350526Z",
     "iopub.status.busy": "2021-07-15T18:12:10.350097Z",
     "iopub.status.idle": "2021-07-15T18:12:10.352919Z",
     "shell.execute_reply": "2021-07-15T18:12:10.352556Z"
    }
   },
   "outputs": [],
   "source": [
    "meters = 640\n",
    "\n",
    "# 1 inch = 2.54 cm. Remember to convert from 2.54 cm to 0.0254 m here.\n",
    "inches = meters/0.0254\n",
    "\n",
    "# Uncomment and complete the following code. Do not change variable ames for testing.\n",
    "# feet =\n",
    "\n",
    "# yards =\n",
    "\n",
    "# miles ="
   ]
  },
  {
   "cell_type": "code",
   "execution_count": null,
   "metadata": {
    "execution": {
     "iopub.execute_input": "2021-07-15T18:12:10.360492Z",
     "iopub.status.busy": "2021-07-15T18:12:10.359910Z",
     "iopub.status.idle": "2021-07-15T18:12:10.366462Z",
     "shell.execute_reply": "2021-07-15T18:12:10.366787Z"
    },
    "tags": [
     "pybryt"
    ]
   },
   "outputs": [],
   "source": [
    "with pybryt.check(pybryt_reference(1, 2)):\n",
    "    feet, yards, miles"
   ]
  },
  {
   "cell_type": "code",
   "execution_count": null,
   "metadata": {
    "execution": {
     "iopub.execute_input": "2021-07-15T18:12:10.371849Z",
     "iopub.status.busy": "2021-07-15T18:12:10.371408Z",
     "iopub.status.idle": "2021-07-15T18:12:10.387958Z",
     "shell.execute_reply": "2021-07-15T18:12:10.383922Z"
    },
    "tags": [
     "okpy"
    ]
   },
   "outputs": [],
   "source": [
    "grade = ok.grade('exercise-1_2')"
   ]
  },
  {
   "cell_type": "markdown",
   "metadata": {
    "slideshow": {
     "slide_type": "slide"
    }
   },
   "source": [
    "## Formatted printing style\n",
    "\n",
    "Often we want to print out results using a combination of text and numbers, e.g. \"At t=0.6 s, y is 1.23 m\". Particularly when printing out floating-point numbers, we should **never** quote numbers to a higher accuracy than they were measured. Python provides a *printf formatting* syntax exactly for this purpose. We can see in the following example where the *slot* `%g` expresses the floating-point number with the minimum number of significant figures, and the *slot* `%.2f` specifies that only two digits are printed out after the decimal point."
   ]
  },
  {
   "cell_type": "code",
   "execution_count": null,
   "metadata": {
    "execution": {
     "iopub.execute_input": "2021-07-15T18:12:10.398917Z",
     "iopub.status.busy": "2021-07-15T18:12:10.398483Z",
     "iopub.status.idle": "2021-07-15T18:12:10.401316Z",
     "shell.execute_reply": "2021-07-15T18:12:10.400950Z"
    },
    "slideshow": {
     "slide_type": "fragment"
    }
   },
   "outputs": [],
   "source": [
    "print(\"At t=%g s, y is %.2f m.\" % (t, y))"
   ]
  },
  {
   "cell_type": "markdown",
   "metadata": {
    "slideshow": {
     "slide_type": "fragment"
    }
   },
   "source": [
    "Notice in this example how the values in the tuple `(t, y)` are inserted into the *slots* (`%g` and `%.2f`)."
   ]
  },
  {
   "cell_type": "markdown",
   "metadata": {
    "slideshow": {
     "slide_type": "subslide"
    }
   },
   "source": [
    "Sometimes we want a multi-line output. This is achieved using a triple quotation, i.e. `\"\"\"`:"
   ]
  },
  {
   "cell_type": "code",
   "execution_count": null,
   "metadata": {
    "execution": {
     "iopub.execute_input": "2021-07-15T18:12:10.405408Z",
     "iopub.status.busy": "2021-07-15T18:12:10.404919Z",
     "iopub.status.idle": "2021-07-15T18:12:10.407846Z",
     "shell.execute_reply": "2021-07-15T18:12:10.407479Z"
    },
    "slideshow": {
     "slide_type": "fragment"
    }
   },
   "outputs": [],
   "source": [
    "print(\"\"\"At t=%f s, a ball with\n",
    "initial velocity v0=%.3E m/s\n",
    "is located at the height y=%.2f m.\n",
    "\"\"\" % (t, v0, y))"
   ]
  },
  {
   "cell_type": "markdown",
   "metadata": {},
   "source": [
    "Notice in this example we used `%f`, `%.3E`, and `%.2f` to define slots, into which we inserted the values of `t`, `v0`, and `y` respectively. You can find more details about the format specification mini-language in the Python [documentation](https://docs.python.org/3/library/string.html#format-specification-mini-language)."
   ]
  },
  {
   "cell_type": "markdown",
   "metadata": {},
   "source": [
    "Instead of using the `%` operator for formatted printing, Python offers another two syntax alternatives: string's `format` method and f-strings. Let us have a look at how we can print \"At t=0.6 s, y is 1.23 m\" using these two alternative solutions."
   ]
  },
  {
   "cell_type": "code",
   "execution_count": null,
   "metadata": {
    "execution": {
     "iopub.execute_input": "2021-07-15T18:12:10.411708Z",
     "iopub.status.busy": "2021-07-15T18:12:10.411254Z",
     "iopub.status.idle": "2021-07-15T18:12:10.414498Z",
     "shell.execute_reply": "2021-07-15T18:12:10.414043Z"
    }
   },
   "outputs": [],
   "source": [
    "print(\"At t={:g} s, y is {:.2f} m.\".format(t, y))  # string's format method"
   ]
  },
  {
   "cell_type": "code",
   "execution_count": null,
   "metadata": {
    "execution": {
     "iopub.execute_input": "2021-07-15T18:12:10.418764Z",
     "iopub.status.busy": "2021-07-15T18:12:10.417909Z",
     "iopub.status.idle": "2021-07-15T18:12:10.421239Z",
     "shell.execute_reply": "2021-07-15T18:12:10.420758Z"
    }
   },
   "outputs": [],
   "source": [
    "print(f\"At t={t:g} s, y is {y:.2f} m.\")  # f-string method - string literal begins with an f"
   ]
  },
  {
   "cell_type": "markdown",
   "metadata": {},
   "source": [
    "Notice that we defined slots in a string using curly braces `{}` where we also specified the formatting style in the same way we did before, but this time using `:` instead of `%`. We inserted the values into the slots by passing them to the `format()` method or by writing them in curly braces."
   ]
  },
  {
   "cell_type": "markdown",
   "metadata": {
    "slideshow": {
     "slide_type": "slide"
    }
   },
   "source": [
    "## Exercise 1.3: Compute the air resistance on a football\n",
    "\n",
    "The drag force, due to air resistance, on an object can be expressed as\n",
    "$$F_d = \\frac{1}{2}C_D\\rho Av^2$$\n",
    "where:\n",
    "* $\\rho$ is the density of the air,\n",
    "* $v$ is the velocity of the object,\n",
    "* $A$ is the cross-sectional area (perpendicular to the velocity direction),\n",
    "* and $C_D$ is the drag coefficient, which depends on the shape of the object and the roughness of the surface.\n",
    "\n",
    "Complete and correct the following code that computes the drag force."
   ]
  },
  {
   "cell_type": "code",
   "execution_count": null,
   "metadata": {
    "execution": {
     "iopub.execute_input": "2021-07-15T18:12:10.425404Z",
     "iopub.status.busy": "2021-07-15T18:12:10.424339Z",
     "iopub.status.idle": "2021-07-15T18:12:10.425974Z",
     "shell.execute_reply": "2021-07-15T18:12:10.426401Z"
    }
   },
   "outputs": [],
   "source": [
    "# Import pi (3.14159...) from Python's math library\n",
    "from math import pi\n",
    "\n",
    "density = 1.2       # units of kg/m**3\n",
    "ball_radius = 0.11  # units of m\n",
    "A = pi*ball_radius  # Cross sectional area of a sphere\n",
    "C_D = 0.2           # Drag coefficient\n",
    "\n",
    "v = 50.8            # m/s (fastest recorded speed of football)\n",
    "\n",
    "# Uncomment and complete the following line.\n",
    "# F_d =\n",
    "\n",
    "# Challenge yourself to use the formatted print statement\n",
    "# shown above to write out the force with one decimal in\n",
    "# units of Newton (1 N = 1 kgm/s^2)."
   ]
  },
  {
   "cell_type": "code",
   "execution_count": null,
   "metadata": {
    "execution": {
     "iopub.execute_input": "2021-07-15T18:12:10.437742Z",
     "iopub.status.busy": "2021-07-15T18:12:10.437162Z",
     "iopub.status.idle": "2021-07-15T18:12:10.442910Z",
     "shell.execute_reply": "2021-07-15T18:12:10.443348Z"
    },
    "tags": [
     "pybryt"
    ]
   },
   "outputs": [],
   "source": [
    "with pybryt.check(pybryt_reference(1, 3)):\n",
    "    A, F_d"
   ]
  },
  {
   "cell_type": "code",
   "execution_count": null,
   "metadata": {
    "execution": {
     "iopub.execute_input": "2021-07-15T18:12:10.446531Z",
     "iopub.status.busy": "2021-07-15T18:12:10.446005Z",
     "iopub.status.idle": "2021-07-15T18:12:10.462974Z",
     "shell.execute_reply": "2021-07-15T18:12:10.459995Z"
    },
    "tags": [
     "okpy"
    ]
   },
   "outputs": [],
   "source": [
    "grade = ok.grade('exercise-1_3')"
   ]
  },
  {
   "cell_type": "markdown",
   "metadata": {
    "slideshow": {
     "slide_type": "slide"
    }
   },
   "source": [
    "## How are arithmetic expressions evaluated?\n",
    "Consider the random mathematical expression, ${5\\over9} + 2a^4/2$, implemented in Python as `5.0/9 + 2*a**4/2`. The rules for evaluating the expression are the same as in mathematics: proceed term by term (additions/subtractions) from the left, compute powers first, then multiplication and division. Therefore in this example the order of evaluation will be:\n",
    "\n",
    "1. `r1 = 5.0/9`\n",
    "2. `r2 = a**4`\n",
    "3. `r3 = 2*r2`\n",
    "4. `r4 = r3/2`\n",
    "5. `r5 = r1 + r4`\n",
    "\n",
    "We use parenthesis to override these default rules. Indeed, many programmers use parenthesis for greater clarity."
   ]
  },
  {
   "cell_type": "markdown",
   "metadata": {
    "slideshow": {
     "slide_type": "slide"
    }
   },
   "source": [
    "## Exercise 1.4: Compute the growth of money in a bank\n",
    "\n",
    "Let $p$ be a bank's annual interest rate in per cent. After $n$ years, an initial amount $A_0$ has then grown to\n",
    "\n",
    "$$A_n = A_0\\left(1+\\frac{p}{100}\\right)^n.$$\n",
    "\n",
    "Write a program for computing how much money 1000 euros have grown to after three years with a 5% annual interest rate."
   ]
  },
  {
   "cell_type": "code",
   "execution_count": null,
   "metadata": {
    "execution": {
     "iopub.execute_input": "2021-07-15T18:12:10.471861Z",
     "iopub.status.busy": "2021-07-15T18:12:10.471439Z",
     "iopub.status.idle": "2021-07-15T18:12:10.474312Z",
     "shell.execute_reply": "2021-07-15T18:12:10.473964Z"
    }
   },
   "outputs": [],
   "source": [
    "# Uncomment and complete the code below (don't change variable names!)\n",
    "\n",
    "# p = ...\n",
    "# A_0 = ...\n",
    "\n",
    "# A_n = ...\n",
    "\n",
    "# print(\"The amount of money in the account after %d years is: %.2f euros\" % (n, A_n))"
   ]
  },
  {
   "cell_type": "code",
   "execution_count": null,
   "metadata": {
    "execution": {
     "iopub.execute_input": "2021-07-15T18:12:10.485377Z",
     "iopub.status.busy": "2021-07-15T18:12:10.483874Z",
     "iopub.status.idle": "2021-07-15T18:12:10.491680Z",
     "shell.execute_reply": "2021-07-15T18:12:10.491328Z"
    },
    "tags": [
     "pybryt"
    ]
   },
   "outputs": [],
   "source": [
    "with pybryt.check(pybryt_reference(1, 4)):\n",
    "    p, A_0, n, A_n"
   ]
  },
  {
   "cell_type": "code",
   "execution_count": null,
   "metadata": {
    "execution": {
     "iopub.execute_input": "2021-07-15T18:12:10.496593Z",
     "iopub.status.busy": "2021-07-15T18:12:10.496146Z",
     "iopub.status.idle": "2021-07-15T18:12:10.510741Z",
     "shell.execute_reply": "2021-07-15T18:12:10.507715Z"
    },
    "tags": [
     "okpy"
    ]
   },
   "outputs": [],
   "source": [
    "grade = ok.grade('exercise-1_4')"
   ]
  },
  {
   "cell_type": "markdown",
   "metadata": {
    "slideshow": {
     "slide_type": "slide"
    }
   },
   "source": [
    "## Standard mathematical functions\n",
    "\n",
    "What if we need to compute $\\sin x$, $\\cos x$, $\\ln x$, $e^x$ etc., in a program? Such functions are available in Python's `math` module. In fact, there is a vast universe of functionality for Python available in modules. We just *import* in whatever we need for the task at hand.\n",
    "\n",
    "In this example, we compute $\\sqrt{2}$ using the `sqrt` function from the `math` module:"
   ]
  },
  {
   "cell_type": "code",
   "execution_count": null,
   "metadata": {
    "execution": {
     "iopub.execute_input": "2021-07-15T18:12:10.520826Z",
     "iopub.status.busy": "2021-07-15T18:12:10.520392Z",
     "iopub.status.idle": "2021-07-15T18:12:10.524438Z",
     "shell.execute_reply": "2021-07-15T18:12:10.524061Z"
    },
    "slideshow": {
     "slide_type": "fragment"
    }
   },
   "outputs": [],
   "source": [
    "import math\n",
    "\n",
    "# Since we imported library (import math),\n",
    "# we access the sqrt function using math.sqrt.\n",
    "r = math.sqrt(2)\n",
    "print(r)"
   ]
  },
  {
   "cell_type": "markdown",
   "metadata": {
    "slideshow": {
     "slide_type": "subslide"
    }
   },
   "source": [
    "or:"
   ]
  },
  {
   "cell_type": "code",
   "execution_count": null,
   "metadata": {
    "execution": {
     "iopub.execute_input": "2021-07-15T18:12:10.528514Z",
     "iopub.status.busy": "2021-07-15T18:12:10.528074Z",
     "iopub.status.idle": "2021-07-15T18:12:10.531009Z",
     "shell.execute_reply": "2021-07-15T18:12:10.530636Z"
    },
    "slideshow": {
     "slide_type": "fragment"
    }
   },
   "outputs": [],
   "source": [
    "from math import sqrt\n",
    "\n",
    "# This time, we did not import the entire library -\n",
    "# we imported only sqrt function.\n",
    "# Therefore, we can use it directly.\n",
    "r = sqrt(2)\n",
    "print(r)"
   ]
  },
  {
   "cell_type": "markdown",
   "metadata": {
    "slideshow": {
     "slide_type": "subslide"
    }
   },
   "source": [
    "Let us now have a look at a more complicated expression, such as $\\sin x \\cos x + 4\\ln x$:"
   ]
  },
  {
   "cell_type": "code",
   "execution_count": null,
   "metadata": {
    "execution": {
     "iopub.execute_input": "2021-07-15T18:12:10.534315Z",
     "iopub.status.busy": "2021-07-15T18:12:10.533891Z",
     "iopub.status.idle": "2021-07-15T18:12:10.538264Z",
     "shell.execute_reply": "2021-07-15T18:12:10.538620Z"
    },
    "slideshow": {
     "slide_type": "fragment"
    }
   },
   "outputs": [],
   "source": [
    "from math import sin, cos, log\n",
    "\n",
    "x = 1.2\n",
    "print(sin(x)*cos(x) + 4*log(x))   # log is ln (base e)"
   ]
  },
  {
   "cell_type": "markdown",
   "metadata": {
    "slideshow": {
     "slide_type": "slide"
    }
   },
   "source": [
    "## Exercise 1.5: Evaluate a Gaussian function\n",
    "\n",
    "The bell-shaped Gaussian function,\n",
    "\n",
    "$$f(x)=\\frac{1}{\\sqrt{2\\pi}s}\\exp\\left(-\\frac{1}{2} \\left(\\frac{x-m}{s}\\right)^2\\right)$$\n",
    "\n",
    "is one of the most widely used functions in science and engineering. The parameters $m$ and $s$ are real numbers, and $s$ must be greater than zero. Write a program for evaluating the Gaussian function when $m = 0$, $s = 2$, and $x = 1$."
   ]
  },
  {
   "cell_type": "code",
   "execution_count": null,
   "metadata": {
    "execution": {
     "iopub.execute_input": "2021-07-15T18:12:10.541520Z",
     "iopub.status.busy": "2021-07-15T18:12:10.541076Z",
     "iopub.status.idle": "2021-07-15T18:12:10.543612Z",
     "shell.execute_reply": "2021-07-15T18:12:10.543235Z"
    }
   },
   "outputs": [],
   "source": [
    "# Uncomment and complete the code below (don't change variable names!)\n",
    "\n",
    "# from math import pi, ...\n",
    "\n",
    "# f_x ="
   ]
  },
  {
   "cell_type": "code",
   "execution_count": null,
   "metadata": {
    "execution": {
     "iopub.execute_input": "2021-07-15T18:12:10.551140Z",
     "iopub.status.busy": "2021-07-15T18:12:10.550725Z",
     "iopub.status.idle": "2021-07-15T18:12:10.556222Z",
     "shell.execute_reply": "2021-07-15T18:12:10.555881Z"
    },
    "tags": [
     "pybryt"
    ]
   },
   "outputs": [],
   "source": [
    "with pybryt.check(pybryt_reference(1, 5)):\n",
    "    f_x"
   ]
  },
  {
   "cell_type": "code",
   "execution_count": null,
   "metadata": {
    "execution": {
     "iopub.execute_input": "2021-07-15T18:12:10.561109Z",
     "iopub.status.busy": "2021-07-15T18:12:10.560668Z",
     "iopub.status.idle": "2021-07-15T18:12:10.576831Z",
     "shell.execute_reply": "2021-07-15T18:12:10.575926Z"
    },
    "tags": [
     "okpy"
    ]
   },
   "outputs": [],
   "source": [
    "grade = ok.grade('exercise-1_5')"
   ]
  },
  {
   "cell_type": "markdown",
   "metadata": {
    "slideshow": {
     "slide_type": "slide"
    }
   },
   "source": [
    "## Exercise 1.6: Find and fix errors in the coding of a formula\n",
    "\n",
    "Roots of a quadratic equation $ax^2 + bx + c = 0$ are:\n",
    "\n",
    "$$x_1 = \\frac{−b + \\sqrt{b^2 −4ac}}{2a},$$\n",
    "and\n",
    "$$x_2 = \\frac{−b − \\sqrt{b^2 −4ac}}{2a}.$$\n",
    "\n",
    "Uncomment and fix the errors in the following code."
   ]
  },
  {
   "cell_type": "code",
   "execution_count": null,
   "metadata": {
    "execution": {
     "iopub.execute_input": "2021-07-15T18:12:10.584420Z",
     "iopub.status.busy": "2021-07-15T18:12:10.583989Z",
     "iopub.status.idle": "2021-07-15T18:12:10.586845Z",
     "shell.execute_reply": "2021-07-15T18:12:10.586482Z"
    }
   },
   "outputs": [],
   "source": [
    "# from math import sqrt\n",
    "#\n",
    "# a = 2\n",
    "# b = 1\n",
    "# c = -2\n",
    "#\n",
    "# q = sqrt(b*b + 4*a*c)\n",
    "# x1 = (-b + q)/2*a\n",
    "# x2 = (-b - q)/2*a"
   ]
  },
  {
   "cell_type": "code",
   "execution_count": null,
   "metadata": {
    "execution": {
     "iopub.execute_input": "2021-07-15T18:12:10.594555Z",
     "iopub.status.busy": "2021-07-15T18:12:10.594143Z",
     "iopub.status.idle": "2021-07-15T18:12:10.600383Z",
     "shell.execute_reply": "2021-07-15T18:12:10.600037Z"
    },
    "tags": [
     "pybryt"
    ]
   },
   "outputs": [],
   "source": [
    "with pybryt.check(pybryt_reference(1, 6)):\n",
    "    q, x1, x2"
   ]
  },
  {
   "cell_type": "code",
   "execution_count": null,
   "metadata": {
    "execution": {
     "iopub.execute_input": "2021-07-15T18:12:10.605373Z",
     "iopub.status.busy": "2021-07-15T18:12:10.604899Z",
     "iopub.status.idle": "2021-07-15T18:12:10.620315Z",
     "shell.execute_reply": "2021-07-15T18:12:10.616289Z"
    },
    "tags": [
     "okpy"
    ]
   },
   "outputs": [],
   "source": [
    "grade = ok.grade('exercise-1_6')"
   ]
  },
  {
   "cell_type": "markdown",
   "metadata": {},
   "source": [
    "## Functions\n",
    "\n",
    "We have already used Python functions above, e.g. `sqrt` from the `math` module. In general, a function is a collection of statements we can execute wherever and whenever we want. For example, consider any of the formulae we implemented above. \n",
    "\n",
    "Functions can take any number of inputs (called *arguments*) to produce outputs. Functions help to organise programs, make them more understandable, shorter, and easier to extend. Wouldn't it be nice to implement it just once and then be able to use it again any time you need it, rather than having to write out the whole formula again?\n",
    "\n",
    "For our first example, we will reuse the formula for the position of a ball in a vertical motion, which we have seen earlier."
   ]
  },
  {
   "cell_type": "code",
   "execution_count": null,
   "metadata": {
    "execution": {
     "iopub.execute_input": "2021-07-15T18:12:10.630734Z",
     "iopub.status.busy": "2021-07-15T18:12:10.630289Z",
     "iopub.status.idle": "2021-07-15T18:12:10.632889Z",
     "shell.execute_reply": "2021-07-15T18:12:10.633244Z"
    }
   },
   "outputs": [],
   "source": [
    "def ball_height(v0, t, g=9.81):\n",
    "    \"\"\"Function to calculate and return height of the ball in vertical motion.\n",
    "\n",
    "    Parameters\n",
    "    ----------\n",
    "    v0 : float\n",
    "         Initial velocity (units, m/s).\n",
    "    t : float\n",
    "        Time at which we want to know the height of the ball (units, seconds).\n",
    "    g : float, optional\n",
    "        Acceleration due to gravity (units, m/s^2). By default 9.81 m/s^2.\n",
    "\n",
    "    Returns\n",
    "    -------\n",
    "    float\n",
    "        Height of ball in meters.\n",
    "\n",
    "    \"\"\"\n",
    "    height = v0*t - 0.5*g*t**2\n",
    "\n",
    "    return height"
   ]
  },
  {
   "cell_type": "markdown",
   "metadata": {},
   "source": [
    "Let us break this example down:\n",
    "* Function *header*:\n",
    "    * Functions start with `def` followed by the name we want to give the function (`ball_height` in this case).\n",
    "    * Following the name, we have parentheses followed by a colon `(...):` containing some number of function *arguments*.\n",
    "    * In this case, `v0` and `t` are *positional arguments*, while `g` is known as a *keyword argument* (more about this later).\n",
    "* Function *body*:\n",
    "    * The first thing to notice is that the body of the function is indented one level. All code that is indented with respect to `def`-line belongs to a function.\n",
    "    * Best practice is to include a [docstring](https://sphinxcontrib-napoleon.readthedocs.io/en/latest/example_numpy.html) to explain to others (or remind our future self) how to use the function.\n",
    "    * The function output is passed back via the `return` statement.\n",
    " \n",
    "Notice that this just defines the function. Nothing is executed until we actually *call* the function:"
   ]
  },
  {
   "cell_type": "code",
   "execution_count": null,
   "metadata": {
    "execution": {
     "iopub.execute_input": "2021-07-15T18:12:10.636450Z",
     "iopub.status.busy": "2021-07-15T18:12:10.636030Z",
     "iopub.status.idle": "2021-07-15T18:12:10.639790Z",
     "shell.execute_reply": "2021-07-15T18:12:10.640146Z"
    }
   },
   "outputs": [],
   "source": [
    "# We pass 5 and 0.6 to v0 and t, respectively.\n",
    "# The value function returns (height) is put in variable h.\n",
    "h = ball_height(5, 0.6)\n",
    "\n",
    "print(\"Ball height: %g meters.\" % h)"
   ]
  },
  {
   "cell_type": "markdown",
   "metadata": {},
   "source": [
    "No return value implies that `None` is returned. `None` is a special Python object that represents an ”empty” or undefined value. It is surprisingly useful, and we will use it a lot later.\n",
    "\n",
    "Functions can also return multiple values. Let us extend the previous example to calculate the ball's velocity as well as its height:"
   ]
  },
  {
   "cell_type": "code",
   "execution_count": null,
   "metadata": {
    "execution": {
     "iopub.execute_input": "2021-07-15T18:12:10.644422Z",
     "iopub.status.busy": "2021-07-15T18:12:10.643979Z",
     "iopub.status.idle": "2021-07-15T18:12:10.650410Z",
     "shell.execute_reply": "2021-07-15T18:12:10.650033Z"
    }
   },
   "outputs": [],
   "source": [
    "def ball_height_velocity(v0, t, g=9.81):\n",
    "    \"\"\"Function to calculate ball's height and its velocity.\n",
    "\n",
    "    Parameters\n",
    "    ----------\n",
    "    v0 : float\n",
    "         Initial velocity (units, m/s).\n",
    "    t : float\n",
    "        Time at which we want to know the height of the ball (units, seconds).\n",
    "    g : float, optional\n",
    "        Acceleration due to gravity (units, m/s^2). By default 9.81 m/s^2.\n",
    "\n",
    "    Returns\n",
    "    -------\n",
    "    float\n",
    "        Height of ball in meters.\n",
    "    float\n",
    "        Velocity of ball in m/s.\n",
    "\n",
    "    \"\"\"\n",
    "    height = v0*t - 0.5*g*t**2\n",
    "    velocity = v0 - g*t\n",
    "\n",
    "    return height, velocity\n",
    "\n",
    "\n",
    "# We pass 5 and 0.6 to v0 and t, respectively.\n",
    "# The first value function returns (height) is put into variable h,\n",
    "# whereas the second one (velocity) is placed in v.\n",
    "h, v = ball_height_velocity(5, 0.6)\n",
    "\n",
    "print(\"Ball height: %g meters.\" % h)\n",
    "print(\"Ball velocity: %g m/s.\" % v)"
   ]
  },
  {
   "cell_type": "markdown",
   "metadata": {},
   "source": [
    "## Scope: Local and global variables\n",
    "\n",
    "Variables defined within a function are said to have *local scope*. That is to say that we can only reference them within that function. Consider the example function defined above where we used the *local* variable *height*. You can see that if you try to print the variable height outside the function, you will get an error.\n",
    "\n",
    "```python\n",
    "print(height)\n",
    "\n",
    "---------------------------------------------------------------------------\n",
    "NameError                                 Traceback (most recent call last)\n",
    "<ipython-input-50-aa6406a13920> in <module>\n",
    "----> 1 print(height)\n",
    "\n",
    "NameError: name 'height' is not defined\n",
    "```"
   ]
  },
  {
   "cell_type": "markdown",
   "metadata": {},
   "source": [
    "## Keyword arguments and default input values\n",
    "\n",
    "Besides *positional arguments*, functions can have arguments of the form `argument_name=value` and they are called *keyword arguments*:"
   ]
  },
  {
   "cell_type": "code",
   "execution_count": null,
   "metadata": {
    "execution": {
     "iopub.execute_input": "2021-07-15T18:12:10.654746Z",
     "iopub.status.busy": "2021-07-15T18:12:10.654312Z",
     "iopub.status.idle": "2021-07-15T18:12:10.658299Z",
     "shell.execute_reply": "2021-07-15T18:12:10.657925Z"
    }
   },
   "outputs": [],
   "source": [
    "def somefunc(arg1, arg2, kwarg1=True, kwarg2=0):\n",
    "    print(f'arg1: {arg1}, arg2: {arg2}, kwarg1: {kwarg1}, kwarg2: {kwarg2}')\n",
    "\n",
    "\n",
    "# Note that we have not specified inputs for kwarg1 and kwarg2.\n",
    "somefunc(\"Hello\", [1, 2])"
   ]
  },
  {
   "cell_type": "code",
   "execution_count": null,
   "metadata": {
    "execution": {
     "iopub.execute_input": "2021-07-15T18:12:10.662121Z",
     "iopub.status.busy": "2021-07-15T18:12:10.661683Z",
     "iopub.status.idle": "2021-07-15T18:12:10.664572Z",
     "shell.execute_reply": "2021-07-15T18:12:10.664203Z"
    }
   },
   "outputs": [],
   "source": [
    "# Note that we replace the default value for kwarg1.\n",
    "somefunc(\"Hello\", [1, 2], kwarg1=\"Hi\")"
   ]
  },
  {
   "cell_type": "code",
   "execution_count": null,
   "metadata": {
    "execution": {
     "iopub.execute_input": "2021-07-15T18:12:10.668321Z",
     "iopub.status.busy": "2021-07-15T18:12:10.667888Z",
     "iopub.status.idle": "2021-07-15T18:12:10.670749Z",
     "shell.execute_reply": "2021-07-15T18:12:10.670389Z"
    }
   },
   "outputs": [],
   "source": [
    "# Note that we replace the default value for kwarg2.\n",
    "somefunc(\"Hello\", [1, 2], kwarg2=\"Hi\")"
   ]
  },
  {
   "cell_type": "code",
   "execution_count": null,
   "metadata": {
    "execution": {
     "iopub.execute_input": "2021-07-15T18:12:10.674507Z",
     "iopub.status.busy": "2021-07-15T18:12:10.674072Z",
     "iopub.status.idle": "2021-07-15T18:12:10.676904Z",
     "shell.execute_reply": "2021-07-15T18:12:10.676545Z"
    }
   },
   "outputs": [],
   "source": [
    "# Here, we replace both default values for keyword arguments kwarg1 and kwarg2.\n",
    "somefunc(\"Hello\", [1, 2], kwarg2=\"Hi\", kwarg1=6)"
   ]
  },
  {
   "cell_type": "markdown",
   "metadata": {},
   "source": [
    "If we use `argument_name=value` for all arguments, their sequence in the function call can be in any order."
   ]
  },
  {
   "cell_type": "code",
   "execution_count": null,
   "metadata": {
    "execution": {
     "iopub.execute_input": "2021-07-15T18:12:10.680836Z",
     "iopub.status.busy": "2021-07-15T18:12:10.680402Z",
     "iopub.status.idle": "2021-07-15T18:12:10.683213Z",
     "shell.execute_reply": "2021-07-15T18:12:10.682845Z"
    }
   },
   "outputs": [],
   "source": [
    "somefunc(kwarg2=\"Hello\", arg1=\"Hi\", kwarg1=6, arg2=[2])"
   ]
  },
  {
   "cell_type": "markdown",
   "metadata": {},
   "source": [
    "## Exercise 1.7: Implement a Gaussian function\n",
    "\n",
    "Write a Python function to compute the Gaussian function:\n",
    "\n",
    "$$f(x)=\\frac{1}{s\\sqrt{2\\pi}}\\exp\\left(-\\frac{1}{2} \\left(\\frac{x-m}{s}\\right)^2\\right)$$"
   ]
  },
  {
   "cell_type": "code",
   "execution_count": null,
   "metadata": {
    "execution": {
     "iopub.execute_input": "2021-07-15T18:12:10.686193Z",
     "iopub.status.busy": "2021-07-15T18:12:10.685423Z",
     "iopub.status.idle": "2021-07-15T18:12:10.686900Z",
     "shell.execute_reply": "2021-07-15T18:12:10.687247Z"
    }
   },
   "outputs": [],
   "source": [
    "# Uncomment and complete this code - keep the names the same for testing purposes.\n",
    "\n",
    "# def gaussian(x, m=0, s=1):\n",
    "#     ..."
   ]
  },
  {
   "cell_type": "code",
   "execution_count": null,
   "metadata": {
    "execution": {
     "iopub.execute_input": "2021-07-15T18:12:10.694654Z",
     "iopub.status.busy": "2021-07-15T18:12:10.694229Z",
     "iopub.status.idle": "2021-07-15T18:12:10.700436Z",
     "shell.execute_reply": "2021-07-15T18:12:10.700061Z"
    },
    "tags": [
     "pybryt"
    ]
   },
   "outputs": [],
   "source": [
    "with pybryt.check(pybryt_reference(1, 7)):\n",
    "    gaussian(0.5)"
   ]
  },
  {
   "cell_type": "code",
   "execution_count": null,
   "metadata": {
    "execution": {
     "iopub.execute_input": "2021-07-15T18:12:10.705411Z",
     "iopub.status.busy": "2021-07-15T18:12:10.704949Z",
     "iopub.status.idle": "2021-07-15T18:12:10.729320Z",
     "shell.execute_reply": "2021-07-15T18:12:10.729693Z"
    },
    "tags": [
     "okpy"
    ]
   },
   "outputs": [],
   "source": [
    "ok.grade('exercise-1_7')"
   ]
  },
  {
   "cell_type": "markdown",
   "metadata": {},
   "source": [
    "## Exercise 1.8: How to cook the perfect egg\n",
    "\n",
    "You just started University and moved away from home. You're trying to impress your new flatmates by cooking brunch. Write a Python script to help you cook the perfect egg! \n",
    "\n",
    "You know from A-levels that, when the temperature exceeds a critical point, the proteins in the egg first denature and then coagulate. The process becomes faster as the temperature increases. In the egg white, the proteins start to coagulate for temperatures above 63$^\\circ$C, while in the yolk the proteins start to coagulate for temperatures above 70$^\\circ$C. \n",
    "\n",
    "The time $t$ (in seconds) it takes for the centre of the yolk to reach the temperature $T_y$ (in degrees Celsius) can be expressed as: \n",
    "\n",
    "$$t = \\frac{M^{2/3}c \\rho^{1/3}}{K \\pi^2 (4 \\pi /3)^{2/3} } ln \\left[0.76 \\frac{T_0-T_w}{T_y-T_w}\\right]$$\n",
    "\n",
    "where:\n",
    "* $M$ is the mass of the egg;\n",
    "* $\\rho$ is the density;\n",
    "* $c$ is the specific heat capacity;\n",
    "* $K$ is thermal conductivity;\n",
    "* $T_w$ temperature of the boiling water (in $^\\circ$C);\n",
    "* $T_0$ is the initial temeprature of the egg (in $^\\circ$C), before being put in the water.\n",
    "\n",
    "Write a function that returns the time $t$ needed for the egg to cook, knowing that $T_w = 100^\\circ\\text{C}$, $M = 50\\,\\text{g}$, $\\rho = 1.038\\,\\text{gcm}^{−3}$, $c = 3.7\\,\\text{Jg}^{−1}\\text{K}^{−1}$, and $K = 5.4 \\cdot 10^{−3}\\,\\text{Wcm}^{−1}\\text{K}^{−1}$. Find $t$ for an egg taken from the fridge ($T_0 = 4^\\circ\\text{C}$) and for one at room temperature ($T_0 = 20^\\circ\\text{C}$). $T_y = 70^\\circ\\text{C}$ for a perfect soft-boiled egg.\n",
    "\n",
    "**Hint**: You do not need to do any unit conversion. "
   ]
  },
  {
   "cell_type": "code",
   "execution_count": null,
   "metadata": {
    "execution": {
     "iopub.execute_input": "2021-07-15T18:12:10.738842Z",
     "iopub.status.busy": "2021-07-15T18:12:10.738122Z",
     "iopub.status.idle": "2021-07-15T18:12:10.740073Z",
     "shell.execute_reply": "2021-07-15T18:12:10.739639Z"
    }
   },
   "outputs": [],
   "source": [
    "# Uncomment and complete this code - keep the names the same for testing purposes.\n",
    "\n",
    "# from math import pi\n",
    "\n",
    "# def perfect_egg(T0, M=50, rho=1.038, Tw=100, c=3.7, K=5.4e-3, Ty=70):\n",
    "#    ...\n",
    "#    return t"
   ]
  },
  {
   "cell_type": "code",
   "execution_count": null,
   "metadata": {
    "execution": {
     "iopub.execute_input": "2021-07-15T18:12:10.748928Z",
     "iopub.status.busy": "2021-07-15T18:12:10.748513Z",
     "iopub.status.idle": "2021-07-15T18:12:10.756307Z",
     "shell.execute_reply": "2021-07-15T18:12:10.755941Z"
    },
    "tags": [
     "pybryt"
    ]
   },
   "outputs": [],
   "source": [
    "with pybryt.check(pybryt_reference(1, 8)):\n",
    "    perfect_egg(T0=4, M=50, rho=1.038, Tw=100, c=3.7, K=5.4e-3, Ty=70)\n",
    "    perfect_egg(T0=20, M=50, rho=1.038, Tw=100, c=3.7, K=5.4e-3, Ty=70)"
   ]
  },
  {
   "cell_type": "code",
   "execution_count": null,
   "metadata": {
    "execution": {
     "iopub.execute_input": "2021-07-15T18:12:10.761193Z",
     "iopub.status.busy": "2021-07-15T18:12:10.760748Z",
     "iopub.status.idle": "2021-07-15T18:12:10.775429Z",
     "shell.execute_reply": "2021-07-15T18:12:10.773926Z"
    },
    "tags": [
     "okpy"
    ]
   },
   "outputs": [],
   "source": [
    "ok.grade('exercise-1_8')"
   ]
  },
  {
   "cell_type": "markdown",
   "metadata": {},
   "source": [
    "## Exercise 1.9: Kepler's third law\n",
    "\n",
    "You were selected to be the next astronaut to go to Mars. Congratulations! \n",
    "\n",
    "Kepler's third law expresses the relationship between the distance of planets from the Sun, $a$, and their orbital periods, $P$:\n",
    "\n",
    "$$ P^2 = \\frac{4\\pi^2}{G(M + m)}a^3  $$\n",
    "\n",
    "where\n",
    "* $P$ is the period (in seconds);\n",
    "* $G$ is the gravitational constant ($G = 6.67 \\cdot 10^{-11} \\,\\text{m}^3\\text{kg}^{-1}\\text{s}^{-2}$);\n",
    "* $M$ is the mass of the Sun ($M = 2 \\cdot 10^{30} \\text{kg}$);\n",
    "* $m$ is the mass of the planet (in kg);\n",
    "* $a$ is the distance between the planet and the Sun (in m).\n",
    "\n",
    "How many Earth birthdays will you celebrate during your 10-years Mars mission? Write a Python function `period` that calculates the period of a planet. Using `period` function, calculate the period of the Earth, `P_earth`, and the period of Mars, `P_mars`. Finally, calculate `birthdays` which is how many Earth years are equivalent to 10 years on Mars.\n",
    "\n",
    "We know that:\n",
    "* The average distance between the Earth and the Sun is $a = 1.5 \\cdot 10^{11} \\,\\text{m}$;\n",
    "* The average distance between Mars and the Sun is 0.5 larger than the Earth-Sun distance;\n",
    "* The mass of the Earth is $m_1 = 6 \\cdot 10^{24} \\,\\text{kg}$;\n",
    "* Mars's mass is about 10% of the Earth's mass.\n",
    "\n",
    "**Hint**: You do not need to do any unit conversion. "
   ]
  },
  {
   "cell_type": "code",
   "execution_count": null,
   "metadata": {
    "execution": {
     "iopub.execute_input": "2021-07-15T18:12:10.785398Z",
     "iopub.status.busy": "2021-07-15T18:12:10.784954Z",
     "iopub.status.idle": "2021-07-15T18:12:10.787504Z",
     "shell.execute_reply": "2021-07-15T18:12:10.787830Z"
    }
   },
   "outputs": [],
   "source": [
    "# Uncomment and complete this code - keep the names the same for testing purposes.\n",
    "\n",
    "# from math import pi, sqrt\n",
    "\n",
    "# def period(a, m_planet, m_sun=2e30, G=6.67e-11):\n",
    "#    ...\n",
    "\n",
    "# P_mars = ...\n",
    "\n",
    "# P_earth = ...\n",
    "\n",
    "# birthdays = ..."
   ]
  },
  {
   "cell_type": "code",
   "execution_count": null,
   "metadata": {
    "execution": {
     "iopub.execute_input": "2021-07-15T18:12:10.796558Z",
     "iopub.status.busy": "2021-07-15T18:12:10.796145Z",
     "iopub.status.idle": "2021-07-15T18:12:10.803634Z",
     "shell.execute_reply": "2021-07-15T18:12:10.803262Z"
    },
    "tags": [
     "pybryt"
    ]
   },
   "outputs": [],
   "source": [
    "with pybryt.check(pybryt_reference(1, 9)):\n",
    "    period(a=1e11, m_planet=1e24), P_mars, P_earth, birthdays"
   ]
  },
  {
   "cell_type": "code",
   "execution_count": null,
   "metadata": {
    "execution": {
     "iopub.execute_input": "2021-07-15T18:12:10.808583Z",
     "iopub.status.busy": "2021-07-15T18:12:10.808135Z",
     "iopub.status.idle": "2021-07-15T18:12:10.822339Z",
     "shell.execute_reply": "2021-07-15T18:12:10.821962Z"
    },
    "tags": [
     "okpy"
    ]
   },
   "outputs": [],
   "source": [
    "ok.grade('exercise-1_9')"
   ]
  },
  {
   "cell_type": "markdown",
   "metadata": {
    "slideshow": {
     "slide_type": "slide"
    }
   },
   "source": [
    "## Boolean expressions\n",
    "\n",
    "An expression with value `True` or `False` is called a boolean expression. Example expressions for what you would write mathematically as\n",
    "$C = 40$, $C \\ne 40$, $C \\ge 40$, $C \\gt 40$ and $C \\lt 40$ are:\n",
    "\n",
    "```python\n",
    "C == 40  # Note: the double == checks for equality!\n",
    "C != 40  # This could also be written as 'not C == 4'\n",
    "C >= 40\n",
    "C > 40\n",
    "C < 40\n",
    "```"
   ]
  },
  {
   "cell_type": "markdown",
   "metadata": {
    "slideshow": {
     "slide_type": "subslide"
    }
   },
   "source": [
    "Let us now test some boolean expressions:"
   ]
  },
  {
   "cell_type": "code",
   "execution_count": null,
   "metadata": {
    "execution": {
     "iopub.execute_input": "2021-07-15T18:12:10.832707Z",
     "iopub.status.busy": "2021-07-15T18:12:10.832292Z",
     "iopub.status.idle": "2021-07-15T18:12:10.843892Z",
     "shell.execute_reply": "2021-07-15T18:12:10.842473Z"
    },
    "slideshow": {
     "slide_type": "fragment"
    }
   },
   "outputs": [],
   "source": [
    "C = 41\n",
    "\n",
    "print(\"C != 40: \", C != 40)\n",
    "print(\"C < 40: \", C < 40)\n",
    "print(\"C == 41: \", C == 41)"
   ]
  },
  {
   "cell_type": "markdown",
   "metadata": {
    "slideshow": {
     "slide_type": "subslide"
    }
   },
   "source": [
    "Several conditions can be combined with keywords `and` and `or` into a single boolean expression:\n",
    "\n",
    "* **Rule 1**: (`C1 and C2`) is `True` only if both `C1` and `C2` are `True`.\n",
    "* **Rule 2**: (`C1 or C2`) is `True` if either `C1` or `C2` are `True`.\n",
    "\n",
    "Examples:"
   ]
  },
  {
   "cell_type": "code",
   "execution_count": null,
   "metadata": {
    "execution": {
     "iopub.execute_input": "2021-07-15T18:12:10.847232Z",
     "iopub.status.busy": "2021-07-15T18:12:10.846815Z",
     "iopub.status.idle": "2021-07-15T18:12:10.856415Z",
     "shell.execute_reply": "2021-07-15T18:12:10.856041Z"
    },
    "slideshow": {
     "slide_type": "fragment"
    }
   },
   "outputs": [],
   "source": [
    "x = 0\n",
    "y = 1.2\n",
    "\n",
    "print('x >= 0 and y < 1:', x >= 0 and y < 1)\n",
    "print('x >= 0 or y < 1:', x >= 0 or y < 1)"
   ]
  },
  {
   "cell_type": "markdown",
   "metadata": {
    "slideshow": {
     "slide_type": "slide"
    }
   },
   "source": [
    "## Exercise 1.10: Values of boolean expressions\n",
    "Add a comment to the code below to explain the outcome of each of the boolean expressions:"
   ]
  },
  {
   "cell_type": "code",
   "execution_count": null,
   "metadata": {
    "execution": {
     "iopub.execute_input": "2021-07-15T18:12:10.861003Z",
     "iopub.status.busy": "2021-07-15T18:12:10.860576Z",
     "iopub.status.idle": "2021-07-15T18:12:10.892827Z",
     "shell.execute_reply": "2021-07-15T18:12:10.887891Z"
    },
    "slideshow": {
     "slide_type": "subslide"
    }
   },
   "outputs": [],
   "source": [
    "C = 41\n",
    "\n",
    "print(\"Case 1: \", C == 40)  # False because C is not equal to 40\n",
    "print(\"Case 2: \", C != 40 and C < 41)  # ...\n",
    "print(\"Case 3: \", C != 40 or C < 41)  # ...\n",
    "print(\"Case 4: \", not C == 40)\n",
    "print(\"Case 5: \", not C > 40)\n",
    "print(\"Case 6: \", C <= 41)\n",
    "print(\"Case 7: \", not False)\n",
    "print(\"Case 8: \", True and False)\n",
    "print(\"Case 9: \", False or True)\n",
    "print(\"Case 10: \", False or False or False)\n",
    "print(\"Case 11: \", True and True and False)\n",
    "print(\"Case 12: \", (True and True) or 1 == 2)"
   ]
  },
  {
   "cell_type": "markdown",
   "metadata": {
    "slideshow": {
     "slide_type": "slide"
    }
   },
   "source": [
    "## Loops\n",
    "Suppose we want to make the following table of Celsius and Fahrenheit degrees:\n",
    "```\n",
    " -20  -4.0\n",
    " -15   5.0\n",
    " -10  14.0\n",
    "  -5  23.0\n",
    "   0  32.0\n",
    "   5  41.0\n",
    "  10  50.0\n",
    "  15  59.0\n",
    "  20  68.0\n",
    "  25  77.0\n",
    "  30  86.0\n",
    "  35  95.0\n",
    "  40 104.0\n",
    "```"
   ]
  },
  {
   "cell_type": "markdown",
   "metadata": {
    "slideshow": {
     "slide_type": "subslide"
    }
   },
   "source": [
    "How do we write a program that prints out such a table? We know that $F = \\frac{9}{5}C + 32$, and a single line in this table is:"
   ]
  },
  {
   "cell_type": "code",
   "execution_count": null,
   "metadata": {
    "execution": {
     "iopub.execute_input": "2021-07-15T18:12:10.896126Z",
     "iopub.status.busy": "2021-07-15T18:12:10.895716Z",
     "iopub.status.idle": "2021-07-15T18:12:10.902295Z",
     "shell.execute_reply": "2021-07-15T18:12:10.902621Z"
    },
    "slideshow": {
     "slide_type": "fragment"
    }
   },
   "outputs": [],
   "source": [
    "C = -20\n",
    "F = 9/5*C + 32\n",
    "\n",
    "print(C, F)"
   ]
  },
  {
   "cell_type": "markdown",
   "metadata": {
    "slideshow": {
     "slide_type": "subslide"
    }
   },
   "source": [
    "Now, we can just repeat these statements:"
   ]
  },
  {
   "cell_type": "code",
   "execution_count": null,
   "metadata": {
    "execution": {
     "iopub.execute_input": "2021-07-15T18:12:10.909499Z",
     "iopub.status.busy": "2021-07-15T18:12:10.909045Z",
     "iopub.status.idle": "2021-07-15T18:12:10.936885Z",
     "shell.execute_reply": "2021-07-15T18:12:10.928811Z"
    },
    "slideshow": {
     "slide_type": "fragment"
    }
   },
   "outputs": [],
   "source": [
    "C = -20; F = 9/5*C + 32; print(C, F)\n",
    "C = -15; F = 9/5*C + 32; print(C, F)\n",
    "C = -10; F = 9/5*C + 32; print(C, F)\n",
    "C = -5; F = 9/5*C + 32; print(C, F)\n",
    "C = 0; F = 9/5*C + 32; print(C, F)\n",
    "C = 5; F = 9/5*C + 32; print(C, F)\n",
    "C = 10; F = 9/5*C + 32; print(C, F)\n",
    "C = 15; F = 9/5*C + 32; print(C, F)\n",
    "C = 20; F = 9/5*C + 32; print(C, F)\n",
    "C = 25; F = 9/5*C + 32; print(C, F)\n",
    "C = 30; F = 9/5*C + 32; print(C, F)\n",
    "C = 35; F = 9/5*C + 32; print(C, F)\n",
    "C = 40; F = 9/5*C + 32; print(C, F)"
   ]
  },
  {
   "cell_type": "markdown",
   "metadata": {
    "slideshow": {
     "slide_type": "subslide"
    }
   },
   "source": [
    "We can see that works but it is **very boring** to write and very easy to introduce a misprint.\n",
    "\n",
    "**You really should not be doing boring repetitive tasks like this.** Spend your time instead looking for a smarter solution. When programming becomes boring, there is usually a construct that automates the writing. Computers are very good at performing repetitive tasks. For this purpose we use **loops**."
   ]
  },
  {
   "cell_type": "markdown",
   "metadata": {
    "slideshow": {
     "slide_type": "slide"
    }
   },
   "source": [
    "## The while loop (and the significance of indentation)\n",
    "\n",
    "A `while` loop executes repeatedly a set of statements as long as a **boolean condition** is `True`\n",
    "\n",
    "```python\n",
    "while condition:\n",
    "    <statement 1>\n",
    "    <statement 2>\n",
    "    ...\n",
    "\n",
    "<first statement after the loop>\n",
    "```"
   ]
  },
  {
   "cell_type": "markdown",
   "metadata": {
    "slideshow": {
     "slide_type": "subslide"
    }
   },
   "source": [
    "Note that all statements to be executed within the loop must be indented by the same amount! The loop ends when an unindented statement is encountered."
   ]
  },
  {
   "cell_type": "markdown",
   "metadata": {
    "slideshow": {
     "slide_type": "subslide"
    }
   },
   "source": [
    "In Python, indentations are very important. For instance, when writing a `while` loop:"
   ]
  },
  {
   "cell_type": "code",
   "execution_count": null,
   "metadata": {
    "execution": {
     "iopub.execute_input": "2021-07-15T18:12:10.940538Z",
     "iopub.status.busy": "2021-07-15T18:12:10.940123Z",
     "iopub.status.idle": "2021-07-15T18:12:10.944836Z",
     "shell.execute_reply": "2021-07-15T18:12:10.944489Z"
    },
    "slideshow": {
     "slide_type": "fragment"
    }
   },
   "outputs": [],
   "source": [
    "counter = 0\n",
    "while counter <= 10:\n",
    "    counter = counter + 1\n",
    "\n",
    "print(counter)"
   ]
  },
  {
   "cell_type": "markdown",
   "metadata": {
    "slideshow": {
     "slide_type": "subslide"
    }
   },
   "source": [
    "Let us take a look at what happens when we forget to indent correctly:"
   ]
  },
  {
   "cell_type": "markdown",
   "metadata": {
    "slideshow": {
     "slide_type": "fragment"
    }
   },
   "source": [
    "```python\n",
    "counter = 0\n",
    "while counter <= 10:\n",
    "counter = counter + 1\n",
    "print(counter)\n",
    "\n",
    "\n",
    "  File \"<ipython-input-86-d8461f52562c>\", line 3\n",
    "    counter = counter + 1\n",
    "    ^\n",
    "IndentationError: expected an indented block\n",
    "```"
   ]
  },
  {
   "cell_type": "markdown",
   "metadata": {
    "slideshow": {
     "slide_type": "subslide"
    }
   },
   "source": [
    "Let us now use the `while` loop to create the table above:"
   ]
  },
  {
   "cell_type": "code",
   "execution_count": null,
   "metadata": {
    "execution": {
     "iopub.execute_input": "2021-07-15T18:12:10.948503Z",
     "iopub.status.busy": "2021-07-15T18:12:10.948093Z",
     "iopub.status.idle": "2021-07-15T18:12:10.991677Z",
     "shell.execute_reply": "2021-07-15T18:12:10.979556Z"
    },
    "slideshow": {
     "slide_type": "fragment"
    }
   },
   "outputs": [],
   "source": [
    "C = -20                 # Initialise C\n",
    "dC = 5                  # Increment for C within the loop\n",
    "while C <= 40:          # Loop heading with condition (C <= 40)\n",
    "    F = (9/5)*C + 32  # 1st statement inside loop\n",
    "    print(C, F)         # 2nd statement inside loop\n",
    "    C = C + dC          # Increment C for the next iteration of the loop."
   ]
  },
  {
   "cell_type": "markdown",
   "metadata": {
    "slideshow": {
     "slide_type": "slide"
    }
   },
   "source": [
    "## Exercise 1.11: Compute the number of digits in a positive integer $a$\n",
    "\n",
    "Write a Python function `num_digits(a)` that uses a `while` loop to compute how many decimal digits we need to write a positive integer $a$. For instance, we need 2 digits to write 73, whereas we need 5 digits to write 12345."
   ]
  },
  {
   "cell_type": "code",
   "execution_count": null,
   "metadata": {
    "execution": {
     "iopub.execute_input": "2021-07-15T18:12:10.994570Z",
     "iopub.status.busy": "2021-07-15T18:12:10.994161Z",
     "iopub.status.idle": "2021-07-15T18:12:10.996990Z",
     "shell.execute_reply": "2021-07-15T18:12:10.996622Z"
    },
    "slideshow": {
     "slide_type": "subslide"
    }
   },
   "outputs": [],
   "source": [
    "# Uncomment and complete the code below. Do not change the names of variables!\n",
    "\n",
    "# def num_digits(a):\n",
    "#     ..."
   ]
  },
  {
   "cell_type": "code",
   "execution_count": null,
   "metadata": {
    "execution": {
     "iopub.execute_input": "2021-07-15T18:12:11.006422Z",
     "iopub.status.busy": "2021-07-15T18:12:11.003778Z",
     "iopub.status.idle": "2021-07-15T18:12:11.016424Z",
     "shell.execute_reply": "2021-07-15T18:12:11.016069Z"
    },
    "tags": [
     "pybryt"
    ]
   },
   "outputs": [],
   "source": [
    "with pybryt.check(pybryt_reference(1, 11)):\n",
    "    num_digits(999_999_999)"
   ]
  },
  {
   "cell_type": "code",
   "execution_count": null,
   "metadata": {
    "execution": {
     "iopub.execute_input": "2021-07-15T18:12:11.019307Z",
     "iopub.status.busy": "2021-07-15T18:12:11.018895Z",
     "iopub.status.idle": "2021-07-15T18:12:11.035838Z",
     "shell.execute_reply": "2021-07-15T18:12:11.035481Z"
    },
    "tags": [
     "okpy"
    ]
   },
   "outputs": [],
   "source": [
    "ok.grade('exercise-1_11')"
   ]
  },
  {
   "cell_type": "markdown",
   "metadata": {
    "slideshow": {
     "slide_type": "slide"
    }
   },
   "source": [
    "## Exercise 1.12: Write an approximate Fahrenheit-Celsius conversion table\n",
    "\n",
    "Instead of using an exact formula for converting Fahrenheit ($F$) to Celsius ($C$) degrees:\n",
    "\n",
    "$$C = \\frac{5}{9}(F - 32),$$\n",
    "\n",
    "many people use an approximate formula for quicker conversion:\n",
    "\n",
    "$$C \\approx \\hat{C} = \\frac{F − 30}{2}.$$\n",
    "\n",
    "Write a Python function `conversion_table` using a `while` loop that prints the conversion table consisting of three columns: $F$, $C$, and the approximate value $\\hat{C}$, for $F = 0, 10, 20, \\ldots, 100$. Besides, using the same while loop, count the number of rows printed and return the count. Ensure that all numbers in the conversion table are printed with two decimal places."
   ]
  },
  {
   "cell_type": "code",
   "execution_count": null,
   "metadata": {
    "execution": {
     "iopub.execute_input": "2021-07-15T18:12:11.046225Z",
     "iopub.status.busy": "2021-07-15T18:12:11.045461Z",
     "iopub.status.idle": "2021-07-15T18:12:11.047270Z",
     "shell.execute_reply": "2021-07-15T18:12:11.046911Z"
    },
    "slideshow": {
     "slide_type": "subslide"
    }
   },
   "outputs": [],
   "source": [
    "# Uncomment and complete the code below. Do not change the names of variables.\n",
    "\n",
    "# def conversion_table():\n",
    "#     ..."
   ]
  },
  {
   "cell_type": "code",
   "execution_count": null,
   "metadata": {
    "execution": {
     "iopub.execute_input": "2021-07-15T18:12:11.055462Z",
     "iopub.status.busy": "2021-07-15T18:12:11.055054Z",
     "iopub.status.idle": "2021-07-15T18:12:11.120227Z",
     "shell.execute_reply": "2021-07-15T18:12:11.119800Z"
    },
    "tags": [
     "pybryt"
    ]
   },
   "outputs": [],
   "source": [
    "with pybryt.check(pybryt_reference(1, 12)):\n",
    "    conversion_table()"
   ]
  },
  {
   "cell_type": "code",
   "execution_count": null,
   "metadata": {
    "execution": {
     "iopub.execute_input": "2021-07-15T18:12:11.125644Z",
     "iopub.status.busy": "2021-07-15T18:12:11.125173Z",
     "iopub.status.idle": "2021-07-15T18:12:11.146356Z",
     "shell.execute_reply": "2021-07-15T18:12:11.145965Z"
    },
    "tags": [
     "okpy"
    ]
   },
   "outputs": [],
   "source": [
    "ok.grade('exercise-1_12')"
   ]
  },
  {
   "cell_type": "markdown",
   "metadata": {
    "slideshow": {
     "slide_type": "slide"
    }
   },
   "source": [
    "## Lists\n",
    "So far, one variable has referred to one number (or string). Sometimes, however, we naturally have a collection of numbers, e.g. degrees −20, −15, −10, −5, 0, ..., 40. One way to store these values in a computer program would be to have one variable per value:"
   ]
  },
  {
   "cell_type": "code",
   "execution_count": null,
   "metadata": {
    "execution": {
     "iopub.execute_input": "2021-07-15T18:12:11.172516Z",
     "iopub.status.busy": "2021-07-15T18:12:11.172092Z",
     "iopub.status.idle": "2021-07-15T18:12:11.174930Z",
     "shell.execute_reply": "2021-07-15T18:12:11.174561Z"
    },
    "slideshow": {
     "slide_type": "fragment"
    }
   },
   "outputs": [],
   "source": [
    "C1 = -20\n",
    "C2 = -15\n",
    "C3 = -10\n",
    "# ...\n",
    "C13 = 40"
   ]
  },
  {
   "cell_type": "markdown",
   "metadata": {
    "slideshow": {
     "slide_type": "subslide"
    }
   },
   "source": [
    "This is clearly a terrible solution, particularly if we have lots of values. A better way of doing this is to collect values together in a list:"
   ]
  },
  {
   "cell_type": "code",
   "execution_count": null,
   "metadata": {
    "execution": {
     "iopub.execute_input": "2021-07-15T18:12:11.178104Z",
     "iopub.status.busy": "2021-07-15T18:12:11.177689Z",
     "iopub.status.idle": "2021-07-15T18:12:11.180538Z",
     "shell.execute_reply": "2021-07-15T18:12:11.180171Z"
    },
    "slideshow": {
     "slide_type": "fragment"
    }
   },
   "outputs": [],
   "source": [
    "C = [-20, -15, -10, -5, 0, 5, 10, 15, 20, 25, 30, 35, 40]"
   ]
  },
  {
   "cell_type": "markdown",
   "metadata": {
    "slideshow": {
     "slide_type": "subslide"
    }
   },
   "source": [
    "Now, there is just one variable, `C`, holding all the values. We access elements in a list via an index. List indices are always *zero-indexed*, i.e. they are numbered as 0, 1, 2, and so forth up to the number of elements minus one:"
   ]
  },
  {
   "cell_type": "code",
   "execution_count": null,
   "metadata": {
    "execution": {
     "iopub.execute_input": "2021-07-15T18:12:11.184671Z",
     "iopub.status.busy": "2021-07-15T18:12:11.184241Z",
     "iopub.status.idle": "2021-07-15T18:12:11.191394Z",
     "shell.execute_reply": "2021-07-15T18:12:11.191729Z"
    },
    "slideshow": {
     "slide_type": "fragment"
    }
   },
   "outputs": [],
   "source": [
    "mylist = [4, 6, -3.5]\n",
    "print('First element:', mylist[0])\n",
    "print('Second element:', mylist[1])\n",
    "print('Third element:', mylist[2])"
   ]
  },
  {
   "cell_type": "markdown",
   "metadata": {
    "slideshow": {
     "slide_type": "subslide"
    }
   },
   "source": [
    "Here are a few examples of operations that you can perform on lists:"
   ]
  },
  {
   "cell_type": "code",
   "execution_count": null,
   "metadata": {
    "execution": {
     "iopub.execute_input": "2021-07-15T18:12:11.194937Z",
     "iopub.status.busy": "2021-07-15T18:12:11.194525Z",
     "iopub.status.idle": "2021-07-15T18:12:11.199320Z",
     "shell.execute_reply": "2021-07-15T18:12:11.198953Z"
    },
    "slideshow": {
     "slide_type": "fragment"
    }
   },
   "outputs": [],
   "source": [
    "C = [-10, -5, 0, 5, 10, 15, 20, 25, 30]\n",
    "C.append(35)  # add new element 35 at the end\n",
    "print(C)"
   ]
  },
  {
   "cell_type": "code",
   "execution_count": null,
   "metadata": {
    "execution": {
     "iopub.execute_input": "2021-07-15T18:12:11.202206Z",
     "iopub.status.busy": "2021-07-15T18:12:11.201796Z",
     "iopub.status.idle": "2021-07-15T18:12:11.206511Z",
     "shell.execute_reply": "2021-07-15T18:12:11.206143Z"
    },
    "slideshow": {
     "slide_type": "fragment"
    }
   },
   "outputs": [],
   "source": [
    "C = C + [40, 45]  # And another list to the end of C\n",
    "print(C)"
   ]
  },
  {
   "cell_type": "code",
   "execution_count": null,
   "metadata": {
    "execution": {
     "iopub.execute_input": "2021-07-15T18:12:11.210304Z",
     "iopub.status.busy": "2021-07-15T18:12:11.209869Z",
     "iopub.status.idle": "2021-07-15T18:12:11.212724Z",
     "shell.execute_reply": "2021-07-15T18:12:11.212366Z"
    },
    "slideshow": {
     "slide_type": "fragment"
    }
   },
   "outputs": [],
   "source": [
    "C.insert(0, -15)  # Insert -15 as index 0\n",
    "print(C)"
   ]
  },
  {
   "cell_type": "code",
   "execution_count": null,
   "metadata": {
    "execution": {
     "iopub.execute_input": "2021-07-15T18:12:11.216376Z",
     "iopub.status.busy": "2021-07-15T18:12:11.215948Z",
     "iopub.status.idle": "2021-07-15T18:12:11.218794Z",
     "shell.execute_reply": "2021-07-15T18:12:11.218428Z"
    },
    "slideshow": {
     "slide_type": "fragment"
    }
   },
   "outputs": [],
   "source": [
    "del C[2]  # delete 3rd element\n",
    "print(C)"
   ]
  },
  {
   "cell_type": "code",
   "execution_count": null,
   "metadata": {
    "execution": {
     "iopub.execute_input": "2021-07-15T18:12:11.222609Z",
     "iopub.status.busy": "2021-07-15T18:12:11.222176Z",
     "iopub.status.idle": "2021-07-15T18:12:11.225027Z",
     "shell.execute_reply": "2021-07-15T18:12:11.224664Z"
    },
    "slideshow": {
     "slide_type": "subslide"
    }
   },
   "outputs": [],
   "source": [
    "del C[2]  # delete what is now 3rd element\n",
    "print(C)"
   ]
  },
  {
   "cell_type": "code",
   "execution_count": null,
   "metadata": {
    "execution": {
     "iopub.execute_input": "2021-07-15T18:12:11.228823Z",
     "iopub.status.busy": "2021-07-15T18:12:11.228390Z",
     "iopub.status.idle": "2021-07-15T18:12:11.231313Z",
     "shell.execute_reply": "2021-07-15T18:12:11.230946Z"
    },
    "slideshow": {
     "slide_type": "fragment"
    }
   },
   "outputs": [],
   "source": [
    "print(len(C))  # length of list"
   ]
  },
  {
   "cell_type": "code",
   "execution_count": null,
   "metadata": {
    "execution": {
     "iopub.execute_input": "2021-07-15T18:12:11.234298Z",
     "iopub.status.busy": "2021-07-15T18:12:11.233885Z",
     "iopub.status.idle": "2021-07-15T18:12:11.238548Z",
     "shell.execute_reply": "2021-07-15T18:12:11.238174Z"
    },
    "slideshow": {
     "slide_type": "fragment"
    }
   },
   "outputs": [],
   "source": [
    "print(C.index(10))  # Find the index of the element with the value 10"
   ]
  },
  {
   "cell_type": "code",
   "execution_count": null,
   "metadata": {
    "execution": {
     "iopub.execute_input": "2021-07-15T18:12:11.242283Z",
     "iopub.status.busy": "2021-07-15T18:12:11.241856Z",
     "iopub.status.idle": "2021-07-15T18:12:11.244680Z",
     "shell.execute_reply": "2021-07-15T18:12:11.244315Z"
    },
    "slideshow": {
     "slide_type": "fragment"
    }
   },
   "outputs": [],
   "source": [
    "print(10 in C)  # True only if the value 10 is stored in the list"
   ]
  },
  {
   "cell_type": "code",
   "execution_count": null,
   "metadata": {
    "execution": {
     "iopub.execute_input": "2021-07-15T18:12:11.248420Z",
     "iopub.status.busy": "2021-07-15T18:12:11.247991Z",
     "iopub.status.idle": "2021-07-15T18:12:11.250836Z",
     "shell.execute_reply": "2021-07-15T18:12:11.250475Z"
    },
    "slideshow": {
     "slide_type": "fragment"
    }
   },
   "outputs": [],
   "source": [
    "print(C[-1])  # The last value in the list"
   ]
  },
  {
   "cell_type": "code",
   "execution_count": null,
   "metadata": {
    "execution": {
     "iopub.execute_input": "2021-07-15T18:12:11.254497Z",
     "iopub.status.busy": "2021-07-15T18:12:11.254074Z",
     "iopub.status.idle": "2021-07-15T18:12:11.256887Z",
     "shell.execute_reply": "2021-07-15T18:12:11.256531Z"
    },
    "slideshow": {
     "slide_type": "fragment"
    }
   },
   "outputs": [],
   "source": [
    "print(C[-2])  # The second last value in the list"
   ]
  },
  {
   "cell_type": "markdown",
   "metadata": {
    "slideshow": {
     "slide_type": "subslide"
    }
   },
   "source": [
    "We can also extract sublists using `:`:"
   ]
  },
  {
   "cell_type": "code",
   "execution_count": null,
   "metadata": {
    "execution": {
     "iopub.execute_input": "2021-07-15T18:12:11.260554Z",
     "iopub.status.busy": "2021-07-15T18:12:11.260128Z",
     "iopub.status.idle": "2021-07-15T18:12:11.262991Z",
     "shell.execute_reply": "2021-07-15T18:12:11.262626Z"
    },
    "slideshow": {
     "slide_type": "fragment"
    }
   },
   "outputs": [],
   "source": [
    "print(C[5:])  # From index 5 to the end of the list"
   ]
  },
  {
   "cell_type": "code",
   "execution_count": null,
   "metadata": {
    "execution": {
     "iopub.execute_input": "2021-07-15T18:12:11.266717Z",
     "iopub.status.busy": "2021-07-15T18:12:11.266294Z",
     "iopub.status.idle": "2021-07-15T18:12:11.269115Z",
     "shell.execute_reply": "2021-07-15T18:12:11.268757Z"
    },
    "slideshow": {
     "slide_type": "fragment"
    }
   },
   "outputs": [],
   "source": [
    "print(C[5:7])  # From index 5 up to, but NOT including index 7"
   ]
  },
  {
   "cell_type": "code",
   "execution_count": null,
   "metadata": {
    "execution": {
     "iopub.execute_input": "2021-07-15T18:12:11.272858Z",
     "iopub.status.busy": "2021-07-15T18:12:11.272435Z",
     "iopub.status.idle": "2021-07-15T18:12:11.275284Z",
     "shell.execute_reply": "2021-07-15T18:12:11.274915Z"
    },
    "slideshow": {
     "slide_type": "fragment"
    }
   },
   "outputs": [],
   "source": [
    "print(C[7:-1])  # From index 7 up to the second last element"
   ]
  },
  {
   "cell_type": "code",
   "execution_count": null,
   "metadata": {
    "execution": {
     "iopub.execute_input": "2021-07-15T18:12:11.279006Z",
     "iopub.status.busy": "2021-07-15T18:12:11.278582Z",
     "iopub.status.idle": "2021-07-15T18:12:11.281432Z",
     "shell.execute_reply": "2021-07-15T18:12:11.281048Z"
    },
    "slideshow": {
     "slide_type": "fragment"
    }
   },
   "outputs": [],
   "source": [
    "print(C[:])  # [:] specifies the whole list."
   ]
  },
  {
   "cell_type": "markdown",
   "metadata": {
    "slideshow": {
     "slide_type": "subslide"
    }
   },
   "source": [
    "We can also *unpack* the elements of a list into separate variables:"
   ]
  },
  {
   "cell_type": "code",
   "execution_count": null,
   "metadata": {
    "execution": {
     "iopub.execute_input": "2021-07-15T18:12:11.285383Z",
     "iopub.status.busy": "2021-07-15T18:12:11.284940Z",
     "iopub.status.idle": "2021-07-15T18:12:11.287768Z",
     "shell.execute_reply": "2021-07-15T18:12:11.287403Z"
    },
    "slideshow": {
     "slide_type": "fragment"
    }
   },
   "outputs": [],
   "source": [
    "somelist = ['Curly', 'Larry', 'Moe']\n",
    "stooge1, stooge2, stooge3 = somelist\n",
    "print(f'stooge1: {stooge1}, stooge2: {stooge2}, stooge3: {stooge3}')"
   ]
  },
  {
   "cell_type": "markdown",
   "metadata": {
    "slideshow": {
     "slide_type": "slide"
    }
   },
   "source": [
    "## Exercise 1.13: Store odd numbers in a list\n",
    "\n",
    "Write a Python function `odd_numbers(n)` that uses a `while` loop, and generates and returns a list of all odd numbers from $1$ to $n$. (Make sure that if $n$ is an even number, the largest generated odd number is $n-1$.)"
   ]
  },
  {
   "cell_type": "code",
   "execution_count": null,
   "metadata": {
    "execution": {
     "iopub.execute_input": "2021-07-15T18:12:11.290084Z",
     "iopub.status.busy": "2021-07-15T18:12:11.289229Z",
     "iopub.status.idle": "2021-07-15T18:12:11.291910Z",
     "shell.execute_reply": "2021-07-15T18:12:11.291542Z"
    },
    "slideshow": {
     "slide_type": "subslide"
    }
   },
   "outputs": [],
   "source": [
    "# Uncomment and complete code. Do not change the variable names.\n",
    "\n",
    "# def odd_numbers(n):\n",
    "#     ..."
   ]
  },
  {
   "cell_type": "code",
   "execution_count": null,
   "metadata": {
    "execution": {
     "iopub.execute_input": "2021-07-15T18:12:11.299252Z",
     "iopub.status.busy": "2021-07-15T18:12:11.298844Z",
     "iopub.status.idle": "2021-07-15T18:12:11.330519Z",
     "shell.execute_reply": "2021-07-15T18:12:11.330861Z"
    },
    "tags": [
     "pybryt"
    ]
   },
   "outputs": [],
   "source": [
    "with pybryt.check(pybryt_reference(1, 13)):\n",
    "    odd_numbers(50)"
   ]
  },
  {
   "cell_type": "code",
   "execution_count": null,
   "metadata": {
    "execution": {
     "iopub.execute_input": "2021-07-15T18:12:11.335838Z",
     "iopub.status.busy": "2021-07-15T18:12:11.335405Z",
     "iopub.status.idle": "2021-07-15T18:12:11.350976Z",
     "shell.execute_reply": "2021-07-15T18:12:11.347938Z"
    },
    "tags": [
     "okpy"
    ]
   },
   "outputs": [],
   "source": [
    "ok.grade('exercise-1_13')"
   ]
  },
  {
   "cell_type": "markdown",
   "metadata": {
    "slideshow": {
     "slide_type": "slide"
    }
   },
   "source": [
    "## For loops\n",
    "We can visit each element in a list and process it with some statements using a `for` loop, for example:"
   ]
  },
  {
   "cell_type": "code",
   "execution_count": null,
   "metadata": {
    "execution": {
     "iopub.execute_input": "2021-07-15T18:12:11.360519Z",
     "iopub.status.busy": "2021-07-15T18:12:11.360112Z",
     "iopub.status.idle": "2021-07-15T18:12:11.374548Z",
     "shell.execute_reply": "2021-07-15T18:12:11.374182Z"
    },
    "slideshow": {
     "slide_type": "fragment"
    }
   },
   "outputs": [],
   "source": [
    "degrees = [0, 10, 20, 40, 100]\n",
    "for C in degrees:\n",
    "    print('list element:', C)\n",
    "print(f'The list has {len(degrees)} elements.')"
   ]
  },
  {
   "cell_type": "markdown",
   "metadata": {
    "slideshow": {
     "slide_type": "subslide"
    }
   },
   "source": [
    "Notice again how the statements to be executed within the loop must be indented! Let us now revisit the conversion table example using the `for` loop:"
   ]
  },
  {
   "cell_type": "code",
   "execution_count": null,
   "metadata": {
    "execution": {
     "iopub.execute_input": "2021-07-15T18:12:11.377856Z",
     "iopub.status.busy": "2021-07-15T18:12:11.377442Z",
     "iopub.status.idle": "2021-07-15T18:12:11.418806Z",
     "shell.execute_reply": "2021-07-15T18:12:11.405703Z"
    },
    "slideshow": {
     "slide_type": "fragment"
    }
   },
   "outputs": [],
   "source": [
    "Cdegrees = [-20, -15, -10, -5, 0, 5, 10, 15, 20, 25, 30, 35, 40]\n",
    "for C in Cdegrees:\n",
    "    F = (9/5)*C + 32\n",
    "    print(C, F)"
   ]
  },
  {
   "cell_type": "markdown",
   "metadata": {
    "slideshow": {
     "slide_type": "subslide"
    }
   },
   "source": [
    "We can easily beautify the table using the *printf syntax* we encountered previously:"
   ]
  },
  {
   "cell_type": "code",
   "execution_count": null,
   "metadata": {
    "execution": {
     "iopub.execute_input": "2021-07-15T18:12:11.422048Z",
     "iopub.status.busy": "2021-07-15T18:12:11.421630Z",
     "iopub.status.idle": "2021-07-15T18:12:11.441927Z",
     "shell.execute_reply": "2021-07-15T18:12:11.440512Z"
    },
    "slideshow": {
     "slide_type": "fragment"
    }
   },
   "outputs": [],
   "source": [
    "for C in Cdegrees:\n",
    "    F = (9.0/5)*C + 32\n",
    "    print('%5d %5.1f' % (C, F))"
   ]
  },
  {
   "cell_type": "markdown",
   "metadata": {
    "slideshow": {
     "slide_type": "subslide"
    }
   },
   "source": [
    "It is also possible to rewrite the `for` loop as a `while` loop, i.e.\n",
    "\n",
    "```python\n",
    "for element in somelist:\n",
    "    # process element\n",
    "```\n",
    "\n",
    "can always be transformed to a `while` loop\n",
    "```python\n",
    "index = 0\n",
    "while index < len(somelist):\n",
    "    element = somelist[index]\n",
    "    # process element\n",
    "    index += 1\n",
    "```"
   ]
  },
  {
   "cell_type": "markdown",
   "metadata": {
    "slideshow": {
     "slide_type": "subslide"
    }
   },
   "source": [
    "Let us see how a previous example would look like if we used `while` instead of `for` loop:"
   ]
  },
  {
   "cell_type": "code",
   "execution_count": null,
   "metadata": {
    "execution": {
     "iopub.execute_input": "2021-07-15T18:12:11.445970Z",
     "iopub.status.busy": "2021-07-15T18:12:11.445548Z",
     "iopub.status.idle": "2021-07-15T18:12:11.467634Z",
     "shell.execute_reply": "2021-07-15T18:12:11.462525Z"
    },
    "slideshow": {
     "slide_type": "fragment"
    }
   },
   "outputs": [],
   "source": [
    "Cdegrees = [-20, -15, -10, -5, 0, 5, 10, 15, 20, 25, 30, 35, 40]\n",
    "index = 0\n",
    "while index < len(Cdegrees):\n",
    "    C = Cdegrees[index]\n",
    "    F = (9.0/5)*C + 32\n",
    "    print('%5d %5.1f' % (C, F))\n",
    "    index += 1"
   ]
  },
  {
   "cell_type": "markdown",
   "metadata": {
    "slideshow": {
     "slide_type": "subslide"
    }
   },
   "source": [
    "Rather than just printing out the Fahrenheit values, let us also store these computed values in a list of their own:"
   ]
  },
  {
   "cell_type": "code",
   "execution_count": null,
   "metadata": {
    "execution": {
     "iopub.execute_input": "2021-07-15T18:12:11.471698Z",
     "iopub.status.busy": "2021-07-15T18:12:11.471277Z",
     "iopub.status.idle": "2021-07-15T18:12:11.476054Z",
     "shell.execute_reply": "2021-07-15T18:12:11.475687Z"
    },
    "slideshow": {
     "slide_type": "fragment"
    }
   },
   "outputs": [],
   "source": [
    "Cdegrees = [-20, -15, -10, -5, 0, 5, 10, 15, 20, 25, 30, 35, 40]\n",
    "Fdegrees = []  # start with empty list\n",
    "for C in Cdegrees:\n",
    "    F = (9/5)*C + 32\n",
    "    Fdegrees.append(F)  # add new element to Fdegrees\n",
    "print(Fdegrees)"
   ]
  },
  {
   "cell_type": "markdown",
   "metadata": {
    "slideshow": {
     "slide_type": "subslide"
    }
   },
   "source": [
    "In Python, `for` loops usually loop over list values (elements), i.e.\n",
    "\n",
    "```python\n",
    "for element in somelist:\n",
    "    # process variable element\n",
    "```\n",
    "\n",
    "However, we can also loop over list indices:\n",
    "\n",
    "```python\n",
    "for i in range(0, len(somelist), 1):\n",
    "    element = somelist[i]\n",
    "    # process element or somelist[i] directly\n",
    "```"
   ]
  },
  {
   "cell_type": "markdown",
   "metadata": {
    "slideshow": {
     "slide_type": "subslide"
    }
   },
   "source": [
    "The statement `range(start, stop, increment)` generates a list of integers *start*, *start+increment*, *start+2\\*increment*, and so on up to, but not including, *stop*. We can also write `range(stop)` as an abbreviation for `range(0, stop, 1)`:"
   ]
  },
  {
   "cell_type": "code",
   "execution_count": null,
   "metadata": {
    "execution": {
     "iopub.execute_input": "2021-07-15T18:12:11.479108Z",
     "iopub.status.busy": "2021-07-15T18:12:11.478702Z",
     "iopub.status.idle": "2021-07-15T18:12:11.485110Z",
     "shell.execute_reply": "2021-07-15T18:12:11.484747Z"
    },
    "slideshow": {
     "slide_type": "fragment"
    }
   },
   "outputs": [],
   "source": [
    "for i in range(3):  # same as range(0, 3, 1)\n",
    "    print(i)"
   ]
  },
  {
   "cell_type": "code",
   "execution_count": null,
   "metadata": {
    "execution": {
     "iopub.execute_input": "2021-07-15T18:12:11.488068Z",
     "iopub.status.busy": "2021-07-15T18:12:11.487647Z",
     "iopub.status.idle": "2021-07-15T18:12:11.493289Z",
     "shell.execute_reply": "2021-07-15T18:12:11.493642Z"
    },
    "slideshow": {
     "slide_type": "fragment"
    }
   },
   "outputs": [],
   "source": [
    "for i in range(2, 8, 3):\n",
    "    print(i)"
   ]
  },
  {
   "cell_type": "markdown",
   "metadata": {
    "slideshow": {
     "slide_type": "slide"
    }
   },
   "source": [
    "## List comprehensions\n",
    "Consider this example where we compute two lists in a `for` loop:"
   ]
  },
  {
   "cell_type": "code",
   "execution_count": null,
   "metadata": {
    "execution": {
     "iopub.execute_input": "2021-07-15T18:12:11.497378Z",
     "iopub.status.busy": "2021-07-15T18:12:11.496942Z",
     "iopub.status.idle": "2021-07-15T18:12:11.502764Z",
     "shell.execute_reply": "2021-07-15T18:12:11.502393Z"
    },
    "slideshow": {
     "slide_type": "fragment"
    }
   },
   "outputs": [],
   "source": [
    "n = 16\n",
    "\n",
    "# empty lists\n",
    "Cdegrees = []\n",
    "Fdegrees = []\n",
    "\n",
    "for i in range(n):\n",
    "    Cdegrees.append(-5 + i*0.5)\n",
    "    Fdegrees.append((9/5)*Cdegrees[i] + 32)\n",
    "\n",
    "print(\"Cdegrees = \", Cdegrees)\n",
    "print(\"Fdegrees = \", Fdegrees)"
   ]
  },
  {
   "cell_type": "markdown",
   "metadata": {
    "slideshow": {
     "slide_type": "subslide"
    }
   },
   "source": [
    "As constructing lists is a very common task, the above way of doing it can become very tedious both to write and read. Therefore, Python has a compact construct, called *list comprehension* for generating lists from a `for` loop:"
   ]
  },
  {
   "cell_type": "code",
   "execution_count": null,
   "metadata": {
    "execution": {
     "iopub.execute_input": "2021-07-15T18:12:11.506574Z",
     "iopub.status.busy": "2021-07-15T18:12:11.506162Z",
     "iopub.status.idle": "2021-07-15T18:12:11.513839Z",
     "shell.execute_reply": "2021-07-15T18:12:11.513470Z"
    },
    "slideshow": {
     "slide_type": "fragment"
    }
   },
   "outputs": [],
   "source": [
    "n = 16\n",
    "Cdegrees = [-5 + i*0.5 for i in range(n)]\n",
    "Fdegrees = [(9/5)*C + 32 for C in Cdegrees]\n",
    "print(\"Cdegrees = \", Cdegrees)\n",
    "print(\"Fdegrees = \", Fdegrees)"
   ]
  },
  {
   "cell_type": "markdown",
   "metadata": {
    "slideshow": {
     "slide_type": "subslide"
    }
   },
   "source": [
    "The general form of a list comprehension is:\n",
    "```python\n",
    "somelist = [expression for element in somelist]\n",
    "```"
   ]
  },
  {
   "cell_type": "markdown",
   "metadata": {
    "slideshow": {
     "slide_type": "slide"
    }
   },
   "source": [
    "## Exercise 1.14: Create a list of even numbers ranging from 0 to $n$ using a `for` loop.\n",
    "\n",
    "Write a function `even_numbers(n)` using a `for` loop, which generates and returns a list of all even numbers from 0 to $n$. For instance, `even_numbers(10)` should return list `[0, 2, 4, 6, 8]`. In this exercise, do not use list comprehensions."
   ]
  },
  {
   "cell_type": "code",
   "execution_count": null,
   "metadata": {
    "execution": {
     "iopub.execute_input": "2021-07-15T18:12:11.516442Z",
     "iopub.status.busy": "2021-07-15T18:12:11.516028Z",
     "iopub.status.idle": "2021-07-15T18:12:11.518853Z",
     "shell.execute_reply": "2021-07-15T18:12:11.518495Z"
    }
   },
   "outputs": [],
   "source": [
    "# Uncomment and complete code. Do not change the variable names.\n",
    "\n",
    "# def even_numbers(n):\n",
    "#     ..."
   ]
  },
  {
   "cell_type": "code",
   "execution_count": null,
   "metadata": {
    "execution": {
     "iopub.execute_input": "2021-07-15T18:12:11.527084Z",
     "iopub.status.busy": "2021-07-15T18:12:11.525805Z",
     "iopub.status.idle": "2021-07-15T18:12:11.536370Z",
     "shell.execute_reply": "2021-07-15T18:12:11.535994Z"
    },
    "tags": [
     "pybryt"
    ]
   },
   "outputs": [],
   "source": [
    "with pybryt.check(pybryt_reference(1, 14)):\n",
    "    even_numbers(11)"
   ]
  },
  {
   "cell_type": "code",
   "execution_count": null,
   "metadata": {
    "execution": {
     "iopub.execute_input": "2021-07-15T18:12:11.541274Z",
     "iopub.status.busy": "2021-07-15T18:12:11.540836Z",
     "iopub.status.idle": "2021-07-15T18:12:11.557096Z",
     "shell.execute_reply": "2021-07-15T18:12:11.552010Z"
    },
    "tags": [
     "okpy"
    ]
   },
   "outputs": [],
   "source": [
    "ok.grade('exercise-1_14')"
   ]
  },
  {
   "cell_type": "markdown",
   "metadata": {},
   "source": [
    "## Exercise 1.15: Implement the sum function\n",
    "\n",
    "The built-in Python function [sum](https://docs.python.org/3/library/functions.html#sum) takes a list as an argument and computes the sum of the elements in the list:\n",
    "```python\n",
    ">> sum([1,3,5,-5])\n",
    "4\n",
    "```\n",
    "Implement your own version of the sum function and name it `my_sum`."
   ]
  },
  {
   "cell_type": "code",
   "execution_count": null,
   "metadata": {
    "execution": {
     "iopub.execute_input": "2021-07-15T18:12:11.565676Z",
     "iopub.status.busy": "2021-07-15T18:12:11.564923Z",
     "iopub.status.idle": "2021-07-15T18:12:11.566835Z",
     "shell.execute_reply": "2021-07-15T18:12:11.566410Z"
    }
   },
   "outputs": [],
   "source": [
    "# Uncomment and complete this code - keep the names the same for testing purposes.\n",
    "\n",
    "# def my_sum(x):\n",
    "#     ..."
   ]
  },
  {
   "cell_type": "code",
   "execution_count": null,
   "metadata": {
    "execution": {
     "iopub.execute_input": "2021-07-15T18:12:11.574274Z",
     "iopub.status.busy": "2021-07-15T18:12:11.573849Z",
     "iopub.status.idle": "2021-07-15T18:12:11.584589Z",
     "shell.execute_reply": "2021-07-15T18:12:11.584226Z"
    },
    "tags": [
     "pybryt"
    ]
   },
   "outputs": [],
   "source": [
    "with pybryt.check(pybryt_reference(1, 15)):\n",
    "    my_sum([2.1, 98, -451, 273, 1111, 23.98])"
   ]
  },
  {
   "cell_type": "code",
   "execution_count": null,
   "metadata": {
    "execution": {
     "iopub.execute_input": "2021-07-15T18:12:11.589662Z",
     "iopub.status.busy": "2021-07-15T18:12:11.589202Z",
     "iopub.status.idle": "2021-07-15T18:12:11.605901Z",
     "shell.execute_reply": "2021-07-15T18:12:11.601873Z"
    },
    "tags": [
     "okpy"
    ]
   },
   "outputs": [],
   "source": [
    "ok.grade('exercise-1_15')"
   ]
  },
  {
   "cell_type": "markdown",
   "metadata": {},
   "source": [
    "## Exercise 1.16: Position of the ball in a vertical motion.\n",
    "\n",
    "Write a function `distance` that returns a `list` of $y$ values calculated using the formula:\n",
    "\n",
    "$$y(t) = v_0t − {1\\over2} gt^2,$$\n",
    "\n",
    "for `n` number of values $t$ ranging from `t_start` to `t_end`. Specify the keyword arguments `v0=6.0` and `g=9.81`."
   ]
  },
  {
   "cell_type": "code",
   "execution_count": null,
   "metadata": {
    "execution": {
     "iopub.execute_input": "2021-07-15T18:12:11.615339Z",
     "iopub.status.busy": "2021-07-15T18:12:11.614634Z",
     "iopub.status.idle": "2021-07-15T18:12:11.616511Z",
     "shell.execute_reply": "2021-07-15T18:12:11.616083Z"
    }
   },
   "outputs": [],
   "source": [
    "# Uncomment and complete this code - keep the names the same for testing purposes.\n",
    "\n",
    "# def distance(t_start, t_end, n, v0=6.0, g=9.81):\n",
    "#     ..."
   ]
  },
  {
   "cell_type": "code",
   "execution_count": null,
   "metadata": {
    "execution": {
     "iopub.execute_input": "2021-07-15T18:12:11.624317Z",
     "iopub.status.busy": "2021-07-15T18:12:11.623911Z",
     "iopub.status.idle": "2021-07-15T18:12:11.635623Z",
     "shell.execute_reply": "2021-07-15T18:12:11.635268Z"
    },
    "tags": [
     "pybryt"
    ]
   },
   "outputs": [],
   "source": [
    "with pybryt.check(pybryt_reference(1, 16)):\n",
    "    distance(0, 10, 5)"
   ]
  },
  {
   "cell_type": "code",
   "execution_count": null,
   "metadata": {
    "execution": {
     "iopub.execute_input": "2021-07-15T18:12:11.638317Z",
     "iopub.status.busy": "2021-07-15T18:12:11.637895Z",
     "iopub.status.idle": "2021-07-15T18:12:11.658526Z",
     "shell.execute_reply": "2021-07-15T18:12:11.656004Z"
    },
    "tags": [
     "okpy"
    ]
   },
   "outputs": [],
   "source": [
    "ok.grade('exercise-1_16')"
   ]
  },
  {
   "cell_type": "markdown",
   "metadata": {},
   "source": [
    "## Exercise 1.17: Cumulative sum\n",
    "\n",
    "Write a function that returns the cumulative sum of the numbers in a list. The function should return a list, whose `i`-th element is the sum of the input list up to and including the `i`-th element.\n",
    "\n",
    "For example, for the list `[1, 4, 2, 5, 3]` should return `[1, 5, 7, 12, 15]`."
   ]
  },
  {
   "cell_type": "code",
   "execution_count": null,
   "metadata": {
    "execution": {
     "iopub.execute_input": "2021-07-15T18:12:11.667454Z",
     "iopub.status.busy": "2021-07-15T18:12:11.666740Z",
     "iopub.status.idle": "2021-07-15T18:12:11.668255Z",
     "shell.execute_reply": "2021-07-15T18:12:11.668574Z"
    }
   },
   "outputs": [],
   "source": [
    "# Uncomment and complete this code - keep the names the same for testing purposes.\n",
    "\n",
    "# def my_cumsum(x):\n",
    "#     ..."
   ]
  },
  {
   "cell_type": "code",
   "execution_count": null,
   "metadata": {
    "execution": {
     "iopub.execute_input": "2021-07-15T18:12:11.676214Z",
     "iopub.status.busy": "2021-07-15T18:12:11.675807Z",
     "iopub.status.idle": "2021-07-15T18:12:11.686409Z",
     "shell.execute_reply": "2021-07-15T18:12:11.686044Z"
    },
    "tags": [
     "pybryt"
    ]
   },
   "outputs": [],
   "source": [
    "with pybryt.check(pybryt_reference(1, 17)):\n",
    "    my_cumsum([55, 111, -33, 65])"
   ]
  },
  {
   "cell_type": "code",
   "execution_count": null,
   "metadata": {
    "execution": {
     "iopub.execute_input": "2021-07-15T18:12:11.691304Z",
     "iopub.status.busy": "2021-07-15T18:12:11.690870Z",
     "iopub.status.idle": "2021-07-15T18:12:11.707042Z",
     "shell.execute_reply": "2021-07-15T18:12:11.702336Z"
    },
    "tags": [
     "okpy"
    ]
   },
   "outputs": [],
   "source": [
    "ok.grade('exercise-1_17')"
   ]
  },
  {
   "cell_type": "markdown",
   "metadata": {},
   "source": [
    "## Exercise 1.18: Bouncing ball\n",
    "\n",
    "A rubber ball is dropped from a height `h_0`. After each bounce, the height it rebounds to decreases by 10%, i.e. after one bounce, it reaches `0.9*h_0`, after two bounces it reaches `0.9*0.9*h_0`, etc. Write a Python function `compute_heights` that returns a list of the maximum heights of the ball after each bounce (including after 0 bounces, i.e. its initial height), until either the ball has bounced `n` times *or* its maximum height falls below `h1`. The function should take `h_0`, `h_1` and `n` as keyword arguments, with default values of `1.0`, `0.3` and `10`, respectively."
   ]
  },
  {
   "cell_type": "code",
   "execution_count": null,
   "metadata": {
    "execution": {
     "iopub.execute_input": "2021-07-15T18:12:11.717038Z",
     "iopub.status.busy": "2021-07-15T18:12:11.716332Z",
     "iopub.status.idle": "2021-07-15T18:12:11.718104Z",
     "shell.execute_reply": "2021-07-15T18:12:11.717745Z"
    }
   },
   "outputs": [],
   "source": [
    "# Uncomment and complete this code - keep the names the same for testing purposes.\n",
    "\n",
    "# def compute_heights(h_0=1.0, h_1=0.3, n=10):\n",
    "#     ..."
   ]
  },
  {
   "cell_type": "code",
   "execution_count": null,
   "metadata": {
    "execution": {
     "iopub.execute_input": "2021-07-15T18:12:11.725982Z",
     "iopub.status.busy": "2021-07-15T18:12:11.725567Z",
     "iopub.status.idle": "2021-07-15T18:12:11.744404Z",
     "shell.execute_reply": "2021-07-15T18:12:11.744060Z"
    },
    "tags": [
     "pybryt"
    ]
   },
   "outputs": [],
   "source": [
    "with pybryt.check(pybryt_reference(1, 18)):\n",
    "    compute_heights(h_0=1.0, h_1=0.3, n=10)"
   ]
  },
  {
   "cell_type": "code",
   "execution_count": null,
   "metadata": {
    "execution": {
     "iopub.execute_input": "2021-07-15T18:12:11.749484Z",
     "iopub.status.busy": "2021-07-15T18:12:11.749020Z",
     "iopub.status.idle": "2021-07-15T18:12:11.766277Z",
     "shell.execute_reply": "2021-07-15T18:12:11.762227Z"
    },
    "tags": [
     "okpy"
    ]
   },
   "outputs": [],
   "source": [
    "ok.grade('exercise-1_18')"
   ]
  },
  {
   "cell_type": "markdown",
   "metadata": {},
   "source": [
    "## Exercise 1.19: Calculate $\\pi$\n",
    "\n",
    "A formula for $\\pi$ is given by the *Gregory-Leibniz series*:\n",
    "\n",
    "$$\\pi = 4 \\left(\\frac{1}{1} - \\frac{1}{3} + \\frac{1}{5} - \\frac{1}{7} + \\frac{1}{9} + ...  \\right)$$\n",
    "\n",
    "Note that the denominators of the terms in this series are the positive odd numbers. Write a Python function `calculate_pi(n)` following the guidelines below; each of the first three steps can be completed using a single list comprehension.\n",
    "\n",
    "**Step 1**:\n",
    "\n",
    "Produce a list of the first `n` odd numbers, for `n=100`.\n",
    "\n",
    "**Step 2**:\n",
    "\n",
    "Make a list of the signs of each term, i.e. `[1, -1, 1, -1, ...]`. Hint: think about the value of $(-1)^i$ for integer $i$.\n",
    "\n",
    "**Step 3**:\n",
    "\n",
    "Using the results of steps 1 and 2, make a list of the first `n` terms in the above series.\n",
    "\n",
    "**Step 4**:\n",
    "\n",
    "Use your `my_sum` function to sum this series, multiply by 4, and return the result."
   ]
  },
  {
   "cell_type": "code",
   "execution_count": null,
   "metadata": {
    "execution": {
     "iopub.execute_input": "2021-07-15T18:12:11.776317Z",
     "iopub.status.busy": "2021-07-15T18:12:11.775904Z",
     "iopub.status.idle": "2021-07-15T18:12:11.778748Z",
     "shell.execute_reply": "2021-07-15T18:12:11.778407Z"
    },
    "tags": []
   },
   "outputs": [],
   "source": [
    "# Uncomment and complete this code - keep the names the same for testing purposes.\n",
    "\n",
    "# def calculate_pi(n):\n",
    "#     ..."
   ]
  },
  {
   "cell_type": "code",
   "execution_count": null,
   "metadata": {
    "execution": {
     "iopub.execute_input": "2021-07-15T18:12:11.787475Z",
     "iopub.status.busy": "2021-07-15T18:12:11.787067Z",
     "iopub.status.idle": "2021-07-15T18:12:11.834912Z",
     "shell.execute_reply": "2021-07-15T18:12:11.835241Z"
    },
    "tags": [
     "pybryt"
    ]
   },
   "outputs": [],
   "source": [
    "with pybryt.check(pybryt_reference(1, 19)):\n",
    "    calculate_pi(100)"
   ]
  },
  {
   "cell_type": "code",
   "execution_count": null,
   "metadata": {
    "execution": {
     "iopub.execute_input": "2021-07-15T18:12:11.840264Z",
     "iopub.status.busy": "2021-07-15T18:12:11.839829Z",
     "iopub.status.idle": "2021-07-15T18:12:11.860002Z",
     "shell.execute_reply": "2021-07-15T18:12:11.859624Z"
    },
    "tags": [
     "okpy"
    ]
   },
   "outputs": [],
   "source": [
    "ok.grade('exercise-1_19')"
   ]
  },
  {
   "cell_type": "code",
   "execution_count": null,
   "metadata": {
    "execution": {
     "iopub.execute_input": "2021-07-15T18:12:11.871292Z",
     "iopub.status.busy": "2021-07-15T18:12:11.870832Z",
     "iopub.status.idle": "2021-07-15T18:12:12.043526Z",
     "shell.execute_reply": "2021-07-15T18:12:12.011654Z"
    },
    "tags": [
     "okpy"
    ]
   },
   "outputs": [],
   "source": [
    "ok.score()"
   ]
  },
  {
   "cell_type": "code",
   "execution_count": null,
   "metadata": {},
   "outputs": [],
   "source": []
  }
 ],
 "metadata": {
  "celltoolbar": "Tags",
  "kernelspec": {
   "display_name": "Python 3",
   "language": "python",
   "name": "python3"
  },
  "language_info": {
   "codemirror_mode": {
    "name": "ipython",
    "version": 3
   },
   "file_extension": ".py",
   "mimetype": "text/x-python",
   "name": "python",
   "nbconvert_exporter": "python",
   "pygments_lexer": "ipython3",
   "version": "3.8.10"
  },
  "metadata": {
   "interpreter": {
    "hash": "09160679218cef01ff15815045f22f73847c787608cecc83e75aba7b6298eccd"
   }
  }
 },
 "nbformat": 4,
 "nbformat_minor": 4
}
