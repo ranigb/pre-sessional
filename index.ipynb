{
 "cells": [
  {
   "cell_type": "markdown",
   "id": "217f39a2",
   "metadata": {},
   "source": [
    "# Introduction to Python\n",
    "\n",
    "Welcome to Python exercises! In this self-guided course, you will learn the basics of Python, which is one of the most popular and powerful programming languages. It is used extensively in computational and data science, and we will use it in almost all our modules. Therefore, it is important for you to familiarise yourself with Python syntax before you begin your course.\n",
    "\n",
    "## How to use it\n",
    "\n",
    "There are three possible options on how you can use our self-guided learning materials.\n",
    "\n",
    "### 1. JupyterHub\n",
    "\n",
    "1. **Create a GitHub account**. In the email you received, we sent you the unique username we generated for you. Please make sure your GitHub account uses that username.\n",
    "\n",
    "2. **Login to JupyterHub**. On the following link, you can access our JupyterHub server and login using the GitHub account you just created.\n",
    "\n",
    "**IMPORTANT:** Please note that we do guarantee your work is backed up. Therefore, we strongly recommend dowloading the notebook at the end of each session.\n",
    "\n",
    "### 2. Binder\n",
    "\n",
    "You can access Binder on the following link: BINDER.\n",
    "\n",
    "**IMPORTANT:** Please note that after the Binder session ends, all your work is deleted. Therefore, please download the notebook you worked in at the end of each session.\n",
    "\n",
    "### 3. On your machine\n",
    "\n",
    "1. **Install Git**. Please follow installation instructions on this [webpage](https://git-scm.com/).\n",
    "\n",
    "2. **Clone repository**. In Terminal (Linux and MacOS) or in Command Prompt (Windows), navigate to the location where you want your Python exercises to be saved, and run\n",
    "```\n",
    "$ git clone https://....\n",
    "```    \n",
    "3. **Install Anaconda**. We recommend installation using conda package manager. If you do not already have it installed, download [Anaconda](https://www.anaconda.com/products/individual) Python 3.8+ for your operating system and follow the instructions to install it. After the installation is complete, in Terminal (Linux and MacOS) or in Anaconda Prompt (Windows), navigate to the Python exercises directory, create a new conda environment, and activate it.\n",
    "```\n",
    "$ conda env create -f environment.yml\n",
    "$ conda activate intro-to-python\n",
    "``` \n",
    "    \n",
    "4. **Open Jupyter Notebook**. In the environment you just activated, run:\n",
    "```\n",
    "$ jupyter notebook &\n",
    "```\n",
    "\n",
    "## Lectures\n",
    "\n",
    "Please complete the following lectures:\n",
    "\n",
    "1. [Lecture 1](./lecture1/lecture1.ipynb)\n",
    "2. [Lecture 2](./lecture1/lecture2.ipynb)\n",
    "3. [Lecture 3](./lecture1/lecture3.ipynb)\n",
    "4. [Lecture 4](./lecture1/lecture4.ipynb)\n",
    "\n",
    "## Support\n",
    "\n",
    "If you require support, have questions, want to report a bug, or want to suggest an improvement, please raise an issue in REPO repository."
   ]
  }
 ],
 "metadata": {
  "kernelspec": {
   "display_name": "Python 3",
   "language": "python",
   "name": "python3"
  },
  "language_info": {
   "codemirror_mode": {
    "name": "ipython",
    "version": 3
   },
   "file_extension": ".py",
   "mimetype": "text/x-python",
   "name": "python",
   "nbconvert_exporter": "python",
   "pygments_lexer": "ipython3",
   "version": "3.9.5"
  }
 },
 "nbformat": 4,
 "nbformat_minor": 5
}
